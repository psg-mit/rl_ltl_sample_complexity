{
 "cells": [
  {
   "cell_type": "markdown",
   "metadata": {},
   "source": [
    "## Code Supplement of _Reinforcement Learning with General LTL Objectives Is Impossible_\n",
    "\n",
    "In this notebook, you will be able to: \n",
    "* [Reproduce the results in Section 5 and Appendix F of the paper](#paper-repro)\n",
    "* [Visualize constructed counterexample MDPs for different LTL formulas](#mdp-construction)\n",
    "\n"
   ]
  },
  {
   "cell_type": "code",
   "execution_count": 1,
   "metadata": {},
   "outputs": [],
   "source": [
    "from typing import Dict, Any, Callable, List, Optional, Union, Tuple\n",
    "\n",
    "import math\n",
    "import re\n",
    "import subprocess\n",
    "import tempfile\n",
    "import pathlib\n",
    "import dataclasses\n",
    "import textwrap\n",
    "import concurrent.futures\n",
    "import os\n",
    "import functools\n",
    "import itertools\n",
    "import collections\n",
    "import hashlib\n",
    "import json\n",
    "import numpy as np\n",
    "import matplotlib.pyplot as plt\n",
    "import matplotlib.ticker\n",
    "\n",
    "from scipy import interpolate\n",
    "\n",
    "from tqdm.notebook import tqdm_notebook as tqdm\n",
    "import inspect\n",
    "\n",
    "from IPython.display import display, Markdown\n",
    "\n",
    "import spot\n",
    "from spot.jupyter import display_inline\n",
    "spot.setup(show_default='.bans')\n",
    "\n",
    "from num2tex import num2tex\n",
    "\n",
    "import buddy\n",
    "import graphviz\n",
    "\n",
    "plt.style.use('seaborn-paper')"
   ]
  },
  {
   "cell_type": "markdown",
   "metadata": {},
   "source": [
    "# Reproduction of Empirical Results (Section 5 and Appendix F) <a class=\"anchor\" id=\"paper-repro\"></a>\n",
    "\n",
    "We first declare the main routine for estimating LTL-PAC probability under a particular setting.\n",
    "\n",
    "The routine simply calls into (a modified version of) Mungojerrie to run multiple reinforcement-learning algorithm sessions in parallel obtain a Monte Carlo estimate of the LTL-PAC probability.\n",
    "\n",
    "For documentation on Mungojerrie, please see https://plv.colorado.edu/wwwmungojerrie/docs/index.html."
   ]
  },
  {
   "cell_type": "code",
   "execution_count": 49,
   "metadata": {},
   "outputs": [],
   "source": [
    "def canonicalize_args(f):\n",
    "    \"\"\"Wrapper for functools.lru_cache() to canonicalize default                                                          \n",
    "    and keyword arguments so cache hits are maximized.\"\"\"\n",
    "\n",
    "    @functools.wraps(f)\n",
    "    def wrapper(*args, **kwargs):\n",
    "        sig = inspect.getfullargspec(f.__wrapped__)\n",
    "\n",
    "        # build newargs by filling in defaults, args, kwargs                                                            \n",
    "        newargs = [None] * len(sig.args)\n",
    "        newargs[-len(sig.defaults):] = sig.defaults\n",
    "        newargs[:len(args)] = args\n",
    "        for name, value in kwargs.items():\n",
    "            newargs[sig.args.index(name)] = value\n",
    "\n",
    "        return f(*newargs)\n",
    "\n",
    "    return wrapper\n",
    "\n",
    "class NumpyEncoder(json.JSONEncoder):\n",
    "    \"\"\" Custom encoder for numpy data types \"\"\"\n",
    "    def default(self, obj):\n",
    "        if isinstance(obj, (np.int_, np.intc, np.intp, np.int8,\n",
    "                            np.int16, np.int32, np.int64, np.uint8,\n",
    "                            np.uint16, np.uint32, np.uint64)):\n",
    "\n",
    "            return int(obj)\n",
    "\n",
    "        elif isinstance(obj, (np.float_, np.float16, np.float32, np.float64)):\n",
    "            return float(obj.asttype(np.float32))\n",
    "\n",
    "        elif isinstance(obj, (np.complex_, np.complex64, np.complex128)):\n",
    "            return {'real': obj.real, 'imag': obj.imag}\n",
    "\n",
    "        elif isinstance(obj, (np.ndarray,)):\n",
    "            return obj.tolist()\n",
    "\n",
    "        elif isinstance(obj, (np.bool_)):\n",
    "            return bool(obj)\n",
    "\n",
    "        elif isinstance(obj, (np.void)): \n",
    "            return None\n",
    "\n",
    "        return json.JSONEncoder.default(self, obj)\n",
    "\n",
    "\n",
    "def persistent_memo(func):\n",
    "    cache_file = pathlib.Path(f\"{func.__name__}.cache.json\")\n",
    "    try:\n",
    "        with cache_file.open(\"r\") as f:\n",
    "            memo = json.load(f)\n",
    "    except FileNotFoundError:\n",
    "        memo = {}\n",
    "    @functools.wraps(func)\n",
    "    def wrapped(*args, **kwargs):\n",
    "        key = json.dumps((args, kwargs), sort_keys=True, cls=NumpyEncoder)\n",
    "        key_digest = hashlib.md5(key.encode(\"utf-8\")).hexdigest()\n",
    "        if key_digest not in memo:\n",
    "            result = func(*args, **kwargs)\n",
    "            memo[key_digest] = {\"args\": args, \"kwargs\": kwargs, \"result\": result}\n",
    "            with cache_file.open(\"w+\") as f:\n",
    "                json.dump(memo, f, sort_keys=True, cls=NumpyEncoder)\n",
    "        return memo[key_digest][\"result\"]\n",
    "    return wrapped\n",
    "\n",
    "\n",
    "mungojerrie_path = \"mungojerrie/build/mungojerrie\"\n",
    "\n",
    "pattern = re.compile(rf\"PAC Probability for tol (\\d+(\\.\\d*)?) is: (?P<satprob>\\d+(\\.\\d*)?)±(?P<std>\\d+(\\.\\d*)?)\")\n",
    "\n",
    "@canonicalize_args\n",
    "@persistent_memo\n",
    "def estimate_pac_probability(epsilon: float, \n",
    "                             model: str, \n",
    "                             min_num_samples: int = 100, \n",
    "                             max_est_std: float = 1e-3,\n",
    "                             reward_type: str = \"multi-discount\", \n",
    "                             discount: float = 0.99999,\n",
    "                             gammaB: float = 0.99, \n",
    "                             learn=\"Q\",\n",
    "                             lr_schedule: Union[Tuple[str, float], Tuple[str, float, float]] = (\"kkt\", 10),\n",
    "                             explore_schedule: Tuple[float, float] = (0.1, 0.1),\n",
    "                             ep_number: int = 100, \n",
    "                             ep_length: int = 10,\n",
    "                             tolerance=0.,\n",
    "                             sarsa_lambda: Optional[float] = None,\n",
    "                             model_params: Dict[str, Any] = None):\n",
    "    \"\"\"Estimate LTL-PAC probability for a specific setting, calls into Mungojerrie.\n",
    "    \n",
    "    Args:\n",
    "        epsilon: the $\\epsilon$ in LTL-PAC definition.\n",
    "        model: the environment MDP to solve for. \n",
    "               there should be two files with paths `models/{env}.prism` and `models/{env}.ltl`, specifying the\n",
    "               environment MDP in PRISM format and the LTL formula.\n",
    "        min_num_samples: minimum repeats to run for Monte Carlo estimation.\n",
    "        max_est_std: the standard deviation below which the Monte Carlo estimation should terminate.\n",
    "        reward_type: the reward scheme to use for Mungojerrie.\n",
    "        discount, gammaB, learn, ep_number, ep_length, tolerance, sarsa_lambda: see documentation of mungojerrie.\n",
    "        lr_schedule, explore_schedule: a wrapper interface for mungojerrie's learning_rate and exploration schedules. \n",
    "        model_params: the parameters to be formatted into the PRISM model (e.g., the parameter $p$ in Figure 2 of the paper).\n",
    "    \n",
    "    Returns:\n",
    "        the estimated LTL-PAC probability and its estimated standard deviation.\n",
    "    \"\"\"\n",
    "    if model_params is None:\n",
    "        model_params = {}\n",
    "    \n",
    "    with tempfile.NamedTemporaryFile(mode='w+') as tmp:\n",
    "        model_str = pathlib.Path(f\"{model}.prism\").read_text()\n",
    "        model_str = model_str.format(**model_params)\n",
    "        tmp.write(model_str)\n",
    "        tmp.flush()\n",
    "        try:\n",
    "            cmd = [\n",
    "                    mungojerrie_path, tmp.name, \n",
    "                    \"--epsilon\", \"1e-12\", # necessary for accurate model checking \n",
    "                    \"--ltl-file\", f\"{model}.ltl\",\n",
    "                    \"--learn\", learn, \n",
    "                    \"--reward-type\", reward_type, \n",
    "                    \"--discount\", str(discount),\n",
    "                    \"--gammaB\", str(gammaB),\n",
    "                    \"--tolerance\", str(tolerance), \n",
    "                    # Learning rates\n",
    "                    \"--alpha\", str(lr_schedule[1]) if lr_schedule[0] == \"linear\" else \"0.1\",\n",
    "                    \"--linear-lr-decay\", str(lr_schedule[2]) if lr_schedule[0] == \"linear\" else \"-1\",\n",
    "                    \"--kkt-lr-decay\", str(lr_schedule[1]) if lr_schedule[0] == \"kkt\" else \"-1\",\n",
    "                    # Exploration\n",
    "                    \"--explore\", str(explore_schedule[0]),\n",
    "                    \"--linear-explore-decay\", str(explore_schedule[1]),\n",
    "                    \"--ep-number\", str(ep_number),\n",
    "                    \"--ep-length\", str(ep_length),\n",
    "                    # PAC settings\n",
    "                    \"--est-pac\",\n",
    "                    \"--est-pac-probability-min-samples\", str(min_num_samples),\n",
    "                    \"--est-pac-max-std\", str(max_est_std),\n",
    "                    \"--est-pac-epsilon\", str(epsilon),\n",
    "                    \"--lambda\", str(sarsa_lambda) if sarsa_lambda else \"0\"\n",
    "                    # \"--seed\", str(2),\n",
    "            ]\n",
    "#             print(cmd)\n",
    "            output = subprocess.check_output(\n",
    "                cmd,\n",
    "                stderr=subprocess.STDOUT\n",
    "            )\n",
    "        except subprocess.CalledProcessError as exc:\n",
    "            print(\"Status : FAIL\", exc.returncode, exc.output)\n",
    "            raise exc\n",
    "    output = output.decode(\"utf-8\")\n",
    "    match = pattern.search(output)\n",
    "    pac_prob = float(match.group(\"satprob\"))\n",
    "    pac_prob_std = float(match.group(\"std\"))\n",
    "    return pac_prob, pac_prob_std"
   ]
  },
  {
   "cell_type": "markdown",
   "metadata": {},
   "source": [
    "Below we define a function that scans over a grid of settings (see Section 5 of the paper) to estimate all those setting's LTL-PAC probabilities.\n",
    "\n",
    "We also define a function for visualization of the obtained results."
   ]
  },
  {
   "cell_type": "code",
   "execution_count": 47,
   "metadata": {},
   "outputs": [],
   "source": [
    "default_ps = np.geomspace(0.1, 1e-3, num=5)\n",
    "default_ep_numbers = np.geomspace(1, 10000, num=21, dtype=int)[1:]\n",
    "default_ep_length = 10\n",
    "\n",
    "def collect_pac_probs(env: str, \n",
    "                      ps: List[float] = default_ps, \n",
    "                      ep_numbers: List[int] = default_ep_numbers,\n",
    "                      ep_length: int = default_ep_length, \n",
    "                      rl_algo: str = \"Q\", \n",
    "                      reward_type: str = \"multi-discount\", \n",
    "                      skip_after_stable: int = float(\"inf\")):\n",
    "    \"\"\"Estimate LTL-PAC probability for varying settings.\n",
    "    \n",
    "    Args:\n",
    "        env: see :py:func:`estimate_pac_probability`.\n",
    "        ps: the parameteter $p$ to the environment MDP.\n",
    "        ep_numbers: an array of $N$, the number of epsidoes, to run an algorithm for.\n",
    "        ep_length: each episode's length until an environment reset. \n",
    "            This is a hyper-parameter of reinforcement-learning algorithms in Mungojerrie.\n",
    "            `ep_length * ep_number` is the total number of samples available to an algorithm.\n",
    "        rl_algo: the learning algorithm to use for Mungojerrie. \n",
    "            Must be One of `Q` (Q-learning), `DQ`(Double Q-learning), `SL` (SARSA($\\lambda$)).\n",
    "        reward_type: the reward scheme to use for Mungojerrie.\n",
    "        skip_after_stable: skip the rest of the estimation for larger $N$, when the estimated LTL-PAC probability \n",
    "            stablizes at 1. Skipping vastly reduces computation time, but assumes an algorithm cannot do worse with \n",
    "            larger number of samples. By default this is set to `inf` which means no skipping.\n",
    "    \n",
    "    Returns:\n",
    "        a dict of estimated LTL-PAC probabilities, and a dict of their estimated standard deviations.\n",
    "    \"\"\"\n",
    "    lr_schedule = {\n",
    "        \"Q\": (\"kkt\", 10),\n",
    "        \"DQ\": (\"kkt\", 30),\n",
    "        \"SL\": (\"kkt\", 10),\n",
    "    }[rl_algo]\n",
    "\n",
    "    explore_schedule = {\n",
    "        \"Q\": (1.0, 0.1),\n",
    "        \"DQ\": (1.0, 0.1),\n",
    "        \"SL\": (1.0, 0.001),\n",
    "    }[rl_algo]\n",
    "\n",
    "    probs, errs = collections.defaultdict(list), collections.defaultdict(list)\n",
    "    for p in tqdm(ps, desc=f\"<{reward_type} | {rl_algo} > Iteration over p\"):\n",
    "        err_zero_cnt = 0\n",
    "        for ep_number in tqdm(ep_numbers, leave=False, desc=\"Iteration over N\"):\n",
    "            if err_zero_cnt < skip_after_stable:\n",
    "                prob, err = estimate_pac_probability(\n",
    "                    epsilon=0.1, \n",
    "                    model=f\"models/{env}\",\n",
    "                    model_params=dict(P=p),\n",
    "                    reward_type=reward_type,\n",
    "                    max_est_std=1e-2, \n",
    "                    discount=0.99999,\n",
    "                    gammaB=0.99,\n",
    "                    learn=rl_algo,\n",
    "                    lr_schedule=lr_schedule,\n",
    "                    explore_schedule=explore_schedule,\n",
    "                    ep_number=ep_number, \n",
    "                    ep_length=ep_length,\n",
    "                    sarsa_lambda=0.)\n",
    "#                 print(p, ep_number, prob, err)\n",
    "            if prob == 1.0 and err == 0:\n",
    "                err_zero_cnt += 1\n",
    "            else:\n",
    "                err_zero_cnt = 0\n",
    "            probs[p].append(prob)\n",
    "            errs[p].append(err)\n",
    "    \n",
    "    return probs, errs\n",
    "\n",
    "\n",
    "def interpolate_and_intersect_pac_delta(probs, \n",
    "                                        errs, \n",
    "                                        delta:float = 0.1, \n",
    "                                        ep_numbers: List[int] = default_ep_numbers, \n",
    "                                        ep_length: int = default_ep_length):\n",
    "    \"\"\"Interpolates the LTL-PAC curves (the left in Figure 3) to obtain the intercepts (the right in Figure 3).\n",
    "    \n",
    "    Args:\n",
    "        probs, errs: the estimated LTL-PAC probabilities and their standard deviations, \n",
    "                     by :py:func:`collect_pac_probs`.\n",
    "        delta: the desired LTL-PAC probability to reach. \n",
    "               For example, `delta=0.1` means we would like to intercept \n",
    "               at 0.9 LTL-PAC probability.\n",
    "        ep_numbers, ep_length: see :py:func:`collect_pac_probs`.\n",
    "    \n",
    "    Returns:\n",
    "        the intercept curves and their errors.\n",
    "    \"\"\"\n",
    "    line, lower, upper = [], [], []\n",
    "    for p in probs:\n",
    "        prob = np.array(probs[p])\n",
    "        err = np.array(errs[p])\n",
    "        try:\n",
    "            line.append(interpolate.UnivariateSpline(ep_numbers,  prob - (1 - delta), s=0).roots()[0])\n",
    "            lower.append(interpolate.UnivariateSpline(ep_numbers, prob - err * 2 - (1 - delta), s=0).roots()[0])\n",
    "            upper.append(interpolate.UnivariateSpline(ep_numbers, prob + err * 2 - (1 - delta), s=0).roots()[0])\n",
    "        except IndexError:\n",
    "            # The intercept does not exist, so we set them to +inf\n",
    "            line.append(np.inf)\n",
    "            lower.append(np.inf)\n",
    "            upper.append(np.inf)\n",
    "    return  (np.array(x) * ep_length for x in (lower, line, upper))\n",
    "\n",
    "def frexp10(x):\n",
    "    exp = int(math.floor(math.log10(abs(x))))\n",
    "    a, b = x / 10**exp, exp\n",
    "    if a == 0:\n",
    "        return \"$0$\"\n",
    "    if a == 1:\n",
    "        return f\"$10^{b}$\"\n",
    "    return f\"${a:.1f} \\\\times 10^{b}$\"\n",
    "\n",
    "def plot_pac_probs(env: str, \n",
    "                   probs, \n",
    "                   errs, \n",
    "                   ep_numbers: List[int] = default_ep_numbers,\n",
    "                   ep_length: int = default_ep_length, \n",
    "                   rl_algo: str = \"Q\", \n",
    "                   reward_type: str = \"multi-discount\", \n",
    "                   title: Optional[str]=None, \n",
    "                   delta=0.1, \n",
    "                   max_intercept_num_samples:Optional[int]=None, \n",
    "                   plot_for_paper: bool = True):\n",
    "    \"\"\"Plots the figure as in the paper's Figure 3.\"\"\"\n",
    "    if title is None:\n",
    "        with pathlib.Path(f\"models/{env}.prism\").open(\"r\") as f:\n",
    "            lines = f.readlines()\n",
    "            env_title = env\n",
    "            for line in lines:\n",
    "                m = re.match(r\"\\/\\/\\s*\\@title\\s*:\\s*(?P<env_title>[^\\n]*)\\n\", line)\n",
    "                if m:\n",
    "                    env_title = m.group(\"env_title\")\n",
    "                    break\n",
    "    \n",
    "    sample_numbers = ep_numbers * ep_length\n",
    "    if plot_for_paper:\n",
    "        plt.figure(figsize=(3.5,2.1))\n",
    "    ps = sorted(probs.keys(), reverse=True)\n",
    "    lines = []\n",
    "    linestyles = ['solid', (0, (3, 1, 1, 1, 1, 1)), 'dashdot', 'dashed', 'dotted']\n",
    "    linestyles_iter = itertools.cycle(linestyles)\n",
    "    for p in ps:\n",
    "        prob, err = map(np.array, (probs[p], errs[p]))\n",
    "        err = np.maximum(err, 1e-3) * 2 # we visualize 2 * std in the plots\n",
    "        filler = plt.fill_between(sample_numbers, prob-err, prob+err, alpha=0.4)\n",
    "        eb = plt.errorbar(sample_numbers, prob, yerr=err, linewidth=1, linestyle=next(linestyles_iter))\n",
    "        lines.append((filler, eb))\n",
    "\n",
    "    plt.gca().set_xscale(\"log\")\n",
    "    major_ticks = np.geomspace(sample_numbers[0], sample_numbers[-1], num=5, dtype=int)\n",
    "    minor_ticks = np.linspace(major_ticks[:-1], major_ticks[1:], num=6)[1:-1].T.ravel()\n",
    "    plt.gca().set_xticks(major_ticks)\n",
    "    plt.gca().set_xticklabels([frexp10(x) for x in major_ticks])\n",
    "    plt.gca().set_xticks(minor_ticks, minor=True)\n",
    "    plt.gca().set_xticklabels([], minor=True)\n",
    "    plt.gca().tick_params(which=\"major\", length=4)\n",
    "    plt.gca().tick_params(which=\"minor\", length=3)\n",
    "    plt.gca().set_xlabel(\"#samples\")\n",
    "    plt.gca().set_ylabel(\"LTL-PAC Prob.\")\n",
    "\n",
    "    plt.axhline(1 - delta, color=\"#000\", alpha=0.4, linestyle=\"--\", linewidth=0.6)\n",
    "    \n",
    "    pstex = [f\"{p:.0e}\".replace(\"-0\",\"-\") for p in ps]\n",
    "    plt.legend(lines, pstex, title=\"$p$\", handlelength=1.2, loc=\"best\")\n",
    "    rl_algo_to_name = {\"Q\": \"Q-Learning\", \"DQ\": \"Double Q-Learning\", \"SL\": \"Sarsa($0$)\"}\n",
    "    reward_type_to_name = {}\n",
    "    if title is None:\n",
    "        plt.title(f\"{env_title} | {reward_type_to_name.get(reward_type, reward_type)} | {rl_algo_to_name[rl_algo]}\")\n",
    "    elif title != \"\":\n",
    "        plt.title(title)\n",
    "    plt.gcf().tight_layout()\n",
    "    plt.gcf().savefig(f\"plots/{reward_type}-{rl_algo}-{env}\", dpi=600)\n",
    "    plt.show()\n",
    "    \n",
    "    # Plot intercept\n",
    "    lower, line, upper = interpolate_and_intersect_pac_delta(probs, errs, \n",
    "                                                             delta=delta, \n",
    "                                                             ep_numbers=ep_numbers, \n",
    "                                                             ep_length=ep_length)\n",
    "    if plot_for_paper:\n",
    "        plt.figure(figsize=(2.217,2.1))\n",
    "    plt.errorbar(range(len(ps)), line, yerr=np.array([line-lower, upper-line]), color=\"#000\", alpha=0.4)\n",
    "    plt.gca().set_xlabel(\"$p$\")\n",
    "    plt.gca().set_xticks(range(len(ps)))\n",
    "    plt.gca().set_xticklabels(pstex)\n",
    "    plt.gca().set_ylabel(\"#samples\")\n",
    "    if max_intercept_num_samples is not None:\n",
    "        plt.ylim([0, max_intercept_num_samples])\n",
    "    plt.gcf().tight_layout()\n",
    "    if title is None:\n",
    "        plt.title(f\"{env_title} | {reward_type_to_name.get(reward_type, reward_type)} | {rl_algo_to_name[rl_algo]}\")\n",
    "    elif title != \"\":\n",
    "        plt.title(title)\n",
    "    if plot_for_paper:\n",
    "        plt.gcf().savefig(f\"plots/{reward_type}-{rl_algo}-{env}-intercept-{str(delta).replace('.','_')}\", dpi=600)\n",
    "    plt.show()\n"
   ]
  },
  {
   "cell_type": "markdown",
   "metadata": {},
   "source": [
    "## Reproduction of Results in Appendix F\n",
    "\n",
    "Running the cell below reproduces results in Appendix F. \n",
    "\n",
    "It takes approximately 2 hours to finish all the experiments. \n",
    "For quick reproduction, you may want to run for less `reward_types` and `rl_algos`.\n",
    "\n",
    "Note that the code caches previously ran experiments, so it's ok to interrupt and re-execute any time.\n",
    "If you are using Docker, the cache is recreated for every new container launch (meaning that by default, caches are cleared if you exit Docker).\n",
    "If you are in your own environment, the cache is stored at `estimate_pac_probability.cache.json`. You may delete or rename this file to fully re-execute a reproduction.\n",
    "\n",
    "Also note that due to multi-threading's non-determinism, the results might not look exactly the same as we report in the paper. However, the difference should be minimal since we always repeat enough simulations until the standard deviation of the estimate is within $0.01$. "
   ]
  },
  {
   "cell_type": "code",
   "execution_count": 129,
   "metadata": {},
   "outputs": [
    {
     "data": {
      "application/vnd.jupyter.widget-view+json": {
       "model_id": "66cc7886db0b4daf97e3a74eaf247c49",
       "version_major": 2,
       "version_minor": 0
      },
      "text/plain": [
       "<zeta-reach | Q > Iteration over p:   0%|          | 0/5 [00:00<?, ?it/s]"
      ]
     },
     "metadata": {},
     "output_type": "display_data"
    },
    {
     "data": {
      "application/vnd.jupyter.widget-view+json": {
       "model_id": "",
       "version_major": 2,
       "version_minor": 0
      },
      "text/plain": [
       "Iteration over N:   0%|          | 0/20 [00:00<?, ?it/s]"
      ]
     },
     "metadata": {},
     "output_type": "display_data"
    },
    {
     "data": {
      "application/vnd.jupyter.widget-view+json": {
       "model_id": "",
       "version_major": 2,
       "version_minor": 0
      },
      "text/plain": [
       "Iteration over N:   0%|          | 0/20 [00:00<?, ?it/s]"
      ]
     },
     "metadata": {},
     "output_type": "display_data"
    },
    {
     "data": {
      "application/vnd.jupyter.widget-view+json": {
       "model_id": "",
       "version_major": 2,
       "version_minor": 0
      },
      "text/plain": [
       "Iteration over N:   0%|          | 0/20 [00:00<?, ?it/s]"
      ]
     },
     "metadata": {},
     "output_type": "display_data"
    },
    {
     "data": {
      "application/vnd.jupyter.widget-view+json": {
       "model_id": "",
       "version_major": 2,
       "version_minor": 0
      },
      "text/plain": [
       "Iteration over N:   0%|          | 0/20 [00:00<?, ?it/s]"
      ]
     },
     "metadata": {},
     "output_type": "display_data"
    },
    {
     "data": {
      "application/vnd.jupyter.widget-view+json": {
       "model_id": "",
       "version_major": 2,
       "version_minor": 0
      },
      "text/plain": [
       "Iteration over N:   0%|          | 0/20 [00:00<?, ?it/s]"
      ]
     },
     "metadata": {},
     "output_type": "display_data"
    },
    {
     "data": {
      "image/png": "[encoded data removed]",
      "text/plain": [
       "<Figure size 252x151.2 with 1 Axes>"
      ]
     },
     "metadata": {
      "needs_background": "light"
     },
     "output_type": "display_data"
    },
    {
     "data": {
      "image/png": "[encoded data removed]",
      "text/plain": [
       "<Figure size 159.624x151.2 with 1 Axes>"
      ]
     },
     "metadata": {
      "needs_background": "light"
     },
     "output_type": "display_data"
    },
    {
     "data": {
      "application/vnd.jupyter.widget-view+json": {
       "model_id": "c815b32628f3475cb44b1a0fbc5dcd01",
       "version_major": 2,
       "version_minor": 0
      },
      "text/plain": [
       "<zeta-acc | Q > Iteration over p:   0%|          | 0/5 [00:00<?, ?it/s]"
      ]
     },
     "metadata": {},
     "output_type": "display_data"
    },
    {
     "data": {
      "application/vnd.jupyter.widget-view+json": {
       "model_id": "",
       "version_major": 2,
       "version_minor": 0
      },
      "text/plain": [
       "Iteration over N:   0%|          | 0/20 [00:00<?, ?it/s]"
      ]
     },
     "metadata": {},
     "output_type": "display_data"
    },
    {
     "data": {
      "application/vnd.jupyter.widget-view+json": {
       "model_id": "",
       "version_major": 2,
       "version_minor": 0
      },
      "text/plain": [
       "Iteration over N:   0%|          | 0/20 [00:00<?, ?it/s]"
      ]
     },
     "metadata": {},
     "output_type": "display_data"
    },
    {
     "data": {
      "application/vnd.jupyter.widget-view+json": {
       "model_id": "",
       "version_major": 2,
       "version_minor": 0
      },
      "text/plain": [
       "Iteration over N:   0%|          | 0/20 [00:00<?, ?it/s]"
      ]
     },
     "metadata": {},
     "output_type": "display_data"
    },
    {
     "data": {
      "application/vnd.jupyter.widget-view+json": {
       "model_id": "",
       "version_major": 2,
       "version_minor": 0
      },
      "text/plain": [
       "Iteration over N:   0%|          | 0/20 [00:00<?, ?it/s]"
      ]
     },
     "metadata": {},
     "output_type": "display_data"
    },
    {
     "data": {
      "application/vnd.jupyter.widget-view+json": {
       "model_id": "",
       "version_major": 2,
       "version_minor": 0
      },
      "text/plain": [
       "Iteration over N:   0%|          | 0/20 [00:00<?, ?it/s]"
      ]
     },
     "metadata": {},
     "output_type": "display_data"
    },
    {
     "data": {
      "image/png": "[encoded data removed]",
      "text/plain": [
       "<Figure size 252x151.2 with 1 Axes>"
      ]
     },
     "metadata": {
      "needs_background": "light"
     },
     "output_type": "display_data"
    },
    {
     "data": {
      "image/png": "[encoded data removed]",
      "text/plain": [
       "<Figure size 159.624x151.2 with 1 Axes>"
      ]
     },
     "metadata": {
      "needs_background": "light"
     },
     "output_type": "display_data"
    },
    {
     "data": {
      "application/vnd.jupyter.widget-view+json": {
       "model_id": "92b31334c3f74496b13c59fc518cc872",
       "version_major": 2,
       "version_minor": 0
      },
      "text/plain": [
       "<zeta-discount | Q > Iteration over p:   0%|          | 0/5 [00:00<?, ?it/s]"
      ]
     },
     "metadata": {},
     "output_type": "display_data"
    },
    {
     "data": {
      "application/vnd.jupyter.widget-view+json": {
       "model_id": "",
       "version_major": 2,
       "version_minor": 0
      },
      "text/plain": [
       "Iteration over N:   0%|          | 0/20 [00:00<?, ?it/s]"
      ]
     },
     "metadata": {},
     "output_type": "display_data"
    },
    {
     "data": {
      "application/vnd.jupyter.widget-view+json": {
       "model_id": "",
       "version_major": 2,
       "version_minor": 0
      },
      "text/plain": [
       "Iteration over N:   0%|          | 0/20 [00:00<?, ?it/s]"
      ]
     },
     "metadata": {},
     "output_type": "display_data"
    },
    {
     "data": {
      "application/vnd.jupyter.widget-view+json": {
       "model_id": "",
       "version_major": 2,
       "version_minor": 0
      },
      "text/plain": [
       "Iteration over N:   0%|          | 0/20 [00:00<?, ?it/s]"
      ]
     },
     "metadata": {},
     "output_type": "display_data"
    },
    {
     "data": {
      "application/vnd.jupyter.widget-view+json": {
       "model_id": "",
       "version_major": 2,
       "version_minor": 0
      },
      "text/plain": [
       "Iteration over N:   0%|          | 0/20 [00:00<?, ?it/s]"
      ]
     },
     "metadata": {},
     "output_type": "display_data"
    },
    {
     "data": {
      "application/vnd.jupyter.widget-view+json": {
       "model_id": "",
       "version_major": 2,
       "version_minor": 0
      },
      "text/plain": [
       "Iteration over N:   0%|          | 0/20 [00:00<?, ?it/s]"
      ]
     },
     "metadata": {},
     "output_type": "display_data"
    },
    {
     "data": {
      "image/png": "[encoded data removed]",
      "text/plain": [
       "<Figure size 252x151.2 with 1 Axes>"
      ]
     },
     "metadata": {
      "needs_background": "light"
     },
     "output_type": "display_data"
    },
    {
     "data": {
      "image/png": "[encoded data removed]",
      "text/plain": [
       "<Figure size 159.624x151.2 with 1 Axes>"
      ]
     },
     "metadata": {
      "needs_background": "light"
     },
     "output_type": "display_data"
    },
    {
     "data": {
      "application/vnd.jupyter.widget-view+json": {
       "model_id": "c519233c3352453e91162715edd1acc1",
       "version_major": 2,
       "version_minor": 0
      },
      "text/plain": [
       "<multi-discount | Q > Iteration over p:   0%|          | 0/5 [00:00<?, ?it/s]"
      ]
     },
     "metadata": {},
     "output_type": "display_data"
    },
    {
     "data": {
      "application/vnd.jupyter.widget-view+json": {
       "model_id": "",
       "version_major": 2,
       "version_minor": 0
      },
      "text/plain": [
       "Iteration over N:   0%|          | 0/20 [00:00<?, ?it/s]"
      ]
     },
     "metadata": {},
     "output_type": "display_data"
    },
    {
     "data": {
      "application/vnd.jupyter.widget-view+json": {
       "model_id": "",
       "version_major": 2,
       "version_minor": 0
      },
      "text/plain": [
       "Iteration over N:   0%|          | 0/20 [00:00<?, ?it/s]"
      ]
     },
     "metadata": {},
     "output_type": "display_data"
    },
    {
     "data": {
      "application/vnd.jupyter.widget-view+json": {
       "model_id": "",
       "version_major": 2,
       "version_minor": 0
      },
      "text/plain": [
       "Iteration over N:   0%|          | 0/20 [00:00<?, ?it/s]"
      ]
     },
     "metadata": {},
     "output_type": "display_data"
    },
    {
     "data": {
      "application/vnd.jupyter.widget-view+json": {
       "model_id": "",
       "version_major": 2,
       "version_minor": 0
      },
      "text/plain": [
       "Iteration over N:   0%|          | 0/20 [00:00<?, ?it/s]"
      ]
     },
     "metadata": {},
     "output_type": "display_data"
    },
    {
     "data": {
      "application/vnd.jupyter.widget-view+json": {
       "model_id": "",
       "version_major": 2,
       "version_minor": 0
      },
      "text/plain": [
       "Iteration over N:   0%|          | 0/20 [00:00<?, ?it/s]"
      ]
     },
     "metadata": {},
     "output_type": "display_data"
    },
    {
     "data": {
      "image/png": "[encoded data removed]",
      "text/plain": [
       "<Figure size 252x151.2 with 1 Axes>"
      ]
     },
     "metadata": {
      "needs_background": "light"
     },
     "output_type": "display_data"
    },
    {
     "data": {
      "image/png": "[encoded data removed]",
      "text/plain": [
       "<Figure size 159.624x151.2 with 1 Axes>"
      ]
     },
     "metadata": {
      "needs_background": "light"
     },
     "output_type": "display_data"
    },
    {
     "data": {
      "application/vnd.jupyter.widget-view+json": {
       "model_id": "0e986d11daad4f6886ab77ec036fa16e",
       "version_major": 2,
       "version_minor": 0
      },
      "text/plain": [
       "<reward-on-acc | Q > Iteration over p:   0%|          | 0/5 [00:00<?, ?it/s]"
      ]
     },
     "metadata": {},
     "output_type": "display_data"
    },
    {
     "data": {
      "application/vnd.jupyter.widget-view+json": {
       "model_id": "",
       "version_major": 2,
       "version_minor": 0
      },
      "text/plain": [
       "Iteration over N:   0%|          | 0/20 [00:00<?, ?it/s]"
      ]
     },
     "metadata": {},
     "output_type": "display_data"
    },
    {
     "data": {
      "application/vnd.jupyter.widget-view+json": {
       "model_id": "",
       "version_major": 2,
       "version_minor": 0
      },
      "text/plain": [
       "Iteration over N:   0%|          | 0/20 [00:00<?, ?it/s]"
      ]
     },
     "metadata": {},
     "output_type": "display_data"
    },
    {
     "data": {
      "application/vnd.jupyter.widget-view+json": {
       "model_id": "",
       "version_major": 2,
       "version_minor": 0
      },
      "text/plain": [
       "Iteration over N:   0%|          | 0/20 [00:00<?, ?it/s]"
      ]
     },
     "metadata": {},
     "output_type": "display_data"
    },
    {
     "data": {
      "application/vnd.jupyter.widget-view+json": {
       "model_id": "",
       "version_major": 2,
       "version_minor": 0
      },
      "text/plain": [
       "Iteration over N:   0%|          | 0/20 [00:00<?, ?it/s]"
      ]
     },
     "metadata": {},
     "output_type": "display_data"
    },
    {
     "data": {
      "application/vnd.jupyter.widget-view+json": {
       "model_id": "",
       "version_major": 2,
       "version_minor": 0
      },
      "text/plain": [
       "Iteration over N:   0%|          | 0/20 [00:00<?, ?it/s]"
      ]
     },
     "metadata": {},
     "output_type": "display_data"
    },
    {
     "data": {
      "image/png": "[encoded data removed]",
      "text/plain": [
       "<Figure size 252x151.2 with 1 Axes>"
      ]
     },
     "metadata": {
      "needs_background": "light"
     },
     "output_type": "display_data"
    },
    {
     "data": {
      "image/png": "[encoded data removed]",
      "text/plain": [
       "<Figure size 159.624x151.2 with 1 Axes>"
      ]
     },
     "metadata": {
      "needs_background": "light"
     },
     "output_type": "display_data"
    },
    {
     "data": {
      "application/vnd.jupyter.widget-view+json": {
       "model_id": "eb219158db3f4899993a10a4ad543923",
       "version_major": 2,
       "version_minor": 0
      },
      "text/plain": [
       "<zeta-reach | DQ > Iteration over p:   0%|          | 0/5 [00:00<?, ?it/s]"
      ]
     },
     "metadata": {},
     "output_type": "display_data"
    },
    {
     "data": {
      "application/vnd.jupyter.widget-view+json": {
       "model_id": "",
       "version_major": 2,
       "version_minor": 0
      },
      "text/plain": [
       "Iteration over N:   0%|          | 0/20 [00:00<?, ?it/s]"
      ]
     },
     "metadata": {},
     "output_type": "display_data"
    },
    {
     "data": {
      "application/vnd.jupyter.widget-view+json": {
       "model_id": "",
       "version_major": 2,
       "version_minor": 0
      },
      "text/plain": [
       "Iteration over N:   0%|          | 0/20 [00:00<?, ?it/s]"
      ]
     },
     "metadata": {},
     "output_type": "display_data"
    },
    {
     "data": {
      "application/vnd.jupyter.widget-view+json": {
       "model_id": "",
       "version_major": 2,
       "version_minor": 0
      },
      "text/plain": [
       "Iteration over N:   0%|          | 0/20 [00:00<?, ?it/s]"
      ]
     },
     "metadata": {},
     "output_type": "display_data"
    },
    {
     "data": {
      "application/vnd.jupyter.widget-view+json": {
       "model_id": "",
       "version_major": 2,
       "version_minor": 0
      },
      "text/plain": [
       "Iteration over N:   0%|          | 0/20 [00:00<?, ?it/s]"
      ]
     },
     "metadata": {},
     "output_type": "display_data"
    },
    {
     "data": {
      "application/vnd.jupyter.widget-view+json": {
       "model_id": "",
       "version_major": 2,
       "version_minor": 0
      },
      "text/plain": [
       "Iteration over N:   0%|          | 0/20 [00:00<?, ?it/s]"
      ]
     },
     "metadata": {},
     "output_type": "display_data"
    },
    {
     "data": {
      "image/png": "[encoded data removed]",
      "text/plain": [
       "<Figure size 252x151.2 with 1 Axes>"
      ]
     },
     "metadata": {
      "needs_background": "light"
     },
     "output_type": "display_data"
    },
    {
     "data": {
      "image/png": "[encoded data removed]",
      "text/plain": [
       "<Figure size 159.624x151.2 with 1 Axes>"
      ]
     },
     "metadata": {
      "needs_background": "light"
     },
     "output_type": "display_data"
    },
    {
     "data": {
      "application/vnd.jupyter.widget-view+json": {
       "model_id": "c53c75e41dbc410a9ecde802dcaa2fce",
       "version_major": 2,
       "version_minor": 0
      },
      "text/plain": [
       "<zeta-acc | DQ > Iteration over p:   0%|          | 0/5 [00:00<?, ?it/s]"
      ]
     },
     "metadata": {},
     "output_type": "display_data"
    },
    {
     "data": {
      "application/vnd.jupyter.widget-view+json": {
       "model_id": "",
       "version_major": 2,
       "version_minor": 0
      },
      "text/plain": [
       "Iteration over N:   0%|          | 0/20 [00:00<?, ?it/s]"
      ]
     },
     "metadata": {},
     "output_type": "display_data"
    },
    {
     "data": {
      "application/vnd.jupyter.widget-view+json": {
       "model_id": "",
       "version_major": 2,
       "version_minor": 0
      },
      "text/plain": [
       "Iteration over N:   0%|          | 0/20 [00:00<?, ?it/s]"
      ]
     },
     "metadata": {},
     "output_type": "display_data"
    },
    {
     "data": {
      "application/vnd.jupyter.widget-view+json": {
       "model_id": "",
       "version_major": 2,
       "version_minor": 0
      },
      "text/plain": [
       "Iteration over N:   0%|          | 0/20 [00:00<?, ?it/s]"
      ]
     },
     "metadata": {},
     "output_type": "display_data"
    },
    {
     "data": {
      "application/vnd.jupyter.widget-view+json": {
       "model_id": "",
       "version_major": 2,
       "version_minor": 0
      },
      "text/plain": [
       "Iteration over N:   0%|          | 0/20 [00:00<?, ?it/s]"
      ]
     },
     "metadata": {},
     "output_type": "display_data"
    },
    {
     "data": {
      "application/vnd.jupyter.widget-view+json": {
       "model_id": "",
       "version_major": 2,
       "version_minor": 0
      },
      "text/plain": [
       "Iteration over N:   0%|          | 0/20 [00:00<?, ?it/s]"
      ]
     },
     "metadata": {},
     "output_type": "display_data"
    },
    {
     "data": {
      "image/png": "[encoded data removed]",
      "text/plain": [
       "<Figure size 252x151.2 with 1 Axes>"
      ]
     },
     "metadata": {
      "needs_background": "light"
     },
     "output_type": "display_data"
    },
    {
     "data": {
      "image/png": "[encoded data removed]",
      "text/plain": [
       "<Figure size 159.624x151.2 with 1 Axes>"
      ]
     },
     "metadata": {
      "needs_background": "light"
     },
     "output_type": "display_data"
    },
    {
     "data": {
      "application/vnd.jupyter.widget-view+json": {
       "model_id": "49f09daaa745496ba084d1cf2a48e2bf",
       "version_major": 2,
       "version_minor": 0
      },
      "text/plain": [
       "<zeta-discount | DQ > Iteration over p:   0%|          | 0/5 [00:00<?, ?it/s]"
      ]
     },
     "metadata": {},
     "output_type": "display_data"
    },
    {
     "data": {
      "application/vnd.jupyter.widget-view+json": {
       "model_id": "",
       "version_major": 2,
       "version_minor": 0
      },
      "text/plain": [
       "Iteration over N:   0%|          | 0/20 [00:00<?, ?it/s]"
      ]
     },
     "metadata": {},
     "output_type": "display_data"
    },
    {
     "data": {
      "application/vnd.jupyter.widget-view+json": {
       "model_id": "",
       "version_major": 2,
       "version_minor": 0
      },
      "text/plain": [
       "Iteration over N:   0%|          | 0/20 [00:00<?, ?it/s]"
      ]
     },
     "metadata": {},
     "output_type": "display_data"
    },
    {
     "data": {
      "application/vnd.jupyter.widget-view+json": {
       "model_id": "",
       "version_major": 2,
       "version_minor": 0
      },
      "text/plain": [
       "Iteration over N:   0%|          | 0/20 [00:00<?, ?it/s]"
      ]
     },
     "metadata": {},
     "output_type": "display_data"
    },
    {
     "data": {
      "application/vnd.jupyter.widget-view+json": {
       "model_id": "",
       "version_major": 2,
       "version_minor": 0
      },
      "text/plain": [
       "Iteration over N:   0%|          | 0/20 [00:00<?, ?it/s]"
      ]
     },
     "metadata": {},
     "output_type": "display_data"
    },
    {
     "data": {
      "application/vnd.jupyter.widget-view+json": {
       "model_id": "",
       "version_major": 2,
       "version_minor": 0
      },
      "text/plain": [
       "Iteration over N:   0%|          | 0/20 [00:00<?, ?it/s]"
      ]
     },
     "metadata": {},
     "output_type": "display_data"
    },
    {
     "data": {
      "image/png": "[encoded data removed]",
      "text/plain": [
       "<Figure size 252x151.2 with 1 Axes>"
      ]
     },
     "metadata": {
      "needs_background": "light"
     },
     "output_type": "display_data"
    },
    {
     "data": {
      "image/png": "[encoded data removed]",
      "text/plain": [
       "<Figure size 159.624x151.2 with 1 Axes>"
      ]
     },
     "metadata": {
      "needs_background": "light"
     },
     "output_type": "display_data"
    },
    {
     "data": {
      "application/vnd.jupyter.widget-view+json": {
       "model_id": "a23c84451d9d4e2cb2141075d46c3736",
       "version_major": 2,
       "version_minor": 0
      },
      "text/plain": [
       "<multi-discount | DQ > Iteration over p:   0%|          | 0/5 [00:00<?, ?it/s]"
      ]
     },
     "metadata": {},
     "output_type": "display_data"
    },
    {
     "data": {
      "application/vnd.jupyter.widget-view+json": {
       "model_id": "",
       "version_major": 2,
       "version_minor": 0
      },
      "text/plain": [
       "Iteration over N:   0%|          | 0/20 [00:00<?, ?it/s]"
      ]
     },
     "metadata": {},
     "output_type": "display_data"
    },
    {
     "data": {
      "application/vnd.jupyter.widget-view+json": {
       "model_id": "",
       "version_major": 2,
       "version_minor": 0
      },
      "text/plain": [
       "Iteration over N:   0%|          | 0/20 [00:00<?, ?it/s]"
      ]
     },
     "metadata": {},
     "output_type": "display_data"
    },
    {
     "data": {
      "application/vnd.jupyter.widget-view+json": {
       "model_id": "",
       "version_major": 2,
       "version_minor": 0
      },
      "text/plain": [
       "Iteration over N:   0%|          | 0/20 [00:00<?, ?it/s]"
      ]
     },
     "metadata": {},
     "output_type": "display_data"
    },
    {
     "data": {
      "application/vnd.jupyter.widget-view+json": {
       "model_id": "",
       "version_major": 2,
       "version_minor": 0
      },
      "text/plain": [
       "Iteration over N:   0%|          | 0/20 [00:00<?, ?it/s]"
      ]
     },
     "metadata": {},
     "output_type": "display_data"
    },
    {
     "data": {
      "application/vnd.jupyter.widget-view+json": {
       "model_id": "",
       "version_major": 2,
       "version_minor": 0
      },
      "text/plain": [
       "Iteration over N:   0%|          | 0/20 [00:00<?, ?it/s]"
      ]
     },
     "metadata": {},
     "output_type": "display_data"
    },
    {
     "data": {
      "image/png": "[encoded data removed]",
      "text/plain": [
       "<Figure size 252x151.2 with 1 Axes>"
      ]
     },
     "metadata": {
      "needs_background": "light"
     },
     "output_type": "display_data"
    },
    {
     "data": {
      "image/png": "[encoded data removed]",
      "text/plain": [
       "<Figure size 159.624x151.2 with 1 Axes>"
      ]
     },
     "metadata": {
      "needs_background": "light"
     },
     "output_type": "display_data"
    },
    {
     "data": {
      "application/vnd.jupyter.widget-view+json": {
       "model_id": "b84eadbcdeab439daef547f1e025a039",
       "version_major": 2,
       "version_minor": 0
      },
      "text/plain": [
       "<reward-on-acc | DQ > Iteration over p:   0%|          | 0/5 [00:00<?, ?it/s]"
      ]
     },
     "metadata": {},
     "output_type": "display_data"
    },
    {
     "data": {
      "application/vnd.jupyter.widget-view+json": {
       "model_id": "",
       "version_major": 2,
       "version_minor": 0
      },
      "text/plain": [
       "Iteration over N:   0%|          | 0/20 [00:00<?, ?it/s]"
      ]
     },
     "metadata": {},
     "output_type": "display_data"
    },
    {
     "data": {
      "application/vnd.jupyter.widget-view+json": {
       "model_id": "",
       "version_major": 2,
       "version_minor": 0
      },
      "text/plain": [
       "Iteration over N:   0%|          | 0/20 [00:00<?, ?it/s]"
      ]
     },
     "metadata": {},
     "output_type": "display_data"
    },
    {
     "data": {
      "application/vnd.jupyter.widget-view+json": {
       "model_id": "",
       "version_major": 2,
       "version_minor": 0
      },
      "text/plain": [
       "Iteration over N:   0%|          | 0/20 [00:00<?, ?it/s]"
      ]
     },
     "metadata": {},
     "output_type": "display_data"
    },
    {
     "data": {
      "application/vnd.jupyter.widget-view+json": {
       "model_id": "",
       "version_major": 2,
       "version_minor": 0
      },
      "text/plain": [
       "Iteration over N:   0%|          | 0/20 [00:00<?, ?it/s]"
      ]
     },
     "metadata": {},
     "output_type": "display_data"
    },
    {
     "data": {
      "application/vnd.jupyter.widget-view+json": {
       "model_id": "",
       "version_major": 2,
       "version_minor": 0
      },
      "text/plain": [
       "Iteration over N:   0%|          | 0/20 [00:00<?, ?it/s]"
      ]
     },
     "metadata": {},
     "output_type": "display_data"
    },
    {
     "data": {
      "image/png": "[encoded data removed]",
      "text/plain": [
       "<Figure size 252x151.2 with 1 Axes>"
      ]
     },
     "metadata": {
      "needs_background": "light"
     },
     "output_type": "display_data"
    },
    {
     "data": {
      "image/png": "[encoded data removed]",
      "text/plain": [
       "<Figure size 159.624x151.2 with 1 Axes>"
      ]
     },
     "metadata": {
      "needs_background": "light"
     },
     "output_type": "display_data"
    },
    {
     "data": {
      "application/vnd.jupyter.widget-view+json": {
       "model_id": "faa22f69ad2e48868794e248d10db96a",
       "version_major": 2,
       "version_minor": 0
      },
      "text/plain": [
       "<zeta-reach | SL > Iteration over p:   0%|          | 0/5 [00:00<?, ?it/s]"
      ]
     },
     "metadata": {},
     "output_type": "display_data"
    },
    {
     "data": {
      "application/vnd.jupyter.widget-view+json": {
       "model_id": "",
       "version_major": 2,
       "version_minor": 0
      },
      "text/plain": [
       "Iteration over N:   0%|          | 0/20 [00:00<?, ?it/s]"
      ]
     },
     "metadata": {},
     "output_type": "display_data"
    },
    {
     "data": {
      "application/vnd.jupyter.widget-view+json": {
       "model_id": "",
       "version_major": 2,
       "version_minor": 0
      },
      "text/plain": [
       "Iteration over N:   0%|          | 0/20 [00:00<?, ?it/s]"
      ]
     },
     "metadata": {},
     "output_type": "display_data"
    },
    {
     "data": {
      "application/vnd.jupyter.widget-view+json": {
       "model_id": "",
       "version_major": 2,
       "version_minor": 0
      },
      "text/plain": [
       "Iteration over N:   0%|          | 0/20 [00:00<?, ?it/s]"
      ]
     },
     "metadata": {},
     "output_type": "display_data"
    },
    {
     "data": {
      "application/vnd.jupyter.widget-view+json": {
       "model_id": "",
       "version_major": 2,
       "version_minor": 0
      },
      "text/plain": [
       "Iteration over N:   0%|          | 0/20 [00:00<?, ?it/s]"
      ]
     },
     "metadata": {},
     "output_type": "display_data"
    },
    {
     "data": {
      "application/vnd.jupyter.widget-view+json": {
       "model_id": "",
       "version_major": 2,
       "version_minor": 0
      },
      "text/plain": [
       "Iteration over N:   0%|          | 0/20 [00:00<?, ?it/s]"
      ]
     },
     "metadata": {},
     "output_type": "display_data"
    },
    {
     "data": {
      "image/png": "[encoded data removed]",
      "text/plain": [
       "<Figure size 252x151.2 with 1 Axes>"
      ]
     },
     "metadata": {
      "needs_background": "light"
     },
     "output_type": "display_data"
    },
    {
     "data": {
      "image/png": "[encoded data removed]",
      "text/plain": [
       "<Figure size 159.624x151.2 with 1 Axes>"
      ]
     },
     "metadata": {
      "needs_background": "light"
     },
     "output_type": "display_data"
    },
    {
     "data": {
      "application/vnd.jupyter.widget-view+json": {
       "model_id": "5f7e48b25c984292ba87822eaab3d466",
       "version_major": 2,
       "version_minor": 0
      },
      "text/plain": [
       "<zeta-acc | SL > Iteration over p:   0%|          | 0/5 [00:00<?, ?it/s]"
      ]
     },
     "metadata": {},
     "output_type": "display_data"
    },
    {
     "data": {
      "application/vnd.jupyter.widget-view+json": {
       "model_id": "",
       "version_major": 2,
       "version_minor": 0
      },
      "text/plain": [
       "Iteration over N:   0%|          | 0/20 [00:00<?, ?it/s]"
      ]
     },
     "metadata": {},
     "output_type": "display_data"
    },
    {
     "data": {
      "application/vnd.jupyter.widget-view+json": {
       "model_id": "",
       "version_major": 2,
       "version_minor": 0
      },
      "text/plain": [
       "Iteration over N:   0%|          | 0/20 [00:00<?, ?it/s]"
      ]
     },
     "metadata": {},
     "output_type": "display_data"
    },
    {
     "data": {
      "application/vnd.jupyter.widget-view+json": {
       "model_id": "",
       "version_major": 2,
       "version_minor": 0
      },
      "text/plain": [
       "Iteration over N:   0%|          | 0/20 [00:00<?, ?it/s]"
      ]
     },
     "metadata": {},
     "output_type": "display_data"
    },
    {
     "data": {
      "application/vnd.jupyter.widget-view+json": {
       "model_id": "",
       "version_major": 2,
       "version_minor": 0
      },
      "text/plain": [
       "Iteration over N:   0%|          | 0/20 [00:00<?, ?it/s]"
      ]
     },
     "metadata": {},
     "output_type": "display_data"
    },
    {
     "data": {
      "application/vnd.jupyter.widget-view+json": {
       "model_id": "",
       "version_major": 2,
       "version_minor": 0
      },
      "text/plain": [
       "Iteration over N:   0%|          | 0/20 [00:00<?, ?it/s]"
      ]
     },
     "metadata": {},
     "output_type": "display_data"
    },
    {
     "data": {
      "image/png": "[encoded data removed]",
      "text/plain": [
       "<Figure size 252x151.2 with 1 Axes>"
      ]
     },
     "metadata": {
      "needs_background": "light"
     },
     "output_type": "display_data"
    },
    {
     "data": {
      "image/png": "[encoded data removed]",
      "text/plain": [
       "<Figure size 159.624x151.2 with 1 Axes>"
      ]
     },
     "metadata": {
      "needs_background": "light"
     },
     "output_type": "display_data"
    },
    {
     "data": {
      "application/vnd.jupyter.widget-view+json": {
       "model_id": "36662c416ea84363996c6de6cb6df14b",
       "version_major": 2,
       "version_minor": 0
      },
      "text/plain": [
       "<zeta-discount | SL > Iteration over p:   0%|          | 0/5 [00:00<?, ?it/s]"
      ]
     },
     "metadata": {},
     "output_type": "display_data"
    },
    {
     "data": {
      "application/vnd.jupyter.widget-view+json": {
       "model_id": "",
       "version_major": 2,
       "version_minor": 0
      },
      "text/plain": [
       "Iteration over N:   0%|          | 0/20 [00:00<?, ?it/s]"
      ]
     },
     "metadata": {},
     "output_type": "display_data"
    },
    {
     "data": {
      "application/vnd.jupyter.widget-view+json": {
       "model_id": "",
       "version_major": 2,
       "version_minor": 0
      },
      "text/plain": [
       "Iteration over N:   0%|          | 0/20 [00:00<?, ?it/s]"
      ]
     },
     "metadata": {},
     "output_type": "display_data"
    },
    {
     "data": {
      "application/vnd.jupyter.widget-view+json": {
       "model_id": "",
       "version_major": 2,
       "version_minor": 0
      },
      "text/plain": [
       "Iteration over N:   0%|          | 0/20 [00:00<?, ?it/s]"
      ]
     },
     "metadata": {},
     "output_type": "display_data"
    },
    {
     "data": {
      "application/vnd.jupyter.widget-view+json": {
       "model_id": "",
       "version_major": 2,
       "version_minor": 0
      },
      "text/plain": [
       "Iteration over N:   0%|          | 0/20 [00:00<?, ?it/s]"
      ]
     },
     "metadata": {},
     "output_type": "display_data"
    },
    {
     "data": {
      "application/vnd.jupyter.widget-view+json": {
       "model_id": "",
       "version_major": 2,
       "version_minor": 0
      },
      "text/plain": [
       "Iteration over N:   0%|          | 0/20 [00:00<?, ?it/s]"
      ]
     },
     "metadata": {},
     "output_type": "display_data"
    },
    {
     "data": {
      "image/png": "[encoded data removed]",
      "text/plain": [
       "<Figure size 252x151.2 with 1 Axes>"
      ]
     },
     "metadata": {
      "needs_background": "light"
     },
     "output_type": "display_data"
    },
    {
     "data": {
      "image/png": "[encoded data removed]",
      "text/plain": [
       "<Figure size 159.624x151.2 with 1 Axes>"
      ]
     },
     "metadata": {
      "needs_background": "light"
     },
     "output_type": "display_data"
    },
    {
     "data": {
      "application/vnd.jupyter.widget-view+json": {
       "model_id": "96260a0359d745acb73b737bcac5ed27",
       "version_major": 2,
       "version_minor": 0
      },
      "text/plain": [
       "<multi-discount | SL > Iteration over p:   0%|          | 0/5 [00:00<?, ?it/s]"
      ]
     },
     "metadata": {},
     "output_type": "display_data"
    },
    {
     "data": {
      "application/vnd.jupyter.widget-view+json": {
       "model_id": "",
       "version_major": 2,
       "version_minor": 0
      },
      "text/plain": [
       "Iteration over N:   0%|          | 0/20 [00:00<?, ?it/s]"
      ]
     },
     "metadata": {},
     "output_type": "display_data"
    },
    {
     "data": {
      "application/vnd.jupyter.widget-view+json": {
       "model_id": "",
       "version_major": 2,
       "version_minor": 0
      },
      "text/plain": [
       "Iteration over N:   0%|          | 0/20 [00:00<?, ?it/s]"
      ]
     },
     "metadata": {},
     "output_type": "display_data"
    },
    {
     "data": {
      "application/vnd.jupyter.widget-view+json": {
       "model_id": "",
       "version_major": 2,
       "version_minor": 0
      },
      "text/plain": [
       "Iteration over N:   0%|          | 0/20 [00:00<?, ?it/s]"
      ]
     },
     "metadata": {},
     "output_type": "display_data"
    },
    {
     "data": {
      "application/vnd.jupyter.widget-view+json": {
       "model_id": "",
       "version_major": 2,
       "version_minor": 0
      },
      "text/plain": [
       "Iteration over N:   0%|          | 0/20 [00:00<?, ?it/s]"
      ]
     },
     "metadata": {},
     "output_type": "display_data"
    },
    {
     "data": {
      "application/vnd.jupyter.widget-view+json": {
       "model_id": "",
       "version_major": 2,
       "version_minor": 0
      },
      "text/plain": [
       "Iteration over N:   0%|          | 0/20 [00:00<?, ?it/s]"
      ]
     },
     "metadata": {},
     "output_type": "display_data"
    },
    {
     "data": {
      "image/png": "[encoded data removed]",
      "text/plain": [
       "<Figure size 252x151.2 with 1 Axes>"
      ]
     },
     "metadata": {
      "needs_background": "light"
     },
     "output_type": "display_data"
    },
    {
     "data": {
      "image/png": "[encoded data removed]",
      "text/plain": [
       "<Figure size 159.624x151.2 with 1 Axes>"
      ]
     },
     "metadata": {
      "needs_background": "light"
     },
     "output_type": "display_data"
    },
    {
     "data": {
      "application/vnd.jupyter.widget-view+json": {
       "model_id": "ee65f1a9c98e452fa4d88683d6d304dc",
       "version_major": 2,
       "version_minor": 0
      },
      "text/plain": [
       "<reward-on-acc | SL > Iteration over p:   0%|          | 0/5 [00:00<?, ?it/s]"
      ]
     },
     "metadata": {},
     "output_type": "display_data"
    },
    {
     "data": {
      "application/vnd.jupyter.widget-view+json": {
       "model_id": "",
       "version_major": 2,
       "version_minor": 0
      },
      "text/plain": [
       "Iteration over N:   0%|          | 0/20 [00:00<?, ?it/s]"
      ]
     },
     "metadata": {},
     "output_type": "display_data"
    },
    {
     "data": {
      "application/vnd.jupyter.widget-view+json": {
       "model_id": "",
       "version_major": 2,
       "version_minor": 0
      },
      "text/plain": [
       "Iteration over N:   0%|          | 0/20 [00:00<?, ?it/s]"
      ]
     },
     "metadata": {},
     "output_type": "display_data"
    },
    {
     "data": {
      "application/vnd.jupyter.widget-view+json": {
       "model_id": "",
       "version_major": 2,
       "version_minor": 0
      },
      "text/plain": [
       "Iteration over N:   0%|          | 0/20 [00:00<?, ?it/s]"
      ]
     },
     "metadata": {},
     "output_type": "display_data"
    },
    {
     "data": {
      "application/vnd.jupyter.widget-view+json": {
       "model_id": "",
       "version_major": 2,
       "version_minor": 0
      },
      "text/plain": [
       "Iteration over N:   0%|          | 0/20 [00:00<?, ?it/s]"
      ]
     },
     "metadata": {},
     "output_type": "display_data"
    },
    {
     "data": {
      "application/vnd.jupyter.widget-view+json": {
       "model_id": "",
       "version_major": 2,
       "version_minor": 0
      },
      "text/plain": [
       "Iteration over N:   0%|          | 0/20 [00:00<?, ?it/s]"
      ]
     },
     "metadata": {},
     "output_type": "display_data"
    },
    {
     "data": {
      "image/png": "[encoded data removed]",
      "text/plain": [
       "<Figure size 252x151.2 with 1 Axes>"
      ]
     },
     "metadata": {
      "needs_background": "light"
     },
     "output_type": "display_data"
    },
    {
     "data": {
      "image/png": "[encoded data removed]",
      "text/plain": [
       "<Figure size 159.624x151.2 with 1 Axes>"
      ]
     },
     "metadata": {
      "needs_background": "light"
     },
     "output_type": "display_data"
    }
   ],
   "source": [
    "pathlib.Path(\"plots\").mkdir(exist_ok=True)\n",
    "\n",
    "env = \"rl_ltl_pac_paper\"\n",
    "reward_types = [\"zeta-reach\", \"zeta-acc\", \"zeta-discount\", \"multi-discount\", \"reward-on-acc\"]\n",
    "rl_algos = [\"Q\", \"DQ\", \"SL\"]\n",
    "# Comment out below to run for only multi-discount and Q-learning\n",
    "# reward_types = [\"multi-discount\"]\n",
    "# rl_algos = [\"Q\"]\n",
    "for rl_algo, reward_type in itertools.product(rl_algos, reward_types):\n",
    "    probs, errs = collect_pac_probs(env, rl_algo=rl_algo, reward_type=reward_type, skip_after_stable=3)\n",
    "    plot_pac_probs(env, probs, errs, rl_algo=rl_algo, reward_type=reward_type, title=\"\")"
   ]
  },
  {
   "cell_type": "markdown",
   "metadata": {},
   "source": [
    "# Counterexample MDP Construction <a class=\"anchor\" id=\"mdp-construction\"></a>\n",
    "\n",
    "Below we implement an algorithm to construct two counterexample MDPs for any LTL formula not in `Finitary`.\n",
    "\n",
    "The algorithm is derived from the proof of existence of counterexample MDPs in Section 4.4 and Appendix \n",
    "D.\n",
    "\n",
    "Note that the construction of a counterexample MDPs for an LTL formula may not be unique, and our algorithm only returns one valid counterexample. In particular, it does not guarantee a minimal construction (e.g., the number of the states in the MDPs is minimal).\n",
    "\n",
    "In particular, the algorithm below constructs a different counterexample for the formula $\\mathsf{F} h$ than the one used in the empirical justification section (Section 5) of the paper. \n",
    "This is, again, because our algorith below does not return a minimal construction, while in our evaluation, we manually construct a minimal counterexample."
   ]
  },
  {
   "cell_type": "code",
   "execution_count": 5,
   "metadata": {},
   "outputs": [],
   "source": [
    "AP = Tuple[bool]\n",
    "\n",
    "@dataclasses.dataclass\n",
    "class TrapChain:\n",
    "    prefix: AP\n",
    "    cycle: AP\n",
    "        \n",
    "@dataclasses.dataclass\n",
    "class RegularState:\n",
    "    label: AP\n",
    "    trap: TrapChain\n",
    "\n",
    "@dataclasses.dataclass\n",
    "class ConstructedMDP:\n",
    "    aps: Tuple[str]\n",
    "    g_prefix: List[AP]\n",
    "    g_cycle: List[AP]\n",
    "    h_prefix: List[AP]\n",
    "    h_cycle: List[AP]\n",
    "    q_prefix: List[AP]\n",
    "    q_cycle: List[AP]\n",
    "    is_accepting_example: bool\n",
    "\n",
    "def _collect_formula_aps(formula: spot.formula):\n",
    "    \"\"\"Collects the set of atomic propositions in formula.\"\"\"\n",
    "    aps = set()\n",
    "    formula.traverse(lambda f: aps.add(f) if f.kind() == spot.op_ap else None)\n",
    "    return aps\n",
    "\n",
    "\n",
    "def _bdd_to_tuple(aps, bdd_dict, bdd):\n",
    "    \"\"\"Converts a buddy.bdd to a Python tuple.\"\"\"\n",
    "    ret = []\n",
    "    for ap in aps:\n",
    "        v = buddy.bdd_ithvar(bdd_dict.varnum(ap))\n",
    "        ret.append(bool(buddy.bdd_implies(bdd, v))) \n",
    "    return tuple(ret)\n",
    "\n",
    "\n",
    "def _rejecting_run_starting_with(aps: Tuple[str], aut, state):\n",
    "    \"\"\"Computes a trap chain by a rejecting run in `aut` starting from `state`.\n",
    "    \n",
    "    Args:\n",
    "        aps: the atomic propositions.\n",
    "        aut: the automaton to compute the rejecting run on.\n",
    "        state: the state in `aut` from which the run should start.\n",
    "    \n",
    "    Returns:\n",
    "        a rejecting run.\n",
    "    \"\"\"\n",
    "    current_init_state = aut.get_init_state()\n",
    "    aut.set_init_state(aut.state_number(state))\n",
    "    c_aut = spot.complement(aut)\n",
    "    rej_run = c_aut.accepting_run().reduce()\n",
    "    aut.set_init_state(aut.state_number(current_init_state))\n",
    "    assert rej_run is not None, f\"Must exists at least one rejecting run from state {state}\"\n",
    "    return rej_run\n",
    "\n",
    "\n",
    "def to_dra(formula: Union[str, spot.formula]):\n",
    "    \"\"\"Converts a LTL formula into a Deterministic Rabin Automaton.\"\"\"\n",
    "    if isinstance(formula, str):\n",
    "        formula = spot.formula(formula)\n",
    "    aut = formula.translate(\"deterministic\", \"complete\", \"parity\", \"sbacc\")\n",
    "    aut = spot.to_generalized_rabin(aut, False)\n",
    "    return aut\n",
    "\n",
    "\n",
    "def _construct_mdp(formula: Union[str, spot.formula], is_accepting_example=True):\n",
    "    \"\"\"Constructs an counter-example MDP for a particular LTL formula. \n",
    "    \n",
    "    One can show that the constructed MDP has no sample efficient RL algorithm.\n",
    "    \n",
    "    Args:\n",
    "        formula: the LTL formula.\n",
    "        is_accepting_example: whether try to create an accepting or rejecting \n",
    "          example.\n",
    "\n",
    "    Returns:\n",
    "        a ConstructedMDP, or None if the example does not exist.\n",
    "    \"\"\"\n",
    "    if isinstance(formula, str):\n",
    "        formula = spot.formula(formula)\n",
    "\n",
    "    if not is_accepting_example:\n",
    "      formula = spot.formula_Not(formula)\n",
    "\n",
    "    # aut = to_dra(formula)\n",
    "    aut = formula.translate(\"deterministic\", \"complete\", \"parity\", \"sbacc\")\n",
    "    terminal_aut = spot.decompose_scc(aut, \"t\")\n",
    "    if terminal_aut is None:\n",
    "        # Case pure G\n",
    "        weakly_accepting_run = aut.accepting_run()\n",
    "    else:\n",
    "        weakly_accepting_run = aut.intersecting_run(spot.complement(terminal_aut))\n",
    "    \n",
    "    if weakly_accepting_run is None:\n",
    "        return None\n",
    "    \n",
    "    weakly_accepting_run = weakly_accepting_run.reduce()\n",
    "    aps = tuple(_collect_formula_aps(formula))\n",
    "    \n",
    "    rej_run = _rejecting_run_starting_with(aps, aut, weakly_accepting_run.cycle[-1].s)\n",
    "    \n",
    "    def to_ap(x):\n",
    "        return _bdd_to_tuple(aps, aut.get_dict(), x.label)\n",
    "    \n",
    "    h_prefix = [] \n",
    "    h_cycle = [to_ap(x) for x in weakly_accepting_run.cycle]\n",
    "    q_prefix = [to_ap(x) for x in rej_run.prefix]\n",
    "    q_cycle = [to_ap(x) for x in rej_run.cycle]\n",
    "\n",
    "    if not is_accepting_example:\n",
    "        h_prefix, q_prefix = q_prefix, h_prefix\n",
    "        h_cycle, q_cycle = q_cycle, h_cycle\n",
    "    \n",
    "    return ConstructedMDP(\n",
    "        aps=tuple(a.to_str() for a in aps),\n",
    "        g_prefix=[to_ap(x) for x in weakly_accepting_run.prefix], \n",
    "        g_cycle=[to_ap(x) for x in weakly_accepting_run.cycle],\n",
    "        h_prefix=h_prefix, \n",
    "        h_cycle=h_cycle,\n",
    "        q_prefix=q_prefix,\n",
    "        q_cycle=q_cycle, \n",
    "        is_accepting_example=is_accepting_example)\n",
    "\n",
    "\n",
    "def construct_mdp(formula: Union[str, spot.formula]):\n",
    "  \"\"\"Constructs an either accepting or rejecting example MDP.\n",
    "  \n",
    "  Args: \n",
    "    formula: the LTL formula.\n",
    "  \n",
    "  Returns:\n",
    "    a ConstructedMDP, or None if no example exists (the formula is in B).\n",
    "  \"\"\"\n",
    "  mdp = _construct_mdp(formula, True)\n",
    "  if mdp is None:\n",
    "    mdp = _construct_mdp(formula, False)\n",
    "    if mdp is None:\n",
    "      assert spot.mp_class(formula) == 'B'\n",
    "  return mdp    "
   ]
  },
  {
   "cell_type": "code",
   "execution_count": 6,
   "metadata": {},
   "outputs": [],
   "source": [
    "def to_graphviz(mdp: ConstructedMDP, m1_or_m2 = \"M1\"):\n",
    "    assert m1_or_m2 in (\"M1\", \"M2\")\n",
    "    \n",
    "    g = graphviz.Digraph('MDP')\n",
    "    g.attr(rankdir='LR')\n",
    "    g.attr('node', shape='circle')\n",
    "\n",
    "    def label_to_str(lab):\n",
    "        return \",\".join([f\"{ap}={int(x)}\" for ap, x in zip(mdp.aps, lab)])\n",
    "    \n",
    "    def add_single_edge(g, s1, s2, action=\"a1\", prob=\"1\"):\n",
    "        if prob == \"1\":\n",
    "            g.edge(s1, s2, label=\"\", color=\"black\")\n",
    "        else:\n",
    "            color = dict(a1=\"blue\", a2=\"orange\")[action]\n",
    "            g.edge(s1, s2, label=f\"{action}, {prob}\", color=color, fontcolor=color)\n",
    "        \n",
    "    def add_parallel_edge(g, s1, s2, prob=\"1\"):\n",
    "        if prob in (1, \"1\"):\n",
    "            add_single_edge(g, s1, s2, prob=prob)\n",
    "        else:\n",
    "            add_single_edge(g, s1, s2, action=\"a1\", prob=prob)\n",
    "            add_single_edge(g, s1, s2, action=\"a2\", prob=prob)\n",
    "\n",
    "    def add_path(prefix, cycle, name: str, init=True, color=\"green\", wrap_cycle=True):\n",
    "        states = list(itertools.chain(prefix, cycle))\n",
    "        with g.subgraph(name=name) as bg:\n",
    "#             bg.attr(rank=\"same\")\n",
    "            bg.attr('node', fillcolor=color, style='filled')\n",
    "            if init:\n",
    "                bg.node(\"init\", style=\"invis\")\n",
    "                bg.edge(\"init\", f\"{name}-0\")\n",
    "            for s, state in enumerate(states):\n",
    "                bg.node(f\"{name}-{s}\", label=label_to_str(state))\n",
    "            for s1 in range(len(states) - 1):\n",
    "                s2 = s1 + 1\n",
    "                add_parallel_edge(bg, f\"{name}-{s1}\", f\"{name}-{s2}\", prob=\"1\")\n",
    "            if wrap_cycle:\n",
    "                add_parallel_edge(bg, \n",
    "                                  f\"{name}-{len(prefix) + len(cycle) - 1}\", \n",
    "                                  f\"{name}-{len(prefix)}\", \n",
    "                                  prob=\"1\")\n",
    "\n",
    "    add_path(mdp.g_prefix + mdp.g_cycle, [], name=\"g_region\", wrap_cycle=False, color=\"grey\")\n",
    "    add_path(mdp.h_prefix, mdp.h_cycle, \n",
    "             name=\"h_region\", init=False, color=\"green\")\n",
    "    add_path(mdp.q_prefix, mdp.q_cycle, \n",
    "             name=\"q_region\", init=False, color=\"red\")\n",
    "    \n",
    "    last_state_in_g = len(mdp.g_prefix + mdp.g_cycle) - 1\n",
    "    add_parallel_edge(g, \n",
    "                      f\"g_region-{last_state_in_g}\", \n",
    "                      f\"g_region-{len(mdp.g_prefix)}\", \n",
    "                      prob=\"1-p\")\n",
    "    \n",
    "    if m1_or_m2 == \"M1\":\n",
    "        h_act, q_act = \"a1\", \"a2\"\n",
    "    else:\n",
    "        h_act, q_act = \"a2\", \"a1\"\n",
    "\n",
    "    add_single_edge(g, f\"g_region-{last_state_in_g}\", f\"h_region-0\", action=h_act, prob=\"p\")\n",
    "    add_single_edge(g, f\"g_region-{last_state_in_g}\", f\"q_region-0\", action=q_act, prob=\"p\")\n",
    "\n",
    "        \n",
    "    return g\n",
    "\n",
    "\n",
    "def visualize_constructed_MDP(formula: str):\n",
    "  \"\"\"Helper to visualize our construction.\"\"\"\n",
    "  formula_tex = spot.formula(formula).to_str('mathjax')\n",
    "  mdp = construct_mdp(formula)\n",
    "  if mdp is None:\n",
    "    msg = f\"\"\"\n",
    "    The formula ${formula_tex}$ is in `Finitary`. \n",
    "    It therefore does not have a counter-example MDP.\n",
    "    \"\"\"\n",
    "    msg = textwrap.dedent(msg)\n",
    "    display(Markdown(msg))\n",
    "    return\n",
    "\n",
    "  msg = textwrap.dedent(f\"\"\"\n",
    "  - green: staying in these states creates an **accepting** string for the formula ${formula_tex}$\n",
    "  - red: staying in these states creates an **rejecting** string for the formula ${formula_tex}$\n",
    "  \"\"\")\n",
    "  display(Markdown(\"$\\mathcal{M}_1$: \"))\n",
    "  display(to_graphviz(mdp, m1_or_m2=\"M1\"))\n",
    "  display(Markdown(\"$\\mathcal{M}_2$: \"))\n",
    "  display(to_graphviz(mdp, m1_or_m2=\"M2\"))\n",
    "  display(Markdown(msg))\n"
   ]
  },
  {
   "cell_type": "markdown",
   "metadata": {},
   "source": [
    "You may use the code cell below to visualize the construction. \n",
    "\n",
    "We use the same synatx for LTL formulas as in the Spot (https://spot.lrde.epita.fr)."
   ]
  },
  {
   "cell_type": "code",
   "execution_count": 7,
   "metadata": {},
   "outputs": [
    {
     "data": {
      "text/markdown": [
       "$\\mathcal{M}_1$: "
      ],
      "text/plain": [
       "<IPython.core.display.Markdown object>"
      ]
     },
     "metadata": {},
     "output_type": "display_data"
    },
    {
     "data": {
      "image/svg+xml": [
       "<?xml version=\"1.0\" encoding=\"UTF-8\" standalone=\"no\"?>\n",
       "<!DOCTYPE svg PUBLIC \"-//W3C//DTD SVG 1.1//EN\"\n",
       " \"http://www.w3.org/Graphics/SVG/1.1/DTD/svg11.dtd\">\n",
       "<!-- Generated by graphviz version 2.48.0 (20210717.1556)\n",
       " -->\n",
       "<!-- Title: MDP Pages: 1 -->\n",
       "<svg width=\"340pt\" height=\"165pt\"\n",
       " viewBox=\"0.00 0.00 339.68 165.40\" xmlns=\"http://www.w3.org/2000/svg\" xmlns:xlink=\"http://www.w3.org/1999/xlink\">\n",
       "<g id=\"graph0\" class=\"graph\" transform=\"scale(1 1) rotate(0) translate(4 161.4)\">\n",
       "<title>MDP</title>\n",
       "<polygon fill=\"white\" stroke=\"transparent\" points=\"-4,4 -4,-161.4 335.68,-161.4 335.68,4 -4,4\"/>\n",
       "<!-- init -->\n",
       "<!-- g_region&#45;0 -->\n",
       "<g id=\"node2\" class=\"node\">\n",
       "<title>g_region&#45;0</title>\n",
       "<ellipse fill=\"grey\" stroke=\"black\" cx=\"107.19\" cy=\"-66.7\" rx=\"24.9\" ry=\"24.9\"/>\n",
       "<text text-anchor=\"middle\" x=\"107.19\" y=\"-63\" font-family=\"Times,serif\" font-size=\"14.00\">a=0</text>\n",
       "</g>\n",
       "<!-- init&#45;&gt;g_region&#45;0 -->\n",
       "<g id=\"edge1\" class=\"edge\">\n",
       "<title>init&#45;&gt;g_region&#45;0</title>\n",
       "<path fill=\"none\" stroke=\"black\" d=\"M45.84,-66.7C53.93,-66.7 63.29,-66.7 72.18,-66.7\"/>\n",
       "<polygon fill=\"black\" stroke=\"black\" points=\"72.3,-70.2 82.3,-66.7 72.3,-63.2 72.3,-70.2\"/>\n",
       "</g>\n",
       "<!-- g_region&#45;0&#45;&gt;g_region&#45;0 -->\n",
       "<g id=\"edge5\" class=\"edge\">\n",
       "<title>g_region&#45;0&#45;&gt;g_region&#45;0</title>\n",
       "<path fill=\"none\" stroke=\"blue\" d=\"M103.28,-91.27C103.06,-101.12 104.36,-109.4 107.19,-109.4 108.96,-109.4 110.14,-106.16 110.71,-101.34\"/>\n",
       "<polygon fill=\"blue\" stroke=\"blue\" points=\"114.21,-101.4 111.11,-91.27 107.22,-101.12 114.21,-101.4\"/>\n",
       "<text text-anchor=\"middle\" x=\"107.19\" y=\"-113.2\" font-family=\"Times,serif\" font-size=\"14.00\" fill=\"blue\">a1, 1&#45;p</text>\n",
       "</g>\n",
       "<!-- g_region&#45;0&#45;&gt;g_region&#45;0 -->\n",
       "<g id=\"edge6\" class=\"edge\">\n",
       "<title>g_region&#45;0&#45;&gt;g_region&#45;0</title>\n",
       "<path fill=\"none\" stroke=\"orange\" d=\"M100.29,-90.69C97.8,-108.92 100.1,-127.4 107.19,-127.4 112.96,-127.4 115.56,-115.2 114.99,-100.84\"/>\n",
       "<polygon fill=\"orange\" stroke=\"orange\" points=\"118.46,-100.34 114.1,-90.69 111.49,-100.96 118.46,-100.34\"/>\n",
       "<text text-anchor=\"middle\" x=\"107.19\" y=\"-131.2\" font-family=\"Times,serif\" font-size=\"14.00\" fill=\"orange\">a2, 1&#45;p</text>\n",
       "</g>\n",
       "<!-- h_region&#45;0 -->\n",
       "<g id=\"node3\" class=\"node\">\n",
       "<title>h_region&#45;0</title>\n",
       "<ellipse fill=\"green\" stroke=\"black\" cx=\"220.59\" cy=\"-109.7\" rx=\"24.9\" ry=\"24.9\"/>\n",
       "<text text-anchor=\"middle\" x=\"220.59\" y=\"-106\" font-family=\"Times,serif\" font-size=\"14.00\">a=1</text>\n",
       "</g>\n",
       "<!-- g_region&#45;0&#45;&gt;h_region&#45;0 -->\n",
       "<g id=\"edge7\" class=\"edge\">\n",
       "<title>g_region&#45;0&#45;&gt;h_region&#45;0</title>\n",
       "<path fill=\"none\" stroke=\"blue\" d=\"M130.47,-75.3C146.94,-81.65 169.59,-90.4 187.94,-97.48\"/>\n",
       "<polygon fill=\"blue\" stroke=\"blue\" points=\"186.76,-100.78 197.35,-101.11 189.28,-94.25 186.76,-100.78\"/>\n",
       "<text text-anchor=\"middle\" x=\"163.89\" y=\"-97.5\" font-family=\"Times,serif\" font-size=\"14.00\" fill=\"blue\">a1, p</text>\n",
       "</g>\n",
       "<!-- q_region&#45;0 -->\n",
       "<g id=\"node5\" class=\"node\">\n",
       "<title>q_region&#45;0</title>\n",
       "<ellipse fill=\"red\" stroke=\"black\" cx=\"220.59\" cy=\"-24.7\" rx=\"24.9\" ry=\"24.9\"/>\n",
       "<text text-anchor=\"middle\" x=\"220.59\" y=\"-21\" font-family=\"Times,serif\" font-size=\"14.00\">a=0</text>\n",
       "</g>\n",
       "<!-- g_region&#45;0&#45;&gt;q_region&#45;0 -->\n",
       "<g id=\"edge8\" class=\"edge\">\n",
       "<title>g_region&#45;0&#45;&gt;q_region&#45;0</title>\n",
       "<path fill=\"none\" stroke=\"orange\" d=\"M130.47,-58.3C146.94,-52.09 169.59,-43.55 187.94,-36.63\"/>\n",
       "<polygon fill=\"orange\" stroke=\"orange\" points=\"189.23,-39.88 197.35,-33.08 186.76,-33.33 189.23,-39.88\"/>\n",
       "<text text-anchor=\"middle\" x=\"163.89\" y=\"-54.5\" font-family=\"Times,serif\" font-size=\"14.00\" fill=\"orange\">a2, p</text>\n",
       "</g>\n",
       "<!-- h_region&#45;1 -->\n",
       "<g id=\"node4\" class=\"node\">\n",
       "<title>h_region&#45;1</title>\n",
       "<ellipse fill=\"green\" stroke=\"black\" cx=\"306.99\" cy=\"-109.7\" rx=\"24.9\" ry=\"24.9\"/>\n",
       "<text text-anchor=\"middle\" x=\"306.99\" y=\"-106\" font-family=\"Times,serif\" font-size=\"14.00\">a=0</text>\n",
       "</g>\n",
       "<!-- h_region&#45;0&#45;&gt;h_region&#45;1 -->\n",
       "<g id=\"edge2\" class=\"edge\">\n",
       "<title>h_region&#45;0&#45;&gt;h_region&#45;1</title>\n",
       "<path fill=\"none\" stroke=\"black\" d=\"M245.55,-109.7C253.81,-109.7 263.24,-109.7 272.14,-109.7\"/>\n",
       "<polygon fill=\"black\" stroke=\"black\" points=\"272.26,-113.2 282.26,-109.7 272.26,-106.2 272.26,-113.2\"/>\n",
       "</g>\n",
       "<!-- h_region&#45;1&#45;&gt;h_region&#45;1 -->\n",
       "<g id=\"edge3\" class=\"edge\">\n",
       "<title>h_region&#45;1&#45;&gt;h_region&#45;1</title>\n",
       "<path fill=\"none\" stroke=\"black\" d=\"M299.2,-133.41C298.57,-143.64 301.16,-152.4 306.99,-152.4 310.72,-152.4 313.12,-148.8 314.2,-143.53\"/>\n",
       "<polygon fill=\"black\" stroke=\"black\" points=\"317.7,-143.59 314.77,-133.41 310.71,-143.2 317.7,-143.59\"/>\n",
       "</g>\n",
       "<!-- q_region&#45;0&#45;&gt;q_region&#45;0 -->\n",
       "<g id=\"edge4\" class=\"edge\">\n",
       "<title>q_region&#45;0&#45;&gt;q_region&#45;0</title>\n",
       "<path fill=\"none\" stroke=\"black\" d=\"M212.81,-48.41C212.17,-58.64 214.77,-67.4 220.59,-67.4 224.32,-67.4 226.73,-63.8 227.81,-58.53\"/>\n",
       "<polygon fill=\"black\" stroke=\"black\" points=\"231.31,-58.59 228.37,-48.41 224.32,-58.2 231.31,-58.59\"/>\n",
       "</g>\n",
       "</g>\n",
       "</svg>\n"
      ],
      "text/plain": [
       "<graphviz.dot.Digraph at 0x7fbad864d3a0>"
      ]
     },
     "metadata": {},
     "output_type": "display_data"
    },
    {
     "data": {
      "text/markdown": [
       "$\\mathcal{M}_2$: "
      ],
      "text/plain": [
       "<IPython.core.display.Markdown object>"
      ]
     },
     "metadata": {},
     "output_type": "display_data"
    },
    {
     "data": {
      "image/svg+xml": [
       "<?xml version=\"1.0\" encoding=\"UTF-8\" standalone=\"no\"?>\n",
       "<!DOCTYPE svg PUBLIC \"-//W3C//DTD SVG 1.1//EN\"\n",
       " \"http://www.w3.org/Graphics/SVG/1.1/DTD/svg11.dtd\">\n",
       "<!-- Generated by graphviz version 2.48.0 (20210717.1556)\n",
       " -->\n",
       "<!-- Title: MDP Pages: 1 -->\n",
       "<svg width=\"340pt\" height=\"165pt\"\n",
       " viewBox=\"0.00 0.00 339.68 165.40\" xmlns=\"http://www.w3.org/2000/svg\" xmlns:xlink=\"http://www.w3.org/1999/xlink\">\n",
       "<g id=\"graph0\" class=\"graph\" transform=\"scale(1 1) rotate(0) translate(4 161.4)\">\n",
       "<title>MDP</title>\n",
       "<polygon fill=\"white\" stroke=\"transparent\" points=\"-4,4 -4,-161.4 335.68,-161.4 335.68,4 -4,4\"/>\n",
       "<!-- init -->\n",
       "<!-- g_region&#45;0 -->\n",
       "<g id=\"node2\" class=\"node\">\n",
       "<title>g_region&#45;0</title>\n",
       "<ellipse fill=\"grey\" stroke=\"black\" cx=\"107.19\" cy=\"-66.7\" rx=\"24.9\" ry=\"24.9\"/>\n",
       "<text text-anchor=\"middle\" x=\"107.19\" y=\"-63\" font-family=\"Times,serif\" font-size=\"14.00\">a=0</text>\n",
       "</g>\n",
       "<!-- init&#45;&gt;g_region&#45;0 -->\n",
       "<g id=\"edge1\" class=\"edge\">\n",
       "<title>init&#45;&gt;g_region&#45;0</title>\n",
       "<path fill=\"none\" stroke=\"black\" d=\"M45.84,-66.7C53.93,-66.7 63.29,-66.7 72.18,-66.7\"/>\n",
       "<polygon fill=\"black\" stroke=\"black\" points=\"72.3,-70.2 82.3,-66.7 72.3,-63.2 72.3,-70.2\"/>\n",
       "</g>\n",
       "<!-- g_region&#45;0&#45;&gt;g_region&#45;0 -->\n",
       "<g id=\"edge5\" class=\"edge\">\n",
       "<title>g_region&#45;0&#45;&gt;g_region&#45;0</title>\n",
       "<path fill=\"none\" stroke=\"blue\" d=\"M103.28,-91.27C103.06,-101.12 104.36,-109.4 107.19,-109.4 108.96,-109.4 110.14,-106.16 110.71,-101.34\"/>\n",
       "<polygon fill=\"blue\" stroke=\"blue\" points=\"114.21,-101.4 111.11,-91.27 107.22,-101.12 114.21,-101.4\"/>\n",
       "<text text-anchor=\"middle\" x=\"107.19\" y=\"-113.2\" font-family=\"Times,serif\" font-size=\"14.00\" fill=\"blue\">a1, 1&#45;p</text>\n",
       "</g>\n",
       "<!-- g_region&#45;0&#45;&gt;g_region&#45;0 -->\n",
       "<g id=\"edge6\" class=\"edge\">\n",
       "<title>g_region&#45;0&#45;&gt;g_region&#45;0</title>\n",
       "<path fill=\"none\" stroke=\"orange\" d=\"M100.29,-90.69C97.8,-108.92 100.1,-127.4 107.19,-127.4 112.96,-127.4 115.56,-115.2 114.99,-100.84\"/>\n",
       "<polygon fill=\"orange\" stroke=\"orange\" points=\"118.46,-100.34 114.1,-90.69 111.49,-100.96 118.46,-100.34\"/>\n",
       "<text text-anchor=\"middle\" x=\"107.19\" y=\"-131.2\" font-family=\"Times,serif\" font-size=\"14.00\" fill=\"orange\">a2, 1&#45;p</text>\n",
       "</g>\n",
       "<!-- h_region&#45;0 -->\n",
       "<g id=\"node3\" class=\"node\">\n",
       "<title>h_region&#45;0</title>\n",
       "<ellipse fill=\"green\" stroke=\"black\" cx=\"220.59\" cy=\"-109.7\" rx=\"24.9\" ry=\"24.9\"/>\n",
       "<text text-anchor=\"middle\" x=\"220.59\" y=\"-106\" font-family=\"Times,serif\" font-size=\"14.00\">a=1</text>\n",
       "</g>\n",
       "<!-- g_region&#45;0&#45;&gt;h_region&#45;0 -->\n",
       "<g id=\"edge7\" class=\"edge\">\n",
       "<title>g_region&#45;0&#45;&gt;h_region&#45;0</title>\n",
       "<path fill=\"none\" stroke=\"orange\" d=\"M130.47,-75.3C146.94,-81.65 169.59,-90.4 187.94,-97.48\"/>\n",
       "<polygon fill=\"orange\" stroke=\"orange\" points=\"186.76,-100.78 197.35,-101.11 189.28,-94.25 186.76,-100.78\"/>\n",
       "<text text-anchor=\"middle\" x=\"163.89\" y=\"-97.5\" font-family=\"Times,serif\" font-size=\"14.00\" fill=\"orange\">a2, p</text>\n",
       "</g>\n",
       "<!-- q_region&#45;0 -->\n",
       "<g id=\"node5\" class=\"node\">\n",
       "<title>q_region&#45;0</title>\n",
       "<ellipse fill=\"red\" stroke=\"black\" cx=\"220.59\" cy=\"-24.7\" rx=\"24.9\" ry=\"24.9\"/>\n",
       "<text text-anchor=\"middle\" x=\"220.59\" y=\"-21\" font-family=\"Times,serif\" font-size=\"14.00\">a=0</text>\n",
       "</g>\n",
       "<!-- g_region&#45;0&#45;&gt;q_region&#45;0 -->\n",
       "<g id=\"edge8\" class=\"edge\">\n",
       "<title>g_region&#45;0&#45;&gt;q_region&#45;0</title>\n",
       "<path fill=\"none\" stroke=\"blue\" d=\"M130.47,-58.3C146.94,-52.09 169.59,-43.55 187.94,-36.63\"/>\n",
       "<polygon fill=\"blue\" stroke=\"blue\" points=\"189.23,-39.88 197.35,-33.08 186.76,-33.33 189.23,-39.88\"/>\n",
       "<text text-anchor=\"middle\" x=\"163.89\" y=\"-54.5\" font-family=\"Times,serif\" font-size=\"14.00\" fill=\"blue\">a1, p</text>\n",
       "</g>\n",
       "<!-- h_region&#45;1 -->\n",
       "<g id=\"node4\" class=\"node\">\n",
       "<title>h_region&#45;1</title>\n",
       "<ellipse fill=\"green\" stroke=\"black\" cx=\"306.99\" cy=\"-109.7\" rx=\"24.9\" ry=\"24.9\"/>\n",
       "<text text-anchor=\"middle\" x=\"306.99\" y=\"-106\" font-family=\"Times,serif\" font-size=\"14.00\">a=0</text>\n",
       "</g>\n",
       "<!-- h_region&#45;0&#45;&gt;h_region&#45;1 -->\n",
       "<g id=\"edge2\" class=\"edge\">\n",
       "<title>h_region&#45;0&#45;&gt;h_region&#45;1</title>\n",
       "<path fill=\"none\" stroke=\"black\" d=\"M245.55,-109.7C253.81,-109.7 263.24,-109.7 272.14,-109.7\"/>\n",
       "<polygon fill=\"black\" stroke=\"black\" points=\"272.26,-113.2 282.26,-109.7 272.26,-106.2 272.26,-113.2\"/>\n",
       "</g>\n",
       "<!-- h_region&#45;1&#45;&gt;h_region&#45;1 -->\n",
       "<g id=\"edge3\" class=\"edge\">\n",
       "<title>h_region&#45;1&#45;&gt;h_region&#45;1</title>\n",
       "<path fill=\"none\" stroke=\"black\" d=\"M299.2,-133.41C298.57,-143.64 301.16,-152.4 306.99,-152.4 310.72,-152.4 313.12,-148.8 314.2,-143.53\"/>\n",
       "<polygon fill=\"black\" stroke=\"black\" points=\"317.7,-143.59 314.77,-133.41 310.71,-143.2 317.7,-143.59\"/>\n",
       "</g>\n",
       "<!-- q_region&#45;0&#45;&gt;q_region&#45;0 -->\n",
       "<g id=\"edge4\" class=\"edge\">\n",
       "<title>q_region&#45;0&#45;&gt;q_region&#45;0</title>\n",
       "<path fill=\"none\" stroke=\"black\" d=\"M212.81,-48.41C212.17,-58.64 214.77,-67.4 220.59,-67.4 224.32,-67.4 226.73,-63.8 227.81,-58.53\"/>\n",
       "<polygon fill=\"black\" stroke=\"black\" points=\"231.31,-58.59 228.37,-48.41 224.32,-58.2 231.31,-58.59\"/>\n",
       "</g>\n",
       "</g>\n",
       "</svg>\n"
      ],
      "text/plain": [
       "<graphviz.dot.Digraph at 0x7fbaf8bb3820>"
      ]
     },
     "metadata": {},
     "output_type": "display_data"
    },
    {
     "data": {
      "text/markdown": [
       "\n",
       "- green: staying in these states creates an **accepting** string for the formula $\\mathsf{F} a$\n",
       "- red: staying in these states creates an **rejecting** string for the formula $\\mathsf{F} a$\n"
      ],
      "text/plain": [
       "<IPython.core.display.Markdown object>"
      ]
     },
     "metadata": {},
     "output_type": "display_data"
    }
   ],
   "source": [
    "# visualize_constructed_MDP(\"a & X a\")     # formula is in Finitary\n",
    "visualize_constructed_MDP(\"F a\")         # formula is in Guarantee\n",
    "# visualize_constructed_MDP(\"G a\")         # formula is in Safety\n",
    "# visualize_constructed_MDP(\"G a & F b\")   # formula is in Obligation\n",
    "# visualize_constructed_MDP(\"FG a\")        # formula is in Persistence\n",
    "# visualize_constructed_MDP(\"GF a\")        # formula is in Recurrence\n",
    "# visualize_constructed_MDP(\"GF a & FG b\") # formula is in Reactivity\n",
    "\n",
    "# visualize_constructed_MDP(\"!a & X G ((a -> X !a) & (!a -> X a))\") # a larger example"
   ]
  },
  {
   "cell_type": "markdown",
   "metadata": {},
   "source": [
    "To support the fact that the above constructed MDPs are indeed counterexamples, we convert the constructed MDPs into PRISM format and estimate the LTL-PAC probabilities on these constructed counterexampe MDPs."
   ]
  },
  {
   "cell_type": "code",
   "execution_count": 8,
   "metadata": {},
   "outputs": [],
   "source": [
    "def rewrite_ltl_formula_for_prism(ltl_formula: str) -> str:\n",
    "    \"\"\"Rewrites ltl_formula with proper quoting so it works for prism.\"\"\"\n",
    "    ltl = spot.formula(ltl_formula)\n",
    "    relabel_map = {}\n",
    "    for ap in spot.atomic_prop_collect(ltl):\n",
    "        # we add $ here to make spot satisfied with the double quotes...\n",
    "        # this means that we assumed there are no $ in the AP names\n",
    "        relabel_map[ap] = spot.formula(f'\"${ap}$\"')\n",
    "        relabel_map = spot.relabeling_map(relabel_map)\n",
    "        ltl_transformed = spot.relabel_apply(ltl, relabel_map)\n",
    "        # format formula with parenthesis, then remove $\n",
    "        return f'{ltl_transformed:p}'.replace(\"$\", \"\")\n",
    "\n",
    "\n",
    "def to_prism(formula: str, env_title: Optional[str] = None, m1_or_m2 = \"M1\"):\n",
    "    \"\"\"Writes a PRISM model file for the counterexample for a given LTL formula.\n",
    "    \n",
    "    Args:\n",
    "        formula: an LTL formula.\n",
    "        env_title: the title to prepend to the PRISM file as a comment.\n",
    "        m1_or_m2: whether to generate M_1 or M_2 as in Figure 2 of the paper.\n",
    "    \n",
    "    Returns:\n",
    "        a file `name` for the model, written to \"models/{name}.prism\".\n",
    "    \"\"\"\n",
    "    assert m1_or_m2 in (\"M1\", \"M2\")\n",
    "\n",
    "    if env_title is None:\n",
    "        env_title = f\"Constructed MDP for {formula}\"\n",
    "    \n",
    "    mdp = construct_mdp(formula)\n",
    "\n",
    "    env = f\"constructed-mdp-#{formula}#\"\n",
    "    with pathlib.Path(f\"models/{env}.prism\").open(\"w+\") as f:\n",
    "        print(textwrap.dedent(f\"\"\"\n",
    "        // @title: {env_title}\n",
    "        \n",
    "        mdp\n",
    "        \n",
    "        const double p = {{P}};\n",
    "        \"\"\")[1:], file=f)\n",
    "        states = {s: ap for s, ap in enumerate(itertools.chain(mdp.g_prefix, mdp.g_cycle, \n",
    "                                                               mdp.h_prefix, mdp.h_cycle, \n",
    "                                                               mdp.q_prefix, mdp.q_cycle))\n",
    "                 }\n",
    "        \n",
    "        for i, ap in enumerate(mdp.aps):\n",
    "            ap_states = \"|\".join([f\"s={s}\" for s, sap in states.items() if sap[i]])\n",
    "            print(f'label \"{ap}\" = {ap_states};', file=f)\n",
    "        \n",
    "        print(\"\", file=f)\n",
    "        print(\"module grid\", file=f)\n",
    "        print(f\"  s : [0..{len(states)-1}];\", file=f)\n",
    "        print(\"\", file=f)\n",
    "\n",
    "        def print_det_chain(start, end):\n",
    "            for s1 in range(start, end-1):\n",
    "                s2 = s1 + 1\n",
    "                print(f\"  [] s={s1} -> (s'={s2}) ;\", file=f)\n",
    "        \n",
    "        g_start, g_cycle, g_end = 0, len(mdp.g_prefix), len(mdp.g_prefix + mdp.g_cycle)\n",
    "        h_start, h_cycle, h_end = g_end, g_end + len(mdp.h_prefix), g_end + len(mdp.h_prefix + mdp.h_cycle)\n",
    "        q_start, q_cycle, q_end = h_end, h_end + len(mdp.q_prefix), h_end + len(mdp.q_prefix + mdp.q_cycle)\n",
    "\n",
    "        print_det_chain(g_start, g_end)\n",
    "        print(f\"  [a1] s={g_end-1} -> 1-p: (s'={g_cycle}) + p: (s'={h_start});\", file=f)\n",
    "        print(f\"  [a2] s={g_end-1} -> 1-p: (s'={g_cycle}) + p: (s'={q_start});\", file=f)\n",
    "\n",
    "        print_det_chain(h_start, h_end)\n",
    "        print(f\"  [] s={h_end-1} -> (s'={h_cycle});\", file=f)\n",
    "\n",
    "        print_det_chain(q_start, q_end)\n",
    "        print(f\"  [] s={q_end-1} -> (s'={q_cycle});\", file=f)\n",
    "        \n",
    "        print(\"endmodule\", file=f)\n",
    "    \n",
    "    with pathlib.Path(f\"models/{env}.ltl\").open(\"w+\") as f:\n",
    "        prism_formula = rewrite_ltl_formula_for_prism(formula)\n",
    "        print(prism_formula, file=f)\n",
    "    \n",
    "    return env"
   ]
  },
  {
   "cell_type": "code",
   "execution_count": 16,
   "metadata": {
    "scrolled": false
   },
   "outputs": [
    {
     "data": {
      "application/vnd.jupyter.widget-view+json": {
       "model_id": "78a5bf3c16d648369548491684764293",
       "version_major": 2,
       "version_minor": 0
      },
      "text/plain": [
       "<multi-discount | Q > Iteration over p:   0%|          | 0/5 [00:00<?, ?it/s]"
      ]
     },
     "metadata": {},
     "output_type": "display_data"
    },
    {
     "data": {
      "application/vnd.jupyter.widget-view+json": {
       "model_id": "",
       "version_major": 2,
       "version_minor": 0
      },
      "text/plain": [
       "Iteration over N:   0%|          | 0/20 [00:00<?, ?it/s]"
      ]
     },
     "metadata": {},
     "output_type": "display_data"
    },
    {
     "data": {
      "application/vnd.jupyter.widget-view+json": {
       "model_id": "",
       "version_major": 2,
       "version_minor": 0
      },
      "text/plain": [
       "Iteration over N:   0%|          | 0/20 [00:00<?, ?it/s]"
      ]
     },
     "metadata": {},
     "output_type": "display_data"
    },
    {
     "data": {
      "application/vnd.jupyter.widget-view+json": {
       "model_id": "",
       "version_major": 2,
       "version_minor": 0
      },
      "text/plain": [
       "Iteration over N:   0%|          | 0/20 [00:00<?, ?it/s]"
      ]
     },
     "metadata": {},
     "output_type": "display_data"
    },
    {
     "data": {
      "application/vnd.jupyter.widget-view+json": {
       "model_id": "",
       "version_major": 2,
       "version_minor": 0
      },
      "text/plain": [
       "Iteration over N:   0%|          | 0/20 [00:00<?, ?it/s]"
      ]
     },
     "metadata": {},
     "output_type": "display_data"
    },
    {
     "data": {
      "application/vnd.jupyter.widget-view+json": {
       "model_id": "",
       "version_major": 2,
       "version_minor": 0
      },
      "text/plain": [
       "Iteration over N:   0%|          | 0/20 [00:00<?, ?it/s]"
      ]
     },
     "metadata": {},
     "output_type": "display_data"
    },
    {
     "data": {
      "image/png": "[encoded data removed]",
      "text/plain": [
       "<Figure size 460.8x316.8 with 1 Axes>"
      ]
     },
     "metadata": {
      "needs_background": "light"
     },
     "output_type": "display_data"
    },
    {
     "data": {
      "image/png": "[encoded data removed]",
      "text/plain": [
       "<Figure size 460.8x316.8 with 1 Axes>"
      ]
     },
     "metadata": {
      "needs_background": "light"
     },
     "output_type": "display_data"
    }
   ],
   "source": [
    "env = to_prism(\"a U b\")\n",
    "# env = to_prism(\"FG a\") # For more complicated LTL formulas\n",
    "\n",
    "reward_types = [\"zeta-reach\", \"zeta-acc\", \"zeta-discount\", \"multi-discount\", \"reward-on-acc\"]\n",
    "rl_algos = [\"Q\", \"DQ\", \"SL\"]\n",
    "# Comment out below to run for only multi-discount and Q-learning\n",
    "reward_types = [\"multi-discount\"]\n",
    "rl_algos = [\"Q\"]\n",
    "for rl_algo, reward_type in itertools.product(rl_algos, reward_types):\n",
    "    probs, errs = collect_pac_probs(\n",
    "        env,\n",
    "        # You might need to change these parameters, if the counterexample MDP is large (i.e., more than 4 states).\n",
    "        # Otherwise, for the given number of samples, the algorithm might not converge to the\n",
    "        # desired LTL-PAC probability. This will cause the intercept plot (e.g., right of Figure 3) to have\n",
    "        # infinities, which matplotlib will emit a waring when during plotting.\n",
    "        ep_numbers = default_ep_numbers,\n",
    "        ep_length = default_ep_length,\n",
    "        rl_algo=rl_algo, \n",
    "        reward_type=reward_type, \n",
    "        skip_after_stable=3\n",
    "    )\n",
    "    plot_pac_probs(env, probs, errs, \n",
    "                   rl_algo=rl_algo, \n",
    "                   ep_numbers = default_ep_numbers,\n",
    "                   ep_length = default_ep_length, \n",
    "                   reward_type=reward_type, \n",
    "                   plot_for_paper=False)"
   ]
  },
  {
   "cell_type": "markdown",
   "metadata": {},
   "source": [
    "# Gridworld environment"
   ]
  },
  {
   "cell_type": "code",
   "execution_count": 50,
   "metadata": {},
   "outputs": [
    {
     "data": {
      "application/vnd.jupyter.widget-view+json": {
       "model_id": "b33bab4455ee4b3794c368858b0eee91",
       "version_major": 2,
       "version_minor": 0
      },
      "text/plain": [
       "<zeta-reach | Q > Iteration over p:   0%|          | 0/5 [00:00<?, ?it/s]"
      ]
     },
     "metadata": {},
     "output_type": "display_data"
    },
    {
     "data": {
      "application/vnd.jupyter.widget-view+json": {
       "model_id": "7ccda7efbd24467c98eb123c66601e68",
       "version_major": 2,
       "version_minor": 0
      },
      "text/plain": [
       "Iteration over N:   0%|          | 0/20 [00:00<?, ?it/s]"
      ]
     },
     "metadata": {},
     "output_type": "display_data"
    },
    {
     "ename": "KeyboardInterrupt",
     "evalue": "",
     "output_type": "error",
     "traceback": [
      "\u001b[0;31m---------------------------------------------------------------------------\u001b[0m",
      "\u001b[0;31mKeyboardInterrupt\u001b[0m                         Traceback (most recent call last)",
      "\u001b[0;32m/var/folders/8v/xg5xyd3d6fn_k_mh75z9tn3w0000gn/T/ipykernel_36534/1032360362.py\u001b[0m in \u001b[0;36m<module>\u001b[0;34m\u001b[0m\n\u001b[1;32m     12\u001b[0m \u001b[0;34m\u001b[0m\u001b[0m\n\u001b[1;32m     13\u001b[0m \u001b[0;32mfor\u001b[0m \u001b[0mrl_algo\u001b[0m\u001b[0;34m,\u001b[0m \u001b[0mreward_type\u001b[0m \u001b[0;32min\u001b[0m \u001b[0mitertools\u001b[0m\u001b[0;34m.\u001b[0m\u001b[0mproduct\u001b[0m\u001b[0;34m(\u001b[0m\u001b[0mrl_algos\u001b[0m\u001b[0;34m,\u001b[0m \u001b[0mreward_types\u001b[0m\u001b[0;34m)\u001b[0m\u001b[0;34m:\u001b[0m\u001b[0;34m\u001b[0m\u001b[0;34m\u001b[0m\u001b[0m\n\u001b[0;32m---> 14\u001b[0;31m     probs, errs = collect_pac_probs(\n\u001b[0m\u001b[1;32m     15\u001b[0m         \u001b[0menv\u001b[0m\u001b[0;34m,\u001b[0m\u001b[0;34m\u001b[0m\u001b[0;34m\u001b[0m\u001b[0m\n\u001b[1;32m     16\u001b[0m         \u001b[0mps\u001b[0m\u001b[0;34m=\u001b[0m\u001b[0mps\u001b[0m\u001b[0;34m,\u001b[0m\u001b[0;34m\u001b[0m\u001b[0;34m\u001b[0m\u001b[0m\n",
      "\u001b[0;32m/var/folders/8v/xg5xyd3d6fn_k_mh75z9tn3w0000gn/T/ipykernel_36534/1413277342.py\u001b[0m in \u001b[0;36mcollect_pac_probs\u001b[0;34m(env, ps, ep_numbers, ep_length, rl_algo, reward_type, skip_after_stable)\u001b[0m\n\u001b[1;32m     46\u001b[0m         \u001b[0;32mfor\u001b[0m \u001b[0mep_number\u001b[0m \u001b[0;32min\u001b[0m \u001b[0mtqdm\u001b[0m\u001b[0;34m(\u001b[0m\u001b[0mep_numbers\u001b[0m\u001b[0;34m,\u001b[0m \u001b[0mleave\u001b[0m\u001b[0;34m=\u001b[0m\u001b[0;32mFalse\u001b[0m\u001b[0;34m,\u001b[0m \u001b[0mdesc\u001b[0m\u001b[0;34m=\u001b[0m\u001b[0;34m\"Iteration over N\"\u001b[0m\u001b[0;34m)\u001b[0m\u001b[0;34m:\u001b[0m\u001b[0;34m\u001b[0m\u001b[0;34m\u001b[0m\u001b[0m\n\u001b[1;32m     47\u001b[0m             \u001b[0;32mif\u001b[0m \u001b[0merr_zero_cnt\u001b[0m \u001b[0;34m<\u001b[0m \u001b[0mskip_after_stable\u001b[0m\u001b[0;34m:\u001b[0m\u001b[0;34m\u001b[0m\u001b[0;34m\u001b[0m\u001b[0m\n\u001b[0;32m---> 48\u001b[0;31m                 prob, err = estimate_pac_probability(\n\u001b[0m\u001b[1;32m     49\u001b[0m                     \u001b[0mepsilon\u001b[0m\u001b[0;34m=\u001b[0m\u001b[0;36m0.1\u001b[0m\u001b[0;34m,\u001b[0m\u001b[0;34m\u001b[0m\u001b[0;34m\u001b[0m\u001b[0m\n\u001b[1;32m     50\u001b[0m                     \u001b[0mmodel\u001b[0m\u001b[0;34m=\u001b[0m\u001b[0;34mf\"models/{env}\"\u001b[0m\u001b[0;34m,\u001b[0m\u001b[0;34m\u001b[0m\u001b[0;34m\u001b[0m\u001b[0m\n",
      "\u001b[0;32m/var/folders/8v/xg5xyd3d6fn_k_mh75z9tn3w0000gn/T/ipykernel_36534/4289765253.py\u001b[0m in \u001b[0;36mwrapper\u001b[0;34m(*args, **kwargs)\u001b[0m\n\u001b[1;32m     14\u001b[0m             \u001b[0mnewargs\u001b[0m\u001b[0;34m[\u001b[0m\u001b[0msig\u001b[0m\u001b[0;34m.\u001b[0m\u001b[0margs\u001b[0m\u001b[0;34m.\u001b[0m\u001b[0mindex\u001b[0m\u001b[0;34m(\u001b[0m\u001b[0mname\u001b[0m\u001b[0;34m)\u001b[0m\u001b[0;34m]\u001b[0m \u001b[0;34m=\u001b[0m \u001b[0mvalue\u001b[0m\u001b[0;34m\u001b[0m\u001b[0;34m\u001b[0m\u001b[0m\n\u001b[1;32m     15\u001b[0m \u001b[0;34m\u001b[0m\u001b[0m\n\u001b[0;32m---> 16\u001b[0;31m         \u001b[0;32mreturn\u001b[0m \u001b[0mf\u001b[0m\u001b[0;34m(\u001b[0m\u001b[0;34m*\u001b[0m\u001b[0mnewargs\u001b[0m\u001b[0;34m)\u001b[0m\u001b[0;34m\u001b[0m\u001b[0;34m\u001b[0m\u001b[0m\n\u001b[0m\u001b[1;32m     17\u001b[0m \u001b[0;34m\u001b[0m\u001b[0m\n\u001b[1;32m     18\u001b[0m     \u001b[0;32mreturn\u001b[0m \u001b[0mwrapper\u001b[0m\u001b[0;34m\u001b[0m\u001b[0;34m\u001b[0m\u001b[0m\n",
      "\u001b[0;32m/var/folders/8v/xg5xyd3d6fn_k_mh75z9tn3w0000gn/T/ipykernel_36534/4289765253.py\u001b[0m in \u001b[0;36mwrapped\u001b[0;34m(*args, **kwargs)\u001b[0m\n\u001b[1;32m     57\u001b[0m         \u001b[0mkey_digest\u001b[0m \u001b[0;34m=\u001b[0m \u001b[0mhashlib\u001b[0m\u001b[0;34m.\u001b[0m\u001b[0mmd5\u001b[0m\u001b[0;34m(\u001b[0m\u001b[0mkey\u001b[0m\u001b[0;34m.\u001b[0m\u001b[0mencode\u001b[0m\u001b[0;34m(\u001b[0m\u001b[0;34m\"utf-8\"\u001b[0m\u001b[0;34m)\u001b[0m\u001b[0;34m)\u001b[0m\u001b[0;34m.\u001b[0m\u001b[0mhexdigest\u001b[0m\u001b[0;34m(\u001b[0m\u001b[0;34m)\u001b[0m\u001b[0;34m\u001b[0m\u001b[0;34m\u001b[0m\u001b[0m\n\u001b[1;32m     58\u001b[0m         \u001b[0;32mif\u001b[0m \u001b[0mkey_digest\u001b[0m \u001b[0;32mnot\u001b[0m \u001b[0;32min\u001b[0m \u001b[0mmemo\u001b[0m\u001b[0;34m:\u001b[0m\u001b[0;34m\u001b[0m\u001b[0;34m\u001b[0m\u001b[0m\n\u001b[0;32m---> 59\u001b[0;31m             \u001b[0mresult\u001b[0m \u001b[0;34m=\u001b[0m \u001b[0mfunc\u001b[0m\u001b[0;34m(\u001b[0m\u001b[0;34m*\u001b[0m\u001b[0margs\u001b[0m\u001b[0;34m,\u001b[0m \u001b[0;34m**\u001b[0m\u001b[0mkwargs\u001b[0m\u001b[0;34m)\u001b[0m\u001b[0;34m\u001b[0m\u001b[0;34m\u001b[0m\u001b[0m\n\u001b[0m\u001b[1;32m     60\u001b[0m             \u001b[0mmemo\u001b[0m\u001b[0;34m[\u001b[0m\u001b[0mkey_digest\u001b[0m\u001b[0;34m]\u001b[0m \u001b[0;34m=\u001b[0m \u001b[0;34m{\u001b[0m\u001b[0;34m\"args\"\u001b[0m\u001b[0;34m:\u001b[0m \u001b[0margs\u001b[0m\u001b[0;34m,\u001b[0m \u001b[0;34m\"kwargs\"\u001b[0m\u001b[0;34m:\u001b[0m \u001b[0mkwargs\u001b[0m\u001b[0;34m,\u001b[0m \u001b[0;34m\"result\"\u001b[0m\u001b[0;34m:\u001b[0m \u001b[0mresult\u001b[0m\u001b[0;34m}\u001b[0m\u001b[0;34m\u001b[0m\u001b[0;34m\u001b[0m\u001b[0m\n\u001b[1;32m     61\u001b[0m             \u001b[0;32mwith\u001b[0m \u001b[0mcache_file\u001b[0m\u001b[0;34m.\u001b[0m\u001b[0mopen\u001b[0m\u001b[0;34m(\u001b[0m\u001b[0;34m\"w+\"\u001b[0m\u001b[0;34m)\u001b[0m \u001b[0;32mas\u001b[0m \u001b[0mf\u001b[0m\u001b[0;34m:\u001b[0m\u001b[0;34m\u001b[0m\u001b[0;34m\u001b[0m\u001b[0m\n",
      "\u001b[0;32m/var/folders/8v/xg5xyd3d6fn_k_mh75z9tn3w0000gn/T/ipykernel_36534/4289765253.py\u001b[0m in \u001b[0;36mestimate_pac_probability\u001b[0;34m(epsilon, model, min_num_samples, max_est_std, reward_type, discount, gammaB, learn, lr_schedule, explore_schedule, ep_number, ep_length, tolerance, sarsa_lambda, model_params)\u001b[0m\n\u001b[1;32m    139\u001b[0m             ]\n\u001b[1;32m    140\u001b[0m \u001b[0;31m#             print(cmd)\u001b[0m\u001b[0;34m\u001b[0m\u001b[0;34m\u001b[0m\u001b[0;34m\u001b[0m\u001b[0m\n\u001b[0;32m--> 141\u001b[0;31m             output = subprocess.check_output(\n\u001b[0m\u001b[1;32m    142\u001b[0m                 \u001b[0mcmd\u001b[0m\u001b[0;34m,\u001b[0m\u001b[0;34m\u001b[0m\u001b[0;34m\u001b[0m\u001b[0m\n\u001b[1;32m    143\u001b[0m                 \u001b[0mstderr\u001b[0m\u001b[0;34m=\u001b[0m\u001b[0msubprocess\u001b[0m\u001b[0;34m.\u001b[0m\u001b[0mSTDOUT\u001b[0m\u001b[0;34m\u001b[0m\u001b[0;34m\u001b[0m\u001b[0m\n",
      "\u001b[0;32m~/anaconda3/envs/ltl_rl_pac/lib/python3.8/subprocess.py\u001b[0m in \u001b[0;36mcheck_output\u001b[0;34m(timeout, *popenargs, **kwargs)\u001b[0m\n\u001b[1;32m    413\u001b[0m         \u001b[0mkwargs\u001b[0m\u001b[0;34m[\u001b[0m\u001b[0;34m'input'\u001b[0m\u001b[0;34m]\u001b[0m \u001b[0;34m=\u001b[0m \u001b[0mempty\u001b[0m\u001b[0;34m\u001b[0m\u001b[0;34m\u001b[0m\u001b[0m\n\u001b[1;32m    414\u001b[0m \u001b[0;34m\u001b[0m\u001b[0m\n\u001b[0;32m--> 415\u001b[0;31m     return run(*popenargs, stdout=PIPE, timeout=timeout, check=True,\n\u001b[0m\u001b[1;32m    416\u001b[0m                **kwargs).stdout\n\u001b[1;32m    417\u001b[0m \u001b[0;34m\u001b[0m\u001b[0m\n",
      "\u001b[0;32m~/anaconda3/envs/ltl_rl_pac/lib/python3.8/subprocess.py\u001b[0m in \u001b[0;36mrun\u001b[0;34m(input, capture_output, timeout, check, *popenargs, **kwargs)\u001b[0m\n\u001b[1;32m    493\u001b[0m     \u001b[0;32mwith\u001b[0m \u001b[0mPopen\u001b[0m\u001b[0;34m(\u001b[0m\u001b[0;34m*\u001b[0m\u001b[0mpopenargs\u001b[0m\u001b[0;34m,\u001b[0m \u001b[0;34m**\u001b[0m\u001b[0mkwargs\u001b[0m\u001b[0;34m)\u001b[0m \u001b[0;32mas\u001b[0m \u001b[0mprocess\u001b[0m\u001b[0;34m:\u001b[0m\u001b[0;34m\u001b[0m\u001b[0;34m\u001b[0m\u001b[0m\n\u001b[1;32m    494\u001b[0m         \u001b[0;32mtry\u001b[0m\u001b[0;34m:\u001b[0m\u001b[0;34m\u001b[0m\u001b[0;34m\u001b[0m\u001b[0m\n\u001b[0;32m--> 495\u001b[0;31m             \u001b[0mstdout\u001b[0m\u001b[0;34m,\u001b[0m \u001b[0mstderr\u001b[0m \u001b[0;34m=\u001b[0m \u001b[0mprocess\u001b[0m\u001b[0;34m.\u001b[0m\u001b[0mcommunicate\u001b[0m\u001b[0;34m(\u001b[0m\u001b[0minput\u001b[0m\u001b[0;34m,\u001b[0m \u001b[0mtimeout\u001b[0m\u001b[0;34m=\u001b[0m\u001b[0mtimeout\u001b[0m\u001b[0;34m)\u001b[0m\u001b[0;34m\u001b[0m\u001b[0;34m\u001b[0m\u001b[0m\n\u001b[0m\u001b[1;32m    496\u001b[0m         \u001b[0;32mexcept\u001b[0m \u001b[0mTimeoutExpired\u001b[0m \u001b[0;32mas\u001b[0m \u001b[0mexc\u001b[0m\u001b[0;34m:\u001b[0m\u001b[0;34m\u001b[0m\u001b[0;34m\u001b[0m\u001b[0m\n\u001b[1;32m    497\u001b[0m             \u001b[0mprocess\u001b[0m\u001b[0;34m.\u001b[0m\u001b[0mkill\u001b[0m\u001b[0;34m(\u001b[0m\u001b[0;34m)\u001b[0m\u001b[0;34m\u001b[0m\u001b[0;34m\u001b[0m\u001b[0m\n",
      "\u001b[0;32m~/anaconda3/envs/ltl_rl_pac/lib/python3.8/subprocess.py\u001b[0m in \u001b[0;36mcommunicate\u001b[0;34m(self, input, timeout)\u001b[0m\n\u001b[1;32m   1013\u001b[0m                 \u001b[0mself\u001b[0m\u001b[0;34m.\u001b[0m\u001b[0m_stdin_write\u001b[0m\u001b[0;34m(\u001b[0m\u001b[0minput\u001b[0m\u001b[0;34m)\u001b[0m\u001b[0;34m\u001b[0m\u001b[0;34m\u001b[0m\u001b[0m\n\u001b[1;32m   1014\u001b[0m             \u001b[0;32melif\u001b[0m \u001b[0mself\u001b[0m\u001b[0;34m.\u001b[0m\u001b[0mstdout\u001b[0m\u001b[0;34m:\u001b[0m\u001b[0;34m\u001b[0m\u001b[0;34m\u001b[0m\u001b[0m\n\u001b[0;32m-> 1015\u001b[0;31m                 \u001b[0mstdout\u001b[0m \u001b[0;34m=\u001b[0m \u001b[0mself\u001b[0m\u001b[0;34m.\u001b[0m\u001b[0mstdout\u001b[0m\u001b[0;34m.\u001b[0m\u001b[0mread\u001b[0m\u001b[0;34m(\u001b[0m\u001b[0;34m)\u001b[0m\u001b[0;34m\u001b[0m\u001b[0;34m\u001b[0m\u001b[0m\n\u001b[0m\u001b[1;32m   1016\u001b[0m                 \u001b[0mself\u001b[0m\u001b[0;34m.\u001b[0m\u001b[0mstdout\u001b[0m\u001b[0;34m.\u001b[0m\u001b[0mclose\u001b[0m\u001b[0;34m(\u001b[0m\u001b[0;34m)\u001b[0m\u001b[0;34m\u001b[0m\u001b[0;34m\u001b[0m\u001b[0m\n\u001b[1;32m   1017\u001b[0m             \u001b[0;32melif\u001b[0m \u001b[0mself\u001b[0m\u001b[0;34m.\u001b[0m\u001b[0mstderr\u001b[0m\u001b[0;34m:\u001b[0m\u001b[0;34m\u001b[0m\u001b[0;34m\u001b[0m\u001b[0m\n",
      "\u001b[0;31mKeyboardInterrupt\u001b[0m: "
     ]
    }
   ],
   "source": [
    "env = \"gridworld_sadigh14\"\n",
    "\n",
    "reward_types = [\"zeta-reach\", \"zeta-acc\", \"zeta-discount\", \"multi-discount\", \"reward-on-acc\"]\n",
    "rl_algos = [\"Q\", \"DQ\", \"SL\"]\n",
    "# # Comment out below to run for only multi-discount and Q-learning\n",
    "# reward_types = [\"multi-discount\"]\n",
    "# rl_algos = [\"Q\"]\n",
    "\n",
    "ps = np.geomspace(0.9, 0.6, num=5)\n",
    "ep_numbers = np.geomspace(100, 3000, num=21, dtype=int)[1:]\n",
    "ep_length = 30\n",
    "\n",
    "for rl_algo, reward_type in itertools.product(rl_algos, reward_types):\n",
    "    probs, errs = collect_pac_probs(\n",
    "        env,\n",
    "        ps=ps,\n",
    "        ep_numbers = ep_numbers,\n",
    "        ep_length = ep_length,\n",
    "        rl_algo=rl_algo, \n",
    "        reward_type=reward_type, \n",
    "        skip_after_stable=3\n",
    "    )\n",
    "    plot_pac_probs(env, probs, errs, \n",
    "                   rl_algo=rl_algo, \n",
    "                   reward_type=reward_type, \n",
    "                   ep_numbers = ep_numbers,\n",
    "                   ep_length = ep_length, \n",
    "                   plot_for_paper=True, \n",
    "                   title=\"\")"
   ]
  },
  {
   "cell_type": "code",
   "execution_count": 49,
   "metadata": {},
   "outputs": [
    {
     "data": {
      "image/png": "[encoded data removed]",
      "text/plain": [
       "<Figure size 460.8x316.8 with 1 Axes>"
      ]
     },
     "metadata": {
      "needs_background": "light"
     },
     "output_type": "display_data"
    }
   ],
   "source": [
    "x = np.geomspace(500, 15000, num=21, dtype=int) * 30\n",
    "plt.plot(x, np.sin(x))\n",
    "plt.gca().set_xscale(\"log\")\n",
    "plt.show()\n"
   ]
  },
  {
   "cell_type": "code",
   "execution_count": 40,
   "metadata": {},
   "outputs": [],
   "source": [
    "with open(\"estimate_pac_probability.cache.json\", \"r\") as f:\n",
    "    x = json.load(f)\n",
    "newx = {}\n",
    "for k, val in x.items():\n",
    "    key = json.dumps((val[\"args\"], val[\"kwargs\"]), sort_keys=True, cls=NumpyEncoder)\n",
    "    key_digest = hashlib.md5(key.encode(\"utf-8\")).hexdigest()\n",
    "    newx[key_digest] = val\n",
    "\n",
    "with open(\"estimate_pac_probability.cache.json\", \"w+\") as f:\n",
    "    json.dump(newx, f, sort_keys=True, cls=NumpyEncoder)"
   ]
  },
  {
   "cell_type": "code",
   "execution_count": 23,
   "metadata": {},
   "outputs": [
    {
     "name": "stdout",
     "output_type": "stream",
     "text": [
      "0.8132417798042297\n"
     ]
    }
   ],
   "source": [
    "print(np.geomspace(0.9, 0.6, num=5, dtype=np.float32)[1].item())"
   ]
  },
  {
   "cell_type": "code",
   "execution_count": null,
   "metadata": {},
   "outputs": [],
   "source": []
  }
 ],
 "metadata": {
  "kernelspec": {
   "display_name": "Python 3 (ipykernel)",
   "language": "python",
   "name": "python3"
  },
  "language_info": {
   "codemirror_mode": {
    "name": "ipython",
    "version": 3
   },
   "file_extension": ".py",
   "mimetype": "text/x-python",
   "name": "python",
   "nbconvert_exporter": "python",
   "pygments_lexer": "ipython3",
   "version": "3.8.11"
  }
 },
 "nbformat": 4,
 "nbformat_minor": 4
}
