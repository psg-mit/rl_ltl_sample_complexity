{
 "cells": [
  {
   "cell_type": "code",
   "execution_count": 64,
   "metadata": {},
   "outputs": [],
   "source": [
    "from typing import Dict, Any, Callable, List, Optional, Union, Tuple\n",
    "\n",
    "import re\n",
    "import subprocess\n",
    "import tempfile\n",
    "import pathlib\n",
    "import dataclasses\n",
    "import textwrap\n",
    "import concurrent.futures\n",
    "import os\n",
    "import functools\n",
    "import itertools\n",
    "import collections\n",
    "import hashlib\n",
    "import json\n",
    "import numpy as np\n",
    "import matplotlib.pyplot as plt\n",
    "\n",
    "from scipy import interpolate\n",
    "\n",
    "from tqdm import tqdm\n",
    "import inspect\n",
    "\n",
    "from IPython.display import display, Markdown\n",
    "\n",
    "import spot\n",
    "from spot.jupyter import display_inline\n",
    "spot.setup(show_default='.bans')\n",
    "\n",
    "from num2tex import num2tex\n",
    "\n",
    "import buddy\n",
    "import graphviz\n",
    "\n",
    "plt.style.use('seaborn-paper')"
   ]
  },
  {
   "cell_type": "code",
   "execution_count": 43,
   "metadata": {},
   "outputs": [],
   "source": [
    "def canonicalize_args(f):\n",
    "    \"\"\"Wrapper for functools.lru_cache() to canonicalize default                                                          \n",
    "    and keyword arguments so cache hits are maximized.\"\"\"\n",
    "\n",
    "    @functools.wraps(f)\n",
    "    def wrapper(*args, **kwargs):\n",
    "        sig = inspect.getfullargspec(f.__wrapped__)\n",
    "\n",
    "        # build newargs by filling in defaults, args, kwargs                                                            \n",
    "        newargs = [None] * len(sig.args)\n",
    "        newargs[-len(sig.defaults):] = sig.defaults\n",
    "        newargs[:len(args)] = args\n",
    "        for name, value in kwargs.items():\n",
    "            newargs[sig.args.index(name)] = value\n",
    "\n",
    "        return f(*newargs)\n",
    "\n",
    "    return wrapper\n",
    "\n",
    "class NumpyEncoder(json.JSONEncoder):\n",
    "    \"\"\" Custom encoder for numpy data types \"\"\"\n",
    "    def default(self, obj):\n",
    "        if isinstance(obj, (np.int_, np.intc, np.intp, np.int8,\n",
    "                            np.int16, np.int32, np.int64, np.uint8,\n",
    "                            np.uint16, np.uint32, np.uint64)):\n",
    "\n",
    "            return int(obj)\n",
    "\n",
    "        elif isinstance(obj, (np.float_, np.float16, np.float32, np.float64)):\n",
    "            return float(obj)\n",
    "\n",
    "        elif isinstance(obj, (np.complex_, np.complex64, np.complex128)):\n",
    "            return {'real': obj.real, 'imag': obj.imag}\n",
    "\n",
    "        elif isinstance(obj, (np.ndarray,)):\n",
    "            return obj.tolist()\n",
    "\n",
    "        elif isinstance(obj, (np.bool_)):\n",
    "            return bool(obj)\n",
    "\n",
    "        elif isinstance(obj, (np.void)): \n",
    "            return None\n",
    "\n",
    "        return json.JSONEncoder.default(self, obj)\n",
    "\n",
    "\n",
    "def persistent_memo(func):\n",
    "    cache_file = pathlib.Path(f\"{func.__name__}.cache.json\")\n",
    "    try:\n",
    "        with cache_file.open(\"r\") as f:\n",
    "            memo = json.load(f)\n",
    "    except FileNotFoundError:\n",
    "        memo = {}\n",
    "    @functools.wraps(func)\n",
    "    def wrapped(*args, **kwargs):\n",
    "        key = json.dumps((args, kwargs), sort_keys=True, cls=NumpyEncoder)\n",
    "        key_digest = hashlib.md5(key.encode(\"utf-8\")).hexdigest()\n",
    "        if key_digest not in memo:\n",
    "            result = func(*args, **kwargs)\n",
    "            memo[key_digest] = {\"args\": args, \"kwargs\": kwargs, \"result\": result}\n",
    "            with cache_file.open(\"w+\") as f:\n",
    "                json.dump(memo, f, sort_keys=True, cls=NumpyEncoder)\n",
    "        return memo[key_digest][\"result\"]\n",
    "    return wrapped\n",
    "\n",
    "\n",
    "mungojerrie_path = \"mungojerrie/build/mungojerrie\"\n",
    "\n",
    "pattern = re.compile(rf\"PAC Probability for tol (\\d+(\\.\\d*)?) is: (?P<satprob>\\d+(\\.\\d*)?)±(?P<std>\\d+(\\.\\d*)?)\")\n",
    "\n",
    "@canonicalize_args\n",
    "@persistent_memo\n",
    "def estimate_pac_probability(epsilon: float, \n",
    "                             model: str, \n",
    "                             min_num_samples: int = 100, \n",
    "                             max_est_std: float = 1e-3,\n",
    "                             reward_type: str = \"multi-discount\", \n",
    "                             discount: float = 0.99999,\n",
    "                             gammaB: float = 0.99, \n",
    "                             learn=\"Q\",\n",
    "                             lr_schedule: Union[Tuple[str, float], Tuple[str, float, float]] = (\"kkt\", 10),\n",
    "                             explore_schedule: Tuple[float, float] = (0.1, 0.1),\n",
    "                             ep_number: int = 100, \n",
    "                             ep_length: int = 10,\n",
    "                             tolerance=0.,\n",
    "                             sarsa_lambda: Optional[float] = None,\n",
    "                             model_params: Dict[str, Any] = None):\n",
    "    if model_params is None:\n",
    "        model_params = {}\n",
    "    \n",
    "    with tempfile.NamedTemporaryFile(mode='w+') as tmp:\n",
    "        model_str = pathlib.Path(f\"{model}.prism\").read_text()\n",
    "        model_str = model_str.format(**model_params)\n",
    "        tmp.write(model_str)\n",
    "        tmp.flush()\n",
    "        try:\n",
    "            cmd = [\n",
    "                    mungojerrie_path, tmp.name, \n",
    "                    \"--epsilon\", \"1e-12\", # necessary for accurate model checking \n",
    "                    \"--ltl-file\", f\"{model}.ltl\",\n",
    "                    \"--learn\", learn, \n",
    "                    \"--reward-type\", reward_type, \n",
    "                    \"--discount\", str(discount),\n",
    "                    \"--gammaB\", str(gammaB),\n",
    "                    \"--tolerance\", str(tolerance), \n",
    "                    # Learning rates\n",
    "                    \"--alpha\", str(lr_schedule[1]) if lr_schedule[0] == \"linear\" else \"0.1\",\n",
    "                    \"--linear-lr-decay\", str(lr_schedule[2]) if lr_schedule[0] == \"linear\" else \"-1\",\n",
    "                    \"--kkt-lr-decay\", str(lr_schedule[1]) if lr_schedule[0] == \"kkt\" else \"-1\",\n",
    "                    # Exploration\n",
    "                    \"--explore\", str(explore_schedule[0]),\n",
    "                    \"--linear-explore-decay\", str(explore_schedule[1]),\n",
    "                    \"--ep-number\", str(ep_number),\n",
    "                    \"--ep-length\", str(ep_length),\n",
    "                    # PAC settings\n",
    "                    \"--est-pac\",\n",
    "                    \"--est-pac-probability-min-samples\", str(min_num_samples),\n",
    "                    \"--est-pac-max-std\", str(max_est_std),\n",
    "                    \"--est-pac-epsilon\", str(epsilon),\n",
    "                    \"--lambda\", str(sarsa_lambda) if sarsa_lambda else \"0\"\n",
    "                    # \"--seed\", str(2),\n",
    "            ]\n",
    "#             print(cmd)\n",
    "            output = subprocess.check_output(\n",
    "                cmd,\n",
    "                stderr=subprocess.STDOUT\n",
    "            )\n",
    "        except subprocess.CalledProcessError as exc:\n",
    "            print(\"Status : FAIL\", exc.returncode, exc.output)\n",
    "            raise exc\n",
    "    output = output.decode(\"utf-8\")\n",
    "    match = pattern.search(output)\n",
    "    pac_prob = float(match.group(\"satprob\"))\n",
    "    pac_prob_std = float(match.group(\"std\"))\n",
    "    return pac_prob, pac_prob_std"
   ]
  },
  {
   "cell_type": "code",
   "execution_count": 195,
   "metadata": {},
   "outputs": [],
   "source": [
    "default_ps = np.geomspace(0.1, 1e-3, num=5)\n",
    "default_ep_numbers = np.geomspace(1, 10000, num=21, dtype=int)[1:]\n",
    "\n",
    "\n",
    "def collect_pac_probs(env: str, \n",
    "                      ps: List[float] = default_ps, \n",
    "                      ep_numbers: List[int] = default_ep_numbers,\n",
    "                      ep_length: int = 10, \n",
    "                      rl_algo: str = \"Q\", \n",
    "                      reward_type: str = \"multi-discount\", \n",
    "                      skip_after_stable: int = float(\"inf\")):\n",
    "    lr_schedule = {\n",
    "        \"Q\": (\"kkt\", 10),\n",
    "        \"DQ\": (\"kkt\", 30),\n",
    "        \"SL\": (\"kkt\", 10),\n",
    "    }[rl_algo]\n",
    "\n",
    "    explore_schedule = {\n",
    "        \"Q\": (1.0, 0.1),\n",
    "        \"DQ\": (1.0, 0.1),\n",
    "        \"SL\": (1.0, 0.001),\n",
    "    }[rl_algo]\n",
    "\n",
    "    probs, errs = collections.defaultdict(list), collections.defaultdict(list)\n",
    "    for p in tqdm(ps):\n",
    "        err_zero_cnt = 0\n",
    "        for ep_number in tqdm(ep_numbers, leave=False):\n",
    "            if err_zero_cnt < skip_after_stable:\n",
    "                prob, err = estimate_pac_probability(\n",
    "                    epsilon=0.1, \n",
    "                    model=f\"models/{env}\",\n",
    "                    model_params=dict(P=p),\n",
    "                    reward_type=reward_type,\n",
    "                    max_est_std=1e-2, \n",
    "                    discount=0.99999,\n",
    "                    gammaB=0.99,\n",
    "                    learn=rl_algo,\n",
    "                    lr_schedule=lr_schedule,\n",
    "                    explore_schedule=explore_schedule,\n",
    "                    ep_number=ep_number, \n",
    "                    ep_length=ep_length,\n",
    "                    sarsa_lambda=0.)\n",
    "#                 print(p, ep_number, prob, err)\n",
    "            if prob == 1.0 and err == 0:\n",
    "                err_zero_cnt += 1\n",
    "            else:\n",
    "                err_zero_cnt = 0\n",
    "            probs[p].append(prob)\n",
    "            errs[p].append(err)\n",
    "    \n",
    "    return probs, errs\n",
    "\n",
    "\n",
    "def interpolate_and_intersect_pac_delta(probs, errs, delta=0.1, \n",
    "                                        ep_numbers: List[int] = default_ep_numbers, \n",
    "                                        ep_length: int = 10):\n",
    "    line, lower, upper = [], [], []\n",
    "    for p in probs:\n",
    "        prob = np.array(probs[p])\n",
    "        err = np.array(errs[p])\n",
    "        line.append(interpolate.UnivariateSpline(ep_numbers,  prob - (1 - delta), s=0).roots()[0])\n",
    "        lower.append(interpolate.UnivariateSpline(ep_numbers, prob - err * 2 - (1 - delta), s=0).roots()[0])\n",
    "        upper.append(interpolate.UnivariateSpline(ep_numbers, prob + err * 2 - (1 - delta), s=0).roots()[0])\n",
    "    return  (np.array(x) * ep_length for x in (lower, line, upper))\n",
    "\n",
    "\n",
    "def plot_pac_probs(env: str, probs, errs, \n",
    "                   ep_numbers: List[int] = default_ep_numbers,\n",
    "                   ep_length: int = 10, \n",
    "                   rl_algo: str = \"Q\", \n",
    "                   reward_type: str = \"multi-discount\", \n",
    "                   title: Optional[str]=None, delta=0.1, max_intercept_num_samples:Optional[int]=None):    \n",
    "    if title is None:\n",
    "        with pathlib.Path(f\"models/{env}.prism\").open(\"r\") as f:\n",
    "            lines = f.readlines()\n",
    "            env_title = env\n",
    "            for line in lines:\n",
    "                m = re.match(r\"\\/\\/\\s*\\@title\\s*:\\s*(?P<env_title>[^\\n]*)\\n\", line)\n",
    "                if m:\n",
    "                    env_title = m.group(\"env_title\")\n",
    "                    break\n",
    "    \n",
    "    sample_numbers = ep_numbers * ep_length\n",
    "    plt.figure(figsize=(3.5,2.1))\n",
    "    ps = sorted(probs.keys(), reverse=True)\n",
    "    lines = []\n",
    "    linestyles = ['solid', (0, (3, 1, 1, 1, 1, 1)), 'dashdot', 'dashed', 'dotted']\n",
    "    linestyles_iter = itertools.cycle(linestyles)\n",
    "    for p in ps:\n",
    "        prob, err = map(np.array, (probs[p], errs[p]))\n",
    "        err = np.maximum(err, 1e-3) * 2\n",
    "        filler = plt.fill_between(sample_numbers, prob-err, prob+err, alpha=0.4)\n",
    "        eb = plt.errorbar(sample_numbers, prob, yerr=err, linewidth=1, linestyle=next(linestyles_iter))\n",
    "        lines.append((filler, eb))\n",
    "\n",
    "    plt.gca().set_xscale(\"log\")\n",
    "    plt.gca().set_xlabel(\"#samples\")\n",
    "    plt.gca().set_ylabel(\"LTL-PAC Prob.\")\n",
    "\n",
    "    plt.axhline(1 - delta, color=\"#000\", alpha=0.4, linestyle=\"--\", linewidth=0.6)\n",
    "    \n",
    "    pstex = [f\"{p:.0e}\".replace(\"-0\",\"-\") for p in ps]\n",
    "    plt.legend(lines, pstex, title=\"$p$\", handlelength=1.2, loc=\"lower right\")\n",
    "    rl_algo_to_name = {\"Q\": \"Q-Learning\", \"DQ\": \"Double Q-Learning\", \"SL\": \"Sarsa($0$)\"}\n",
    "#     reward_type_to_name = {\"multi-discount\": \"Bozkurt\"}\n",
    "    if title is None:\n",
    "        plt.title(f\"{env_title} | {reward_type_to_name.get(reward_type, reward_type)} | {rl_algo_to_name[rl_algo]}\")\n",
    "    elif title != \"\":\n",
    "        plt.title(title)\n",
    "    plt.gcf().tight_layout()\n",
    "    plt.gcf().savefig(f\"plots/{reward_type}-{rl_algo}-{env}\", dpi=600)\n",
    "    plt.show()\n",
    "    \n",
    "    # Plot intercept\n",
    "    lower, line, upper = interpolate_and_intersect_pac_delta(probs, errs, \n",
    "                                                             delta=delta, \n",
    "                                                             ep_numbers=ep_numbers, \n",
    "                                                             ep_length=ep_length)\n",
    "    plt.figure(figsize=(2.217,2.1))\n",
    "    plt.errorbar(range(len(ps)), line, yerr=np.array([line-lower, upper-line]), color=\"#000\", alpha=0.4)\n",
    "    plt.gca().set_xlabel(\"$p$\")\n",
    "    plt.gca().set_xticks(range(len(ps)))\n",
    "    plt.gca().set_xticklabels(pstex)\n",
    "    plt.gca().set_ylabel(\"#samples\")\n",
    "    if max_intercept_num_samples is not None:\n",
    "        plt.ylim([0, max_intercept_num_samples])\n",
    "    plt.gcf().tight_layout()\n",
    "    if title is None:\n",
    "        plt.title(f\"{env_title} | {reward_type_to_name.get(reward_type, reward_type)} | {rl_algo_to_name[rl_algo]}\")\n",
    "    elif title != \"\":\n",
    "        plt.title(title)\n",
    "    plt.gcf().savefig(f\"plots/{reward_type}-{rl_algo}-{env}-intercept-{str(delta).replace('.','_')}\", dpi=600)\n",
    "    plt.show()\n"
   ]
  },
  {
   "cell_type": "code",
   "execution_count": 196,
   "metadata": {},
   "outputs": [
    {
     "name": "stderr",
     "output_type": "stream",
     "text": [
      "  0%|                                                                                                     | 0/5 [00:00<?, ?it/s]\n",
      "  0%|                                                                                                    | 0/20 [00:00<?, ?it/s]\u001b[A\n",
      "                                                                                                                                \u001b[A\n",
      "  0%|                                                                                                    | 0/20 [00:00<?, ?it/s]\u001b[A\n",
      "                                                                                                                                \u001b[A\n",
      "  0%|                                                                                                    | 0/20 [00:00<?, ?it/s]\u001b[A\n",
      "                                                                                                                                \u001b[A\n",
      "  0%|                                                                                                    | 0/20 [00:00<?, ?it/s]\u001b[A\n",
      "                                                                                                                                \u001b[A\n",
      "  0%|                                                                                                    | 0/20 [00:00<?, ?it/s]\u001b[A\n",
      "100%|████████████████████████████████████████████████████████████████████████████████████████████| 5/5 [00:00<00:00, 216.29it/s]\u001b[A\n"
     ]
    },
    {
     "data": {
      "image/png": "[encoded data removed]",
      "text/plain": [
       "<Figure size 252x151.2 with 1 Axes>"
      ]
     },
     "metadata": {
      "needs_background": "light"
     },
     "output_type": "display_data"
    },
    {
     "data": {
      "image/png": "[encoded data removed]",
      "text/plain": [
       "<Figure size 159.624x151.2 with 1 Axes>"
      ]
     },
     "metadata": {
      "needs_background": "light"
     },
     "output_type": "display_data"
    },
    {
     "name": "stderr",
     "output_type": "stream",
     "text": [
      "  0%|                                                                                                     | 0/5 [00:00<?, ?it/s]\n",
      "  0%|                                                                                                    | 0/20 [00:00<?, ?it/s]\u001b[A\n",
      "                                                                                                                                \u001b[A\n",
      "  0%|                                                                                                    | 0/20 [00:00<?, ?it/s]\u001b[A\n",
      "                                                                                                                                \u001b[A\n",
      "  0%|                                                                                                    | 0/20 [00:00<?, ?it/s]\u001b[A\n",
      "                                                                                                                                \u001b[A\n",
      "  0%|                                                                                                    | 0/20 [00:00<?, ?it/s]\u001b[A\n",
      "                                                                                                                                \u001b[A\n",
      "  0%|                                                                                                    | 0/20 [00:00<?, ?it/s]\u001b[A\n",
      "100%|████████████████████████████████████████████████████████████████████████████████████████████| 5/5 [00:00<00:00, 207.93it/s]\u001b[A\n"
     ]
    },
    {
     "data": {
      "image/png": "[encoded data removed]",
      "text/plain": [
       "<Figure size 252x151.2 with 1 Axes>"
      ]
     },
     "metadata": {
      "needs_background": "light"
     },
     "output_type": "display_data"
    },
    {
     "data": {
      "image/png": "[encoded data removed]",
      "text/plain": [
       "<Figure size 159.624x151.2 with 1 Axes>"
      ]
     },
     "metadata": {
      "needs_background": "light"
     },
     "output_type": "display_data"
    },
    {
     "name": "stderr",
     "output_type": "stream",
     "text": [
      "  0%|                                                                                                     | 0/5 [00:00<?, ?it/s]\n",
      "  0%|                                                                                                    | 0/20 [00:00<?, ?it/s]\u001b[A\n",
      "                                                                                                                                \u001b[A\n",
      "  0%|                                                                                                    | 0/20 [00:00<?, ?it/s]\u001b[A\n",
      "                                                                                                                                \u001b[A\n",
      "  0%|                                                                                                    | 0/20 [00:00<?, ?it/s]\u001b[A\n",
      "                                                                                                                                \u001b[A\n",
      "  0%|                                                                                                    | 0/20 [00:00<?, ?it/s]\u001b[A\n",
      "                                                                                                                                \u001b[A\n",
      "  0%|                                                                                                    | 0/20 [00:00<?, ?it/s]\u001b[A\n",
      "100%|████████████████████████████████████████████████████████████████████████████████████████████| 5/5 [00:00<00:00, 200.78it/s]\u001b[A\n"
     ]
    },
    {
     "data": {
      "image/png": "[encoded data removed]",
      "text/plain": [
       "<Figure size 252x151.2 with 1 Axes>"
      ]
     },
     "metadata": {
      "needs_background": "light"
     },
     "output_type": "display_data"
    },
    {
     "data": {
      "image/png": "[encoded data removed]",
      "text/plain": [
       "<Figure size 159.624x151.2 with 1 Axes>"
      ]
     },
     "metadata": {
      "needs_background": "light"
     },
     "output_type": "display_data"
    },
    {
     "name": "stderr",
     "output_type": "stream",
     "text": [
      "  0%|                                                                                                     | 0/5 [00:00<?, ?it/s]\n",
      "  0%|                                                                                                    | 0/20 [00:00<?, ?it/s]\u001b[A\n",
      "                                                                                                                                \u001b[A\n",
      "  0%|                                                                                                    | 0/20 [00:00<?, ?it/s]\u001b[A\n",
      "                                                                                                                                \u001b[A\n",
      "  0%|                                                                                                    | 0/20 [00:00<?, ?it/s]\u001b[A\n",
      "                                                                                                                                \u001b[A\n",
      "  0%|                                                                                                    | 0/20 [00:00<?, ?it/s]\u001b[A\n",
      "                                                                                                                                \u001b[A\n",
      "  0%|                                                                                                    | 0/20 [00:00<?, ?it/s]\u001b[A\n",
      "100%|████████████████████████████████████████████████████████████████████████████████████████████| 5/5 [00:00<00:00, 202.31it/s]\u001b[A\n"
     ]
    },
    {
     "data": {
      "image/png": "[encoded data removed]",
      "text/plain": [
       "<Figure size 252x151.2 with 1 Axes>"
      ]
     },
     "metadata": {
      "needs_background": "light"
     },
     "output_type": "display_data"
    },
    {
     "data": {
      "image/png": "[encoded data removed]",
      "text/plain": [
       "<Figure size 159.624x151.2 with 1 Axes>"
      ]
     },
     "metadata": {
      "needs_background": "light"
     },
     "output_type": "display_data"
    },
    {
     "name": "stderr",
     "output_type": "stream",
     "text": [
      "  0%|                                                                                                     | 0/5 [00:00<?, ?it/s]\n",
      "  0%|                                                                                                    | 0/20 [00:00<?, ?it/s]\u001b[A\n",
      "                                                                                                                                \u001b[A\n",
      "  0%|                                                                                                    | 0/20 [00:00<?, ?it/s]\u001b[A\n",
      "                                                                                                                                \u001b[A\n",
      "  0%|                                                                                                    | 0/20 [00:00<?, ?it/s]\u001b[A\n",
      "                                                                                                                                \u001b[A\n",
      "  0%|                                                                                                    | 0/20 [00:00<?, ?it/s]\u001b[A\n",
      "                                                                                                                                \u001b[A\n",
      "  0%|                                                                                                    | 0/20 [00:00<?, ?it/s]\u001b[A\n",
      "100%|████████████████████████████████████████████████████████████████████████████████████████████| 5/5 [00:00<00:00, 185.07it/s]\u001b[A\n"
     ]
    },
    {
     "data": {
      "image/png": "[encoded data removed]",
      "text/plain": [
       "<Figure size 252x151.2 with 1 Axes>"
      ]
     },
     "metadata": {
      "needs_background": "light"
     },
     "output_type": "display_data"
    },
    {
     "data": {
      "image/png": "[encoded data removed]",
      "text/plain": [
       "<Figure size 159.624x151.2 with 1 Axes>"
      ]
     },
     "metadata": {
      "needs_background": "light"
     },
     "output_type": "display_data"
    },
    {
     "name": "stderr",
     "output_type": "stream",
     "text": [
      "  0%|                                                                                                     | 0/5 [00:00<?, ?it/s]\n",
      "  0%|                                                                                                    | 0/20 [00:00<?, ?it/s]\u001b[A\n",
      "                                                                                                                                \u001b[A\n",
      "  0%|                                                                                                    | 0/20 [00:00<?, ?it/s]\u001b[A\n",
      "                                                                                                                                \u001b[A\n",
      "  0%|                                                                                                    | 0/20 [00:00<?, ?it/s]\u001b[A\n",
      "                                                                                                                                \u001b[A\n",
      "  0%|                                                                                                    | 0/20 [00:00<?, ?it/s]\u001b[A\n",
      "                                                                                                                                \u001b[A\n",
      "  0%|                                                                                                    | 0/20 [00:00<?, ?it/s]\u001b[A\n",
      "100%|████████████████████████████████████████████████████████████████████████████████████████████| 5/5 [00:00<00:00, 164.27it/s]\u001b[A\n"
     ]
    },
    {
     "data": {
      "image/png": "[encoded data removed]",
      "text/plain": [
       "<Figure size 252x151.2 with 1 Axes>"
      ]
     },
     "metadata": {
      "needs_background": "light"
     },
     "output_type": "display_data"
    },
    {
     "data": {
      "image/png": "[encoded data removed]",
      "text/plain": [
       "<Figure size 159.624x151.2 with 1 Axes>"
      ]
     },
     "metadata": {
      "needs_background": "light"
     },
     "output_type": "display_data"
    },
    {
     "name": "stderr",
     "output_type": "stream",
     "text": [
      "  0%|                                                                                                     | 0/5 [00:00<?, ?it/s]\n",
      "  0%|                                                                                                    | 0/20 [00:00<?, ?it/s]\u001b[A\n",
      "                                                                                                                                \u001b[A\n",
      "  0%|                                                                                                    | 0/20 [00:00<?, ?it/s]\u001b[A\n",
      "                                                                                                                                \u001b[A\n",
      "  0%|                                                                                                    | 0/20 [00:00<?, ?it/s]\u001b[A\n",
      "                                                                                                                                \u001b[A\n",
      "  0%|                                                                                                    | 0/20 [00:00<?, ?it/s]\u001b[A\n",
      "                                                                                                                                \u001b[A\n",
      "  0%|                                                                                                    | 0/20 [00:00<?, ?it/s]\u001b[A\n",
      "100%|████████████████████████████████████████████████████████████████████████████████████████████| 5/5 [00:00<00:00, 203.52it/s]\u001b[A\n"
     ]
    },
    {
     "data": {
      "image/png": "[encoded data removed]",
      "text/plain": [
       "<Figure size 252x151.2 with 1 Axes>"
      ]
     },
     "metadata": {
      "needs_background": "light"
     },
     "output_type": "display_data"
    },
    {
     "data": {
      "image/png": "[encoded data removed]",
      "text/plain": [
       "<Figure size 159.624x151.2 with 1 Axes>"
      ]
     },
     "metadata": {
      "needs_background": "light"
     },
     "output_type": "display_data"
    },
    {
     "name": "stderr",
     "output_type": "stream",
     "text": [
      "  0%|                                                                                                     | 0/5 [00:00<?, ?it/s]\n",
      "  0%|                                                                                                    | 0/20 [00:00<?, ?it/s]\u001b[A\n",
      "                                                                                                                                \u001b[A\n",
      "  0%|                                                                                                    | 0/20 [00:00<?, ?it/s]\u001b[A\n",
      "                                                                                                                                \u001b[A\n",
      "  0%|                                                                                                    | 0/20 [00:00<?, ?it/s]\u001b[A\n",
      "                                                                                                                                \u001b[A\n",
      "  0%|                                                                                                    | 0/20 [00:00<?, ?it/s]\u001b[A\n",
      "                                                                                                                                \u001b[A\n",
      "  0%|                                                                                                    | 0/20 [00:00<?, ?it/s]\u001b[A\n",
      "100%|████████████████████████████████████████████████████████████████████████████████████████████| 5/5 [00:00<00:00, 213.49it/s]\u001b[A\n"
     ]
    },
    {
     "data": {
      "image/png": "[encoded data removed]",
      "text/plain": [
       "<Figure size 252x151.2 with 1 Axes>"
      ]
     },
     "metadata": {
      "needs_background": "light"
     },
     "output_type": "display_data"
    },
    {
     "data": {
      "image/png": "[encoded data removed]",
      "text/plain": [
       "<Figure size 159.624x151.2 with 1 Axes>"
      ]
     },
     "metadata": {
      "needs_background": "light"
     },
     "output_type": "display_data"
    },
    {
     "name": "stderr",
     "output_type": "stream",
     "text": [
      "  0%|                                                                                                     | 0/5 [00:00<?, ?it/s]\n",
      "  0%|                                                                                                    | 0/20 [00:00<?, ?it/s]\u001b[A\n",
      "                                                                                                                                \u001b[A\n",
      "  0%|                                                                                                    | 0/20 [00:00<?, ?it/s]\u001b[A\n",
      "                                                                                                                                \u001b[A\n",
      "  0%|                                                                                                    | 0/20 [00:00<?, ?it/s]\u001b[A\n",
      "                                                                                                                                \u001b[A\n",
      "  0%|                                                                                                    | 0/20 [00:00<?, ?it/s]\u001b[A\n",
      "                                                                                                                                \u001b[A\n",
      "  0%|                                                                                                    | 0/20 [00:00<?, ?it/s]\u001b[A\n",
      "100%|████████████████████████████████████████████████████████████████████████████████████████████| 5/5 [00:00<00:00, 201.09it/s]\u001b[A\n"
     ]
    },
    {
     "data": {
      "image/png": "[encoded data removed]",
      "text/plain": [
       "<Figure size 252x151.2 with 1 Axes>"
      ]
     },
     "metadata": {
      "needs_background": "light"
     },
     "output_type": "display_data"
    },
    {
     "data": {
      "image/png": "[encoded data removed]",
      "text/plain": [
       "<Figure size 159.624x151.2 with 1 Axes>"
      ]
     },
     "metadata": {
      "needs_background": "light"
     },
     "output_type": "display_data"
    },
    {
     "name": "stderr",
     "output_type": "stream",
     "text": [
      "  0%|                                                                                                     | 0/5 [00:00<?, ?it/s]\n",
      "  0%|                                                                                                    | 0/20 [00:00<?, ?it/s]\u001b[A\n",
      "                                                                                                                                \u001b[A\n",
      "  0%|                                                                                                    | 0/20 [00:00<?, ?it/s]\u001b[A\n",
      "                                                                                                                                \u001b[A\n",
      "  0%|                                                                                                    | 0/20 [00:00<?, ?it/s]\u001b[A\n",
      "                                                                                                                                \u001b[A\n",
      "  0%|                                                                                                    | 0/20 [00:00<?, ?it/s]\u001b[A\n",
      "                                                                                                                                \u001b[A\n",
      "  0%|                                                                                                    | 0/20 [00:00<?, ?it/s]\u001b[A\n",
      "100%|████████████████████████████████████████████████████████████████████████████████████████████| 5/5 [00:00<00:00, 199.12it/s]\u001b[A\n"
     ]
    },
    {
     "data": {
      "image/png": "[encoded data removed]",
      "text/plain": [
       "<Figure size 252x151.2 with 1 Axes>"
      ]
     },
     "metadata": {
      "needs_background": "light"
     },
     "output_type": "display_data"
    },
    {
     "data": {
      "image/png": "[encoded data removed]",
      "text/plain": [
       "<Figure size 159.624x151.2 with 1 Axes>"
      ]
     },
     "metadata": {
      "needs_background": "light"
     },
     "output_type": "display_data"
    },
    {
     "name": "stderr",
     "output_type": "stream",
     "text": [
      "  0%|                                                                                                     | 0/5 [00:00<?, ?it/s]\n",
      "  0%|                                                                                                    | 0/20 [00:00<?, ?it/s]\u001b[A\n",
      "                                                                                                                                \u001b[A\n",
      "  0%|                                                                                                    | 0/20 [00:00<?, ?it/s]\u001b[A\n",
      "                                                                                                                                \u001b[A\n",
      "  0%|                                                                                                    | 0/20 [00:00<?, ?it/s]\u001b[A\n",
      "                                                                                                                                \u001b[A\n",
      "  0%|                                                                                                    | 0/20 [00:00<?, ?it/s]\u001b[A\n",
      "                                                                                                                                \u001b[A\n",
      "  0%|                                                                                                    | 0/20 [00:00<?, ?it/s]\u001b[A\n",
      "100%|████████████████████████████████████████████████████████████████████████████████████████████| 5/5 [00:00<00:00, 196.48it/s]\u001b[A\n"
     ]
    },
    {
     "data": {
      "image/png": "[encoded data removed]",
      "text/plain": [
       "<Figure size 252x151.2 with 1 Axes>"
      ]
     },
     "metadata": {
      "needs_background": "light"
     },
     "output_type": "display_data"
    },
    {
     "data": {
      "image/png": "[encoded data removed]",
      "text/plain": [
       "<Figure size 159.624x151.2 with 1 Axes>"
      ]
     },
     "metadata": {
      "needs_background": "light"
     },
     "output_type": "display_data"
    },
    {
     "name": "stderr",
     "output_type": "stream",
     "text": [
      "  0%|                                                                                                     | 0/5 [00:00<?, ?it/s]\n",
      "  0%|                                                                                                    | 0/20 [00:00<?, ?it/s]\u001b[A\n",
      "                                                                                                                                \u001b[A\n",
      "  0%|                                                                                                    | 0/20 [00:00<?, ?it/s]\u001b[A\n",
      "                                                                                                                                \u001b[A\n",
      "  0%|                                                                                                    | 0/20 [00:00<?, ?it/s]\u001b[A\n",
      "                                                                                                                                \u001b[A\n",
      "  0%|                                                                                                    | 0/20 [00:00<?, ?it/s]\u001b[A\n",
      "                                                                                                                                \u001b[A\n",
      "  0%|                                                                                                    | 0/20 [00:00<?, ?it/s]\u001b[A\n",
      "100%|████████████████████████████████████████████████████████████████████████████████████████████| 5/5 [00:00<00:00, 212.80it/s]\u001b[A\n"
     ]
    },
    {
     "data": {
      "image/png": "[encoded data removed]",
      "text/plain": [
       "<Figure size 252x151.2 with 1 Axes>"
      ]
     },
     "metadata": {
      "needs_background": "light"
     },
     "output_type": "display_data"
    },
    {
     "data": {
      "image/png": "[encoded data removed]",
      "text/plain": [
       "<Figure size 159.624x151.2 with 1 Axes>"
      ]
     },
     "metadata": {
      "needs_background": "light"
     },
     "output_type": "display_data"
    },
    {
     "name": "stderr",
     "output_type": "stream",
     "text": [
      "  0%|                                                                                                     | 0/5 [00:00<?, ?it/s]\n",
      "  0%|                                                                                                    | 0/20 [00:00<?, ?it/s]\u001b[A\n",
      "                                                                                                                                \u001b[A\n",
      "  0%|                                                                                                    | 0/20 [00:00<?, ?it/s]\u001b[A\n",
      "                                                                                                                                \u001b[A\n",
      "  0%|                                                                                                    | 0/20 [00:00<?, ?it/s]\u001b[A\n",
      "                                                                                                                                \u001b[A\n",
      "  0%|                                                                                                    | 0/20 [00:00<?, ?it/s]\u001b[A\n",
      "                                                                                                                                \u001b[A\n",
      "  0%|                                                                                                    | 0/20 [00:00<?, ?it/s]\u001b[A\n",
      "100%|████████████████████████████████████████████████████████████████████████████████████████████| 5/5 [00:00<00:00, 187.06it/s]\u001b[A\n"
     ]
    },
    {
     "data": {
      "image/png": "[encoded data removed]",
      "text/plain": [
       "<Figure size 252x151.2 with 1 Axes>"
      ]
     },
     "metadata": {
      "needs_background": "light"
     },
     "output_type": "display_data"
    },
    {
     "data": {
      "image/png": "[encoded data removed]",
      "text/plain": [
       "<Figure size 159.624x151.2 with 1 Axes>"
      ]
     },
     "metadata": {
      "needs_background": "light"
     },
     "output_type": "display_data"
    },
    {
     "name": "stderr",
     "output_type": "stream",
     "text": [
      "  0%|                                                                                                     | 0/5 [00:00<?, ?it/s]\n",
      "  0%|                                                                                                    | 0/20 [00:00<?, ?it/s]\u001b[A\n",
      "                                                                                                                                \u001b[A\n",
      "  0%|                                                                                                    | 0/20 [00:00<?, ?it/s]\u001b[A\n",
      "                                                                                                                                \u001b[A\n",
      "  0%|                                                                                                    | 0/20 [00:00<?, ?it/s]\u001b[A\n",
      "                                                                                                                                \u001b[A\n",
      "  0%|                                                                                                    | 0/20 [00:00<?, ?it/s]\u001b[A\n",
      "                                                                                                                                \u001b[A\n",
      "  0%|                                                                                                    | 0/20 [00:00<?, ?it/s]\u001b[A\n",
      "100%|████████████████████████████████████████████████████████████████████████████████████████████| 5/5 [00:00<00:00, 210.22it/s]\u001b[A\n"
     ]
    },
    {
     "data": {
      "image/png": "[encoded data removed]",
      "text/plain": [
       "<Figure size 252x151.2 with 1 Axes>"
      ]
     },
     "metadata": {
      "needs_background": "light"
     },
     "output_type": "display_data"
    },
    {
     "data": {
      "image/png": "[encoded data removed]",
      "text/plain": [
       "<Figure size 159.624x151.2 with 1 Axes>"
      ]
     },
     "metadata": {
      "needs_background": "light"
     },
     "output_type": "display_data"
    },
    {
     "name": "stderr",
     "output_type": "stream",
     "text": [
      "  0%|                                                                                                     | 0/5 [00:00<?, ?it/s]\n",
      "  0%|                                                                                                    | 0/20 [00:00<?, ?it/s]\u001b[A\n",
      "                                                                                                                                \u001b[A\n",
      "  0%|                                                                                                    | 0/20 [00:00<?, ?it/s]\u001b[A\n",
      "                                                                                                                                \u001b[A\n",
      "  0%|                                                                                                    | 0/20 [00:00<?, ?it/s]\u001b[A\n",
      "                                                                                                                                \u001b[A\n",
      "  0%|                                                                                                    | 0/20 [00:00<?, ?it/s]\u001b[A\n",
      "                                                                                                                                \u001b[A\n",
      "  0%|                                                                                                    | 0/20 [00:00<?, ?it/s]\u001b[A\n",
      "100%|████████████████████████████████████████████████████████████████████████████████████████████| 5/5 [00:00<00:00, 201.59it/s]\u001b[A\n"
     ]
    },
    {
     "data": {
      "image/png": "[encoded data removed]",
      "text/plain": [
       "<Figure size 252x151.2 with 1 Axes>"
      ]
     },
     "metadata": {
      "needs_background": "light"
     },
     "output_type": "display_data"
    },
    {
     "data": {
      "image/png": "[encoded data removed]",
      "text/plain": [
       "<Figure size 159.624x151.2 with 1 Axes>"
      ]
     },
     "metadata": {
      "needs_background": "light"
     },
     "output_type": "display_data"
    }
   ],
   "source": [
    "env = \"rl_ltl_pac_paper\"\n",
    "reward_types = [\"zeta-reach\", \"zeta-acc\", \"zeta-discount\", \"multi-discount\", \"reward-on-acc\"]\n",
    "rl_algos = [\"Q\", \"DQ\", \"SL\"]\n",
    "# rl_algos = [\"Q\"]\n",
    "for rl_algo, reward_type in itertools.product(rl_algos, reward_types):\n",
    "    probs, errs = collect_pac_probs(env, rl_algo=rl_algo, reward_type=reward_type, skip_after_stable=3)\n",
    "    plot_pac_probs(env, probs, errs, rl_algo=rl_algo, reward_type=reward_type, title=\"\")"
   ]
  },
  {
   "cell_type": "code",
   "execution_count": 5,
   "metadata": {},
   "outputs": [],
   "source": [
    "AP = Tuple[bool]\n",
    "\n",
    "@dataclasses.dataclass\n",
    "class TrapChain:\n",
    "    prefix: AP\n",
    "    cycle: AP\n",
    "        \n",
    "@dataclasses.dataclass\n",
    "class RegularState:\n",
    "    label: AP\n",
    "    trap: TrapChain\n",
    "\n",
    "@dataclasses.dataclass\n",
    "class ConstructedMDP:\n",
    "    aps: Tuple[str]\n",
    "    top_prefix: List[AP]\n",
    "    top_cycle: List[AP]\n",
    "    bottom_prefix: List[AP]\n",
    "    bottom_cycle: List[AP]\n",
    "    is_accepting_example: bool = True # Wether this example operates on \n",
    "                                      # an accepting or rejecting string\n",
    "\n",
    "\n",
    "def _collect_formula_aps(formula: spot.formula):\n",
    "    \"\"\"Collects the set of atomic propositions in formula.\"\"\"\n",
    "    aps = set()\n",
    "    formula.traverse(lambda f: aps.add(f) if f.kind() == spot.op_ap else None)\n",
    "    return aps\n",
    "\n",
    "\n",
    "def _bdd_to_tuple(aps, bdd_dict, bdd):\n",
    "    \"\"\"Converts a buddy.bdd to a Python tuple.\"\"\"\n",
    "    ret = []\n",
    "    for ap in aps:\n",
    "        v = buddy.bdd_ithvar(bdd_dict.varnum(ap))\n",
    "        ret.append(bool(buddy.bdd_implies(bdd, v))) \n",
    "    return tuple(ret)\n",
    "\n",
    "\n",
    "def _rejecting_run_starting_with(aps: Tuple[str], aut, state):\n",
    "    \"\"\"Computes a trap chain by a rejecting run in `aut` starting from `state`.\n",
    "    \n",
    "    Args:\n",
    "        aps: the atomic propositions.\n",
    "        aut: the automaton to compute the rejecting run on.\n",
    "        state: the state in `aut` from which the run should start.\n",
    "    \n",
    "    Returns:\n",
    "        a rejecting run.\n",
    "    \"\"\"\n",
    "    current_init_state = aut.get_init_state()\n",
    "    aut.set_init_state(aut.state_number(state))\n",
    "    c_aut = spot.complement(aut)\n",
    "    rej_run = c_aut.accepting_run().reduce()\n",
    "    aut.set_init_state(aut.state_number(current_init_state))\n",
    "    assert rej_run is not None, f\"Must exists at least one rejecting run from state {state}\"\n",
    "    return rej_run\n",
    "\n",
    "\n",
    "def to_dra(formula: Union[str, spot.formula]):\n",
    "    \"\"\"Converts a LTL formula into a Deterministic Rabin Automaton.\"\"\"\n",
    "    if isinstance(formula, str):\n",
    "        formula = spot.formula(formula)\n",
    "    aut = formula.translate(\"deterministic\", \"complete\", \"parity\", \"sbacc\")\n",
    "    aut = spot.to_generalized_rabin(aut, False)\n",
    "    return aut\n",
    "\n",
    "\n",
    "def _construct_mdp(formula: Union[str, spot.formula], accepting_example=True):\n",
    "    \"\"\"Constructs an counter-example MDP for a particular LTL formula. \n",
    "    \n",
    "    One can show that the constructed MDP has no sample efficient RL algorithm.\n",
    "    \n",
    "    Args:\n",
    "        formula: the LTL formula.\n",
    "        accepting_example: whether try to create an accepting or rejecting \n",
    "          example.\n",
    "\n",
    "    Returns:\n",
    "        a ConstructedMDP, or None if the example does not exist.\n",
    "    \"\"\"\n",
    "    if isinstance(formula, str):\n",
    "        formula = spot.formula(formula)\n",
    "\n",
    "    if not accepting_example:\n",
    "      formula = spot.formula_Not(formula)\n",
    "\n",
    "    # aut = to_dra(formula)\n",
    "    aut = formula.translate(\"deterministic\", \"complete\", \"parity\", \"sbacc\")\n",
    "    terminal_aut = spot.decompose_scc(aut, \"t\")\n",
    "    if terminal_aut is None:\n",
    "        # Case pure G\n",
    "        weakly_accepting_run = aut.accepting_run()\n",
    "    else:\n",
    "        weakly_accepting_run = aut.intersecting_run(spot.complement(terminal_aut))\n",
    "        if weakly_accepting_run is None:\n",
    "            # Case pure F\n",
    "            return None\n",
    "    \n",
    "    weakly_accepting_run = weakly_accepting_run.reduce()\n",
    "    aps = tuple(_collect_formula_aps(formula))\n",
    "    \n",
    "    rej_run = _rejecting_run_starting_with(aps, aut, weakly_accepting_run.cycle[-1].s)\n",
    "    bottom_prefix, bottom_cycle = rej_run.prefix, rej_run.cycle\n",
    "    \n",
    "    def to_ap(x):\n",
    "        return _bdd_to_tuple(aps, aut.get_dict(), x.label)\n",
    "    \n",
    "    return ConstructedMDP(\n",
    "        aps=tuple(a.to_str() for a in aps),\n",
    "        top_prefix=[to_ap(x) for x in weakly_accepting_run.prefix], \n",
    "        top_cycle=[to_ap(x) for x in weakly_accepting_run.cycle],\n",
    "        bottom_prefix=[to_ap(x) for x in bottom_prefix], \n",
    "        bottom_cycle=[to_ap(x) for x in bottom_cycle],\n",
    "        is_accepting_example=accepting_example)\n",
    "\n",
    "\n",
    "def construct_mdp(formula: Union[str, spot.formula]):\n",
    "  \"\"\"Constructs an either accepting or rejecting example MDP.\n",
    "  \n",
    "  Args: \n",
    "    formula: the LTL formula.\n",
    "  \n",
    "  Returns:\n",
    "    a ConstructedMDP, or None if no example exists (the formula is in B).\n",
    "  \"\"\"\n",
    "  mdp = _construct_mdp(formula, True)\n",
    "  if mdp is None:\n",
    "    mdp = _construct_mdp(formula, False)\n",
    "    if mdp is None:\n",
    "      assert spot.mp_class(formula) == 'B'\n",
    "  return mdp    "
   ]
  },
  {
   "cell_type": "code",
   "execution_count": 6,
   "metadata": {},
   "outputs": [],
   "source": [
    "def to_graphviz(mdp: ConstructedMDP):\n",
    "    g = graphviz.Digraph('MDP')\n",
    "    g.attr(rankdir='TB')\n",
    "    g.attr('node', shape='circle')\n",
    "\n",
    "    def label_to_str(lab):\n",
    "        return \",\".join([f\"{ap}={int(x)}\" for ap, x in zip(mdp.aps, lab)])\n",
    "\n",
    "    def add_action_edge(g, s1, s2, l1=\"a1, p1\", l2=\"a2, p2\", deterministic=False):\n",
    "        if deterministic:\n",
    "            g.edge(s1, s2, label=\"\", color=\"black\")\n",
    "        else:\n",
    "            g.edge(s1, s2, label=l1, color='blue', fontcolor='blue')\n",
    "            g.edge(s1, s2, label=l2, color='red', fontcolor='red')\n",
    "\n",
    "    def add_path(prefix, cycle, name: str, deterministic=False, init=True, color=\"green\"):\n",
    "        states = list(itertools.chain(prefix, cycle))\n",
    "        with g.subgraph(name=name) as bg:\n",
    "            bg.attr(rank=\"same\")\n",
    "            bg.attr('node', fillcolor=color, style='filled')\n",
    "            if init:\n",
    "                bg.node(\"init\", style=\"invis\")\n",
    "                bg.edge(\"init\", f\"{name}-0\")\n",
    "            for s, state in enumerate(states):\n",
    "                bg.node(f\"{name}-{s}\", label=label_to_str(state))\n",
    "            for s1 in range(len(states) - 1):\n",
    "                s2 = s1 + 1\n",
    "                l1, l2 = states[s1], states[s2]\n",
    "                add_action_edge(bg, f\"{name}-{s1}\", f\"{name}-{s2}\", deterministic=deterministic)   \n",
    "            add_action_edge(bg, f\"{name}-{len(prefix) + len(cycle) - 1}\", f\"{name}-{len(prefix)}\", deterministic=deterministic)\n",
    "\n",
    "    add_path(mdp.top_prefix, mdp.top_cycle, name=\"top_region\")\n",
    "    add_path((mdp.top_prefix + mdp.top_cycle)[1:] + mdp.bottom_prefix, mdp.bottom_cycle, \n",
    "             name=\"bottom_region\", deterministic=True, init=False, color=\"grey\")\n",
    "    \n",
    "    for s1 in range(len(mdp.top_prefix + mdp.top_cycle)):\n",
    "        s2 = s1\n",
    "        add_action_edge(g, f\"top_region-{s1}\", f\"bottom_region-{s2}\", l1=\"a1, 1-p1\", l2=\"a2, 1-a2\", \n",
    "                        deterministic=False)\n",
    "\n",
    "    return g\n",
    "\n",
    "\n",
    "def visualize_constructed_MDP(formula: str):\n",
    "  \"\"\"Helper to visualize our construction.\"\"\"\n",
    "  mdp = construct_mdp(formula)\n",
    "  if mdp is None:\n",
    "    msg = f\"\"\"\n",
    "    The formula `{formula}` is in `B`. \n",
    "    It therefore does not have a counter-example MDP.\n",
    "    \"\"\"\n",
    "    msg = textwrap.dedent(msg)\n",
    "    display(Markdown(msg))\n",
    "    return\n",
    "\n",
    "  ar1 = \"an **accepting**\" if mdp.is_accepting_example else \"a **rejecting**\"\n",
    "  ar2 = \"an **accepting**\" if not mdp.is_accepting_example else \"a **rejecting**\"\n",
    "  msg = textwrap.dedent(f\"\"\"\n",
    "  - green: staying in these states creates {ar1} string for the formula ${formula}$\n",
    "  - grey: entering these states creates {ar2} string for the formula ${formula}$\n",
    "  - blue transitions taken by action $a_1$\n",
    "  - red transitions taken by action $a_2$\n",
    "  \"\"\")\n",
    "  display(to_graphviz(mdp))\n",
    "  display(Markdown(msg))\n"
   ]
  },
  {
   "cell_type": "code",
   "execution_count": 11,
   "metadata": {},
   "outputs": [
    {
     "data": {
      "image/svg+xml": [
       "<?xml version=\"1.0\" encoding=\"UTF-8\" standalone=\"no\"?>\n",
       "<!DOCTYPE svg PUBLIC \"-//W3C//DTD SVG 1.1//EN\"\n",
       " \"http://www.w3.org/Graphics/SVG/1.1/DTD/svg11.dtd\">\n",
       "<!-- Generated by graphviz version 2.48.0 (20210717.1556)\n",
       " -->\n",
       "<!-- Title: MDP Pages: 1 -->\n",
       "<svg width=\"244pt\" height=\"158pt\"\n",
       " viewBox=\"0.00 0.00 244.45 157.79\" xmlns=\"http://www.w3.org/2000/svg\" xmlns:xlink=\"http://www.w3.org/1999/xlink\">\n",
       "<g id=\"graph0\" class=\"graph\" transform=\"scale(1 1) rotate(0) translate(4 153.79)\">\n",
       "<title>MDP</title>\n",
       "<polygon fill=\"white\" stroke=\"transparent\" points=\"-4,4 -4,-153.79 240.45,-153.79 240.45,4 -4,4\"/>\n",
       "<!-- init -->\n",
       "<!-- top_region&#45;0 -->\n",
       "<g id=\"node2\" class=\"node\">\n",
       "<title>top_region&#45;0</title>\n",
       "<ellipse fill=\"green\" stroke=\"black\" cx=\"105.75\" cy=\"-125.09\" rx=\"24.9\" ry=\"24.9\"/>\n",
       "<text text-anchor=\"middle\" x=\"105.75\" y=\"-121.39\" font-family=\"Times,serif\" font-size=\"14.00\">b=0</text>\n",
       "</g>\n",
       "<!-- init&#45;&gt;top_region&#45;0 -->\n",
       "<g id=\"edge1\" class=\"edge\">\n",
       "<title>init&#45;&gt;top_region&#45;0</title>\n",
       "<path fill=\"none\" stroke=\"black\" d=\"M45.77,-125.09C54.1,-125.09 62.42,-125.09 70.75,-125.09\"/>\n",
       "<polygon fill=\"black\" stroke=\"black\" points=\"70.91,-128.59 80.91,-125.09 70.91,-121.59 70.91,-128.59\"/>\n",
       "</g>\n",
       "<!-- top_region&#45;0&#45;&gt;top_region&#45;0 -->\n",
       "<g id=\"edge2\" class=\"edge\">\n",
       "<title>top_region&#45;0&#45;&gt;top_region&#45;0</title>\n",
       "<path fill=\"none\" stroke=\"blue\" d=\"M130.32,-129.75C140.17,-130.02 148.45,-128.46 148.45,-125.09 148.45,-122.99 145.21,-121.59 140.39,-120.9\"/>\n",
       "<polygon fill=\"blue\" stroke=\"blue\" points=\"140.47,-117.4 130.32,-120.43 140.15,-124.4 140.47,-117.4\"/>\n",
       "<text text-anchor=\"middle\" x=\"165.95\" y=\"-121.39\" font-family=\"Times,serif\" font-size=\"14.00\" fill=\"blue\">a1, p1</text>\n",
       "</g>\n",
       "<!-- top_region&#45;0&#45;&gt;top_region&#45;0 -->\n",
       "<g id=\"edge3\" class=\"edge\">\n",
       "<title>top_region&#45;0&#45;&gt;top_region&#45;0</title>\n",
       "<path fill=\"none\" stroke=\"red\" d=\"M129.55,-132.67C153.76,-136.6 183.45,-134.08 183.45,-125.09 183.45,-117.34 161.32,-114.39 139.7,-116.26\"/>\n",
       "<polygon fill=\"red\" stroke=\"red\" points=\"139.04,-112.82 129.55,-117.51 139.9,-119.76 139.04,-112.82\"/>\n",
       "<text text-anchor=\"middle\" x=\"200.95\" y=\"-121.39\" font-family=\"Times,serif\" font-size=\"14.00\" fill=\"red\">a2, p2</text>\n",
       "</g>\n",
       "<!-- bottom_region&#45;0 -->\n",
       "<g id=\"node3\" class=\"node\">\n",
       "<title>bottom_region&#45;0</title>\n",
       "<ellipse fill=\"grey\" stroke=\"black\" cx=\"104.75\" cy=\"-24.7\" rx=\"24.9\" ry=\"24.9\"/>\n",
       "<text text-anchor=\"middle\" x=\"104.75\" y=\"-21\" font-family=\"Times,serif\" font-size=\"14.00\">b=1</text>\n",
       "</g>\n",
       "<!-- top_region&#45;0&#45;&gt;bottom_region&#45;0 -->\n",
       "<g id=\"edge6\" class=\"edge\">\n",
       "<title>top_region&#45;0&#45;&gt;bottom_region&#45;0</title>\n",
       "<path fill=\"none\" stroke=\"blue\" d=\"M87.83,-107.53C81.47,-100.48 75.07,-91.72 71.75,-82.4 67.69,-71 72.68,-59.29 79.92,-49.5\"/>\n",
       "<polygon fill=\"blue\" stroke=\"blue\" points=\"82.65,-51.69 86.37,-41.77 77.27,-47.21 82.65,-51.69\"/>\n",
       "<text text-anchor=\"middle\" x=\"94.75\" y=\"-71.2\" font-family=\"Times,serif\" font-size=\"14.00\" fill=\"blue\">a1, 1&#45;p1</text>\n",
       "</g>\n",
       "<!-- top_region&#45;0&#45;&gt;bottom_region&#45;0 -->\n",
       "<g id=\"edge7\" class=\"edge\">\n",
       "<title>top_region&#45;0&#45;&gt;bottom_region&#45;0</title>\n",
       "<path fill=\"none\" stroke=\"red\" d=\"M114.24,-101.85C117.25,-91.44 119.49,-78.83 117.75,-67.4 117.28,-64.35 116.64,-61.21 115.88,-58.1\"/>\n",
       "<polygon fill=\"red\" stroke=\"red\" points=\"119.22,-57.04 113.17,-48.35 112.48,-58.92 119.22,-57.04\"/>\n",
       "<text text-anchor=\"middle\" x=\"141.75\" y=\"-71.2\" font-family=\"Times,serif\" font-size=\"14.00\" fill=\"red\">a2, 1&#45;a2</text>\n",
       "</g>\n",
       "<!-- bottom_region&#45;1 -->\n",
       "<g id=\"node4\" class=\"node\">\n",
       "<title>bottom_region&#45;1</title>\n",
       "<ellipse fill=\"grey\" stroke=\"black\" cx=\"189.75\" cy=\"-24.7\" rx=\"24.9\" ry=\"24.9\"/>\n",
       "<text text-anchor=\"middle\" x=\"189.75\" y=\"-21\" font-family=\"Times,serif\" font-size=\"14.00\">b=0</text>\n",
       "</g>\n",
       "<!-- bottom_region&#45;0&#45;&gt;bottom_region&#45;1 -->\n",
       "<g id=\"edge4\" class=\"edge\">\n",
       "<title>bottom_region&#45;0&#45;&gt;bottom_region&#45;1</title>\n",
       "<path fill=\"none\" stroke=\"black\" d=\"M129.65,-24.7C138,-24.7 146.34,-24.7 154.68,-24.7\"/>\n",
       "<polygon fill=\"black\" stroke=\"black\" points=\"154.86,-28.2 164.86,-24.7 154.86,-21.2 154.86,-28.2\"/>\n",
       "</g>\n",
       "<!-- bottom_region&#45;1&#45;&gt;bottom_region&#45;1 -->\n",
       "<g id=\"edge5\" class=\"edge\">\n",
       "<title>bottom_region&#45;1&#45;&gt;bottom_region&#45;1</title>\n",
       "<path fill=\"none\" stroke=\"black\" d=\"M213.03,-33.93C223.44,-34.81 232.45,-31.73 232.45,-24.7 232.45,-20.19 228.75,-17.31 223.35,-16.05\"/>\n",
       "<polygon fill=\"black\" stroke=\"black\" points=\"223.21,-12.54 213.03,-15.47 222.81,-19.53 223.21,-12.54\"/>\n",
       "</g>\n",
       "</g>\n",
       "</svg>\n"
      ],
      "text/plain": [
       "<graphviz.dot.Digraph at 0x7fde0842f100>"
      ]
     },
     "metadata": {},
     "output_type": "display_data"
    },
    {
     "data": {
      "text/markdown": [
       "\n",
       "- green: staying in these states creates a **rejecting** string for the formula $F b$\n",
       "- grey: entering these states creates an **accepting** string for the formula $F b$\n",
       "- blue transitions taken by action $a_1$\n",
       "- red transitions taken by action $a_2$\n"
      ],
      "text/plain": [
       "<IPython.core.display.Markdown object>"
      ]
     },
     "metadata": {},
     "output_type": "display_data"
    }
   ],
   "source": [
    "visualize_constructed_MDP(\"F b\")"
   ]
  },
  {
   "cell_type": "code",
   "execution_count": 8,
   "metadata": {},
   "outputs": [],
   "source": [
    "def rewrite_ltl_formula_for_prism(ltl_formula: str) -> str:\n",
    "    \"\"\"Rewrites ltl_formula with proper quoting so it works for prism.\"\"\"\n",
    "    ltl = spot.formula(ltl_formula)\n",
    "    relabel_map = {}\n",
    "    for ap in spot.atomic_prop_collect(ltl):\n",
    "        # we add $ here to make spot satisfied with the double quotes...\n",
    "        # this means that we assumed there are no $ in the AP names\n",
    "        relabel_map[ap] = spot.formula(f'\"${ap}$\"')\n",
    "        relabel_map = spot.relabeling_map(relabel_map)\n",
    "        ltl_transformed = spot.relabel_apply(ltl, relabel_map)\n",
    "        # format formula with parenthesis, then remove $\n",
    "        return f'{ltl_transformed:p}'.replace(\"$\", \"\")\n",
    "\n",
    "\n",
    "def to_prism(formula: str, env_title: Optional[str] = None):\n",
    "    if env_title is None:\n",
    "        env_title = f\"Constructed MDP for {formula}\"\n",
    "    \n",
    "    mdp = construct_mdp(formula)\n",
    "\n",
    "    env = f\"constructed-mdp-#{formula}#\"\n",
    "    with pathlib.Path(f\"models/{env}.prism\").open(\"w+\") as f:\n",
    "        print(textwrap.dedent(f\"\"\"\n",
    "        // @title: {env_title}\n",
    "        \n",
    "        mdp\n",
    "        \n",
    "        const double p1 = {{P1}};\n",
    "        const double p2 = {{P2}};\n",
    "        \"\"\")[1:], file=f)\n",
    "        states = {s: ap for s, ap in enumerate(itertools.chain(mdp.top_prefix, \n",
    "                                                               mdp.top_cycle, \n",
    "                                                               (mdp.top_prefix + mdp.top_cycle)[1:], \n",
    "                                                               mdp.bottom_prefix, \n",
    "                                                               mdp.bottom_cycle))\n",
    "                 }\n",
    "        \n",
    "        for i, ap in enumerate(mdp.aps):\n",
    "            ap_states = \"|\".join([f\"s={s}\" for s, sap in states.items() if sap[i]])\n",
    "            print(f'label \"{ap}\" = {ap_states};', file=f)\n",
    "        \n",
    "        print(\"\", file=f)\n",
    "        print(\"module grid\", file=f)\n",
    "        print(f\"  s : [0..{len(states)-1}];\", file=f)\n",
    "        print(\"\", file=f)\n",
    "        \n",
    "        def print_edge(action, from_state, to_states):\n",
    "            f.write(\"[{action}] s={from_state} -> \")\n",
    "            \n",
    "        for ai in range(1, 3):\n",
    "            top_len = len(mdp.top_prefix + mdp.top_cycle)\n",
    "            for s1 in range(top_len):\n",
    "                s2 = len(mdp.top_prefix) if s1 == top_len - 1 else s1 + 1 \n",
    "                s3 = s1 + top_len\n",
    "                print(f\"  [a{ai}] s={s1} -> p{ai} : (s'={s2}) + 1-p{ai} : (s'={s3});\", file=f)\n",
    "            \n",
    "        for s1 in range(top_len, len(states)):\n",
    "            s2 = len(states) - len(mdp.bottom_cycle) if s1 == len(states) - 1 else s1 + 1\n",
    "            print(f\"  [] s={s1} -> (s'={s2});\", file=f)\n",
    "\n",
    "        print(\"endmodule\", file=f)\n",
    "    \n",
    "    with pathlib.Path(f\"models/{env}.ltl\").open(\"w+\") as f:\n",
    "        prism_formula = rewrite_ltl_formula_for_prism(formula)\n",
    "        print(prism_formula, file=f)\n",
    "    \n",
    "    return env"
   ]
  },
  {
   "cell_type": "code",
   "execution_count": 9,
   "metadata": {},
   "outputs": [
    {
     "name": "stderr",
     "output_type": "stream",
     "text": [
      "\r",
      "  0%|                                                                                                   | 0/100 [00:00<?, ?it/s]"
     ]
    },
    {
     "name": "stdout",
     "output_type": "stream",
     "text": [
      "['mungojerrie/build/mungojerrie', '/var/folders/8v/xg5xyd3d6fn_k_mh75z9tn3w0000gn/T/tmplilz2s0g', '--ltl-file', 'models/constructed-mdp-#G a & F b#.ltl', '--learn', 'Q', '--reward-type', 'multi-discount', '--discount', '0.99999', '--gammaB', '0.99', '--tolerance', '0.0', '--alpha', '0.1', '--linear-lr-decay', '-1', '--kkt-lr-decay', '10', '--explore', '1.0', '--linear-explore-decay', '0.1', '--ep-number', '1', '--ep-length', '20', '--est-pac', '--est-pac-probability-min-samples', '100', '--est-pac-max-std', '0.01', '--est-pac-epsilon', '0.001', '--lambda', '0']\n"
     ]
    },
    {
     "name": "stderr",
     "output_type": "stream",
     "text": [
      "\r",
      "  1%|▉                                                                                          | 1/100 [00:05<09:46,  5.92s/it]"
     ]
    },
    {
     "name": "stdout",
     "output_type": "stream",
     "text": [
      "0.9 1 0.0 0.0\n",
      "['mungojerrie/build/mungojerrie', '/var/folders/8v/xg5xyd3d6fn_k_mh75z9tn3w0000gn/T/tmpupfl463y', '--ltl-file', 'models/constructed-mdp-#G a & F b#.ltl', '--learn', 'Q', '--reward-type', 'multi-discount', '--discount', '0.99999', '--gammaB', '0.99', '--tolerance', '0.0', '--alpha', '0.1', '--linear-lr-decay', '-1', '--kkt-lr-decay', '10', '--explore', '1.0', '--linear-explore-decay', '0.1', '--ep-number', '3', '--ep-length', '20', '--est-pac', '--est-pac-probability-min-samples', '100', '--est-pac-max-std', '0.01', '--est-pac-epsilon', '0.001', '--lambda', '0']\n"
     ]
    },
    {
     "name": "stderr",
     "output_type": "stream",
     "text": [
      "\r",
      "  2%|█▊                                                                                         | 2/100 [00:12<09:49,  6.01s/it]"
     ]
    },
    {
     "name": "stdout",
     "output_type": "stream",
     "text": [
      "0.9 3 0.40918 0.00973868\n",
      "['mungojerrie/build/mungojerrie', '/var/folders/8v/xg5xyd3d6fn_k_mh75z9tn3w0000gn/T/tmpqj9dj4j6', '--ltl-file', 'models/constructed-mdp-#G a & F b#.ltl', '--learn', 'Q', '--reward-type', 'multi-discount', '--discount', '0.99999', '--gammaB', '0.99', '--tolerance', '0.0', '--alpha', '0.1', '--linear-lr-decay', '-1', '--kkt-lr-decay', '10', '--explore', '1.0', '--linear-explore-decay', '0.1', '--ep-number', '5', '--ep-length', '20', '--est-pac', '--est-pac-probability-min-samples', '100', '--est-pac-max-std', '0.01', '--est-pac-epsilon', '0.001', '--lambda', '0']\n"
     ]
    },
    {
     "name": "stderr",
     "output_type": "stream",
     "text": [
      "\r",
      "  3%|██▋                                                                                        | 3/100 [00:18<09:53,  6.12s/it]"
     ]
    },
    {
     "name": "stdout",
     "output_type": "stream",
     "text": [
      "0.9 5 0.478626 0.00975938\n",
      "['mungojerrie/build/mungojerrie', '/var/folders/8v/xg5xyd3d6fn_k_mh75z9tn3w0000gn/T/tmp9k3sgl6z', '--ltl-file', 'models/constructed-mdp-#G a & F b#.ltl', '--learn', 'Q', '--reward-type', 'multi-discount', '--discount', '0.99999', '--gammaB', '0.99', '--tolerance', '0.0', '--alpha', '0.1', '--linear-lr-decay', '-1', '--kkt-lr-decay', '10', '--explore', '1.0', '--linear-explore-decay', '0.1', '--ep-number', '10', '--ep-length', '20', '--est-pac', '--est-pac-probability-min-samples', '100', '--est-pac-max-std', '0.01', '--est-pac-epsilon', '0.001', '--lambda', '0']\n"
     ]
    },
    {
     "name": "stderr",
     "output_type": "stream",
     "text": [
      "\r",
      "  4%|███▋                                                                                       | 4/100 [00:25<10:19,  6.45s/it]"
     ]
    },
    {
     "name": "stdout",
     "output_type": "stream",
     "text": [
      "0.9 10 0.627785 0.00972841\n",
      "['mungojerrie/build/mungojerrie', '/var/folders/8v/xg5xyd3d6fn_k_mh75z9tn3w0000gn/T/tmpuwof_kbx', '--ltl-file', 'models/constructed-mdp-#G a & F b#.ltl', '--learn', 'Q', '--reward-type', 'multi-discount', '--discount', '0.99999', '--gammaB', '0.99', '--tolerance', '0.0', '--alpha', '0.1', '--linear-lr-decay', '-1', '--kkt-lr-decay', '10', '--explore', '1.0', '--linear-explore-decay', '0.1', '--ep-number', '17', '--ep-length', '20', '--est-pac', '--est-pac-probability-min-samples', '100', '--est-pac-max-std', '0.01', '--est-pac-epsilon', '0.001', '--lambda', '0']\n"
     ]
    },
    {
     "name": "stderr",
     "output_type": "stream",
     "text": [
      "\r",
      "  5%|████▌                                                                                      | 5/100 [00:32<10:35,  6.69s/it]"
     ]
    },
    {
     "name": "stdout",
     "output_type": "stream",
     "text": [
      "0.9 17 0.716798 0.00969213\n",
      "['mungojerrie/build/mungojerrie', '/var/folders/8v/xg5xyd3d6fn_k_mh75z9tn3w0000gn/T/tmpyaghqmkg', '--ltl-file', 'models/constructed-mdp-#G a & F b#.ltl', '--learn', 'Q', '--reward-type', 'multi-discount', '--discount', '0.99999', '--gammaB', '0.99', '--tolerance', '0.0', '--alpha', '0.1', '--linear-lr-decay', '-1', '--kkt-lr-decay', '10', '--explore', '1.0', '--linear-explore-decay', '0.1', '--ep-number', '31', '--ep-length', '20', '--est-pac', '--est-pac-probability-min-samples', '100', '--est-pac-max-std', '0.01', '--est-pac-epsilon', '0.001', '--lambda', '0']\n"
     ]
    },
    {
     "name": "stderr",
     "output_type": "stream",
     "text": [
      "\r",
      "  6%|█████▍                                                                                     | 6/100 [00:39<10:32,  6.73s/it]"
     ]
    },
    {
     "name": "stdout",
     "output_type": "stream",
     "text": [
      "0.9 31 0.864865 0.00963869\n",
      "['mungojerrie/build/mungojerrie', '/var/folders/8v/xg5xyd3d6fn_k_mh75z9tn3w0000gn/T/tmpb78q5jvq', '--ltl-file', 'models/constructed-mdp-#G a & F b#.ltl', '--learn', 'Q', '--reward-type', 'multi-discount', '--discount', '0.99999', '--gammaB', '0.99', '--tolerance', '0.0', '--alpha', '0.1', '--linear-lr-decay', '-1', '--kkt-lr-decay', '10', '--explore', '1.0', '--linear-explore-decay', '0.1', '--ep-number', '56', '--ep-length', '20', '--est-pac', '--est-pac-probability-min-samples', '100', '--est-pac-max-std', '0.01', '--est-pac-epsilon', '0.001', '--lambda', '0']\n"
     ]
    },
    {
     "name": "stderr",
     "output_type": "stream",
     "text": [
      "\r",
      "  7%|██████▎                                                                                    | 7/100 [00:45<10:25,  6.73s/it]"
     ]
    },
    {
     "name": "stdout",
     "output_type": "stream",
     "text": [
      "0.9 56 0.98913 0.00764406\n",
      "['mungojerrie/build/mungojerrie', '/var/folders/8v/xg5xyd3d6fn_k_mh75z9tn3w0000gn/T/tmp9gnl0htq', '--ltl-file', 'models/constructed-mdp-#G a & F b#.ltl', '--learn', 'Q', '--reward-type', 'multi-discount', '--discount', '0.99999', '--gammaB', '0.99', '--tolerance', '0.0', '--alpha', '0.1', '--linear-lr-decay', '-1', '--kkt-lr-decay', '10', '--explore', '1.0', '--linear-explore-decay', '0.1', '--ep-number', '100', '--ep-length', '20', '--est-pac', '--est-pac-probability-min-samples', '100', '--est-pac-max-std', '0.01', '--est-pac-epsilon', '0.001', '--lambda', '0']\n"
     ]
    },
    {
     "name": "stderr",
     "output_type": "stream",
     "text": [
      "\r",
      "  8%|███████▎                                                                                   | 8/100 [00:53<10:33,  6.88s/it]"
     ]
    },
    {
     "name": "stdout",
     "output_type": "stream",
     "text": [
      "0.9 100 0.994737 0.00524929\n",
      "['mungojerrie/build/mungojerrie', '/var/folders/8v/xg5xyd3d6fn_k_mh75z9tn3w0000gn/T/tmperxpi74i', '--ltl-file', 'models/constructed-mdp-#G a & F b#.ltl', '--learn', 'Q', '--reward-type', 'multi-discount', '--discount', '0.99999', '--gammaB', '0.99', '--tolerance', '0.0', '--alpha', '0.1', '--linear-lr-decay', '-1', '--kkt-lr-decay', '10', '--explore', '1.0', '--linear-explore-decay', '0.1', '--ep-number', '177', '--ep-length', '20', '--est-pac', '--est-pac-probability-min-samples', '100', '--est-pac-max-std', '0.01', '--est-pac-epsilon', '0.001', '--lambda', '0']\n"
     ]
    },
    {
     "name": "stderr",
     "output_type": "stream",
     "text": [
      "\r",
      "  9%|████████▏                                                                                  | 9/100 [01:00<10:43,  7.07s/it]"
     ]
    },
    {
     "name": "stdout",
     "output_type": "stream",
     "text": [
      "0.9 177 1.0 0.0\n",
      "['mungojerrie/build/mungojerrie', '/var/folders/8v/xg5xyd3d6fn_k_mh75z9tn3w0000gn/T/tmpt7q8jco4', '--ltl-file', 'models/constructed-mdp-#G a & F b#.ltl', '--learn', 'Q', '--reward-type', 'multi-discount', '--discount', '0.99999', '--gammaB', '0.99', '--tolerance', '0.0', '--alpha', '0.1', '--linear-lr-decay', '-1', '--kkt-lr-decay', '10', '--explore', '1.0', '--linear-explore-decay', '0.1', '--ep-number', '316', '--ep-length', '20', '--est-pac', '--est-pac-probability-min-samples', '100', '--est-pac-max-std', '0.01', '--est-pac-epsilon', '0.001', '--lambda', '0']\n"
     ]
    },
    {
     "name": "stderr",
     "output_type": "stream",
     "text": [
      "\r",
      " 10%|█████████                                                                                 | 10/100 [01:08<10:48,  7.20s/it]"
     ]
    },
    {
     "name": "stdout",
     "output_type": "stream",
     "text": [
      "0.9 316 1.0 0.0\n",
      "['mungojerrie/build/mungojerrie', '/var/folders/8v/xg5xyd3d6fn_k_mh75z9tn3w0000gn/T/tmprdjyz27_', '--ltl-file', 'models/constructed-mdp-#G a & F b#.ltl', '--learn', 'Q', '--reward-type', 'multi-discount', '--discount', '0.99999', '--gammaB', '0.99', '--tolerance', '0.0', '--alpha', '0.1', '--linear-lr-decay', '-1', '--kkt-lr-decay', '10', '--explore', '1.0', '--linear-explore-decay', '0.1', '--ep-number', '562', '--ep-length', '20', '--est-pac', '--est-pac-probability-min-samples', '100', '--est-pac-max-std', '0.01', '--est-pac-epsilon', '0.001', '--lambda', '0']\n"
     ]
    },
    {
     "name": "stderr",
     "output_type": "stream",
     "text": [
      "\r",
      " 11%|█████████▉                                                                                | 11/100 [01:15<10:50,  7.31s/it]"
     ]
    },
    {
     "name": "stdout",
     "output_type": "stream",
     "text": [
      "0.9 562 1.0 0.0\n",
      "['mungojerrie/build/mungojerrie', '/var/folders/8v/xg5xyd3d6fn_k_mh75z9tn3w0000gn/T/tmp_up02lrw', '--ltl-file', 'models/constructed-mdp-#G a & F b#.ltl', '--learn', 'Q', '--reward-type', 'multi-discount', '--discount', '0.99999', '--gammaB', '0.99', '--tolerance', '0.0', '--alpha', '0.1', '--linear-lr-decay', '-1', '--kkt-lr-decay', '10', '--explore', '1.0', '--linear-explore-decay', '0.1', '--ep-number', '1000', '--ep-length', '20', '--est-pac', '--est-pac-probability-min-samples', '100', '--est-pac-max-std', '0.01', '--est-pac-epsilon', '0.001', '--lambda', '0']\n"
     ]
    },
    {
     "name": "stderr",
     "output_type": "stream",
     "text": [
      "\r",
      " 12%|██████████▊                                                                               | 12/100 [01:23<11:08,  7.59s/it]"
     ]
    },
    {
     "name": "stdout",
     "output_type": "stream",
     "text": [
      "0.9 1000 1.0 0.0\n",
      "['mungojerrie/build/mungojerrie', '/var/folders/8v/xg5xyd3d6fn_k_mh75z9tn3w0000gn/T/tmp6ch63ins', '--ltl-file', 'models/constructed-mdp-#G a & F b#.ltl', '--learn', 'Q', '--reward-type', 'multi-discount', '--discount', '0.99999', '--gammaB', '0.99', '--tolerance', '0.0', '--alpha', '0.1', '--linear-lr-decay', '-1', '--kkt-lr-decay', '10', '--explore', '1.0', '--linear-explore-decay', '0.1', '--ep-number', '1778', '--ep-length', '20', '--est-pac', '--est-pac-probability-min-samples', '100', '--est-pac-max-std', '0.01', '--est-pac-epsilon', '0.001', '--lambda', '0']\n"
     ]
    },
    {
     "name": "stderr",
     "output_type": "stream",
     "text": [
      "\r",
      " 13%|███████████▋                                                                              | 13/100 [01:32<11:29,  7.93s/it]"
     ]
    },
    {
     "name": "stdout",
     "output_type": "stream",
     "text": [
      "0.9 1778 1.0 0.0\n",
      "['mungojerrie/build/mungojerrie', '/var/folders/8v/xg5xyd3d6fn_k_mh75z9tn3w0000gn/T/tmp3k6dlchi', '--ltl-file', 'models/constructed-mdp-#G a & F b#.ltl', '--learn', 'Q', '--reward-type', 'multi-discount', '--discount', '0.99999', '--gammaB', '0.99', '--tolerance', '0.0', '--alpha', '0.1', '--linear-lr-decay', '-1', '--kkt-lr-decay', '10', '--explore', '1.0', '--linear-explore-decay', '0.1', '--ep-number', '3162', '--ep-length', '20', '--est-pac', '--est-pac-probability-min-samples', '100', '--est-pac-max-std', '0.01', '--est-pac-epsilon', '0.001', '--lambda', '0']\n"
     ]
    },
    {
     "name": "stderr",
     "output_type": "stream",
     "text": [
      "\r",
      " 14%|████████████▌                                                                             | 14/100 [01:41<11:51,  8.27s/it]"
     ]
    },
    {
     "name": "stdout",
     "output_type": "stream",
     "text": [
      "0.9 3162 1.0 0.0\n",
      "['mungojerrie/build/mungojerrie', '/var/folders/8v/xg5xyd3d6fn_k_mh75z9tn3w0000gn/T/tmpbbpyv_2a', '--ltl-file', 'models/constructed-mdp-#G a & F b#.ltl', '--learn', 'Q', '--reward-type', 'multi-discount', '--discount', '0.99999', '--gammaB', '0.99', '--tolerance', '0.0', '--alpha', '0.1', '--linear-lr-decay', '-1', '--kkt-lr-decay', '10', '--explore', '1.0', '--linear-explore-decay', '0.1', '--ep-number', '5623', '--ep-length', '20', '--est-pac', '--est-pac-probability-min-samples', '100', '--est-pac-max-std', '0.01', '--est-pac-epsilon', '0.001', '--lambda', '0']\n"
     ]
    },
    {
     "name": "stderr",
     "output_type": "stream",
     "text": [
      "\r",
      " 15%|█████████████▌                                                                            | 15/100 [01:51<12:33,  8.86s/it]"
     ]
    },
    {
     "name": "stdout",
     "output_type": "stream",
     "text": [
      "0.9 5623 1.0 0.0\n",
      "['mungojerrie/build/mungojerrie', '/var/folders/8v/xg5xyd3d6fn_k_mh75z9tn3w0000gn/T/tmpfw0v6rha', '--ltl-file', 'models/constructed-mdp-#G a & F b#.ltl', '--learn', 'Q', '--reward-type', 'multi-discount', '--discount', '0.99999', '--gammaB', '0.99', '--tolerance', '0.0', '--alpha', '0.1', '--linear-lr-decay', '-1', '--kkt-lr-decay', '10', '--explore', '1.0', '--linear-explore-decay', '0.1', '--ep-number', '10000', '--ep-length', '20', '--est-pac', '--est-pac-probability-min-samples', '100', '--est-pac-max-std', '0.01', '--est-pac-epsilon', '0.001', '--lambda', '0']\n"
     ]
    },
    {
     "name": "stderr",
     "output_type": "stream",
     "text": [
      "\r",
      " 16%|██████████████▍                                                                           | 16/100 [02:05<14:15, 10.19s/it]"
     ]
    },
    {
     "name": "stdout",
     "output_type": "stream",
     "text": [
      "0.9 10000 1.0 0.0\n",
      "['mungojerrie/build/mungojerrie', '/var/folders/8v/xg5xyd3d6fn_k_mh75z9tn3w0000gn/T/tmpzj15sych', '--ltl-file', 'models/constructed-mdp-#G a & F b#.ltl', '--learn', 'Q', '--reward-type', 'multi-discount', '--discount', '0.99999', '--gammaB', '0.99', '--tolerance', '0.0', '--alpha', '0.1', '--linear-lr-decay', '-1', '--kkt-lr-decay', '10', '--explore', '1.0', '--linear-explore-decay', '0.1', '--ep-number', '17782', '--ep-length', '20', '--est-pac', '--est-pac-probability-min-samples', '100', '--est-pac-max-std', '0.01', '--est-pac-epsilon', '0.001', '--lambda', '0']\n"
     ]
    },
    {
     "name": "stderr",
     "output_type": "stream",
     "text": [
      "\r",
      " 17%|███████████████▎                                                                          | 17/100 [02:24<17:53, 12.93s/it]"
     ]
    },
    {
     "name": "stdout",
     "output_type": "stream",
     "text": [
      "0.9 17782 1.0 0.0\n",
      "['mungojerrie/build/mungojerrie', '/var/folders/8v/xg5xyd3d6fn_k_mh75z9tn3w0000gn/T/tmp8n4u8y4b', '--ltl-file', 'models/constructed-mdp-#G a & F b#.ltl', '--learn', 'Q', '--reward-type', 'multi-discount', '--discount', '0.99999', '--gammaB', '0.99', '--tolerance', '0.0', '--alpha', '0.1', '--linear-lr-decay', '-1', '--kkt-lr-decay', '10', '--explore', '1.0', '--linear-explore-decay', '0.1', '--ep-number', '31622', '--ep-length', '20', '--est-pac', '--est-pac-probability-min-samples', '100', '--est-pac-max-std', '0.01', '--est-pac-epsilon', '0.001', '--lambda', '0']\n"
     ]
    },
    {
     "name": "stderr",
     "output_type": "stream",
     "text": [
      "\r",
      " 18%|████████████████▏                                                                         | 18/100 [02:55<25:00, 18.29s/it]"
     ]
    },
    {
     "name": "stdout",
     "output_type": "stream",
     "text": [
      "0.9 31622 1.0 0.0\n",
      "['mungojerrie/build/mungojerrie', '/var/folders/8v/xg5xyd3d6fn_k_mh75z9tn3w0000gn/T/tmp1vc8izqm', '--ltl-file', 'models/constructed-mdp-#G a & F b#.ltl', '--learn', 'Q', '--reward-type', 'multi-discount', '--discount', '0.99999', '--gammaB', '0.99', '--tolerance', '0.0', '--alpha', '0.1', '--linear-lr-decay', '-1', '--kkt-lr-decay', '10', '--explore', '1.0', '--linear-explore-decay', '0.1', '--ep-number', '56234', '--ep-length', '20', '--est-pac', '--est-pac-probability-min-samples', '100', '--est-pac-max-std', '0.01', '--est-pac-epsilon', '0.001', '--lambda', '0']\n"
     ]
    },
    {
     "name": "stderr",
     "output_type": "stream",
     "text": [
      "\r",
      " 19%|█████████████████                                                                         | 19/100 [03:44<37:22, 27.68s/it]"
     ]
    },
    {
     "name": "stdout",
     "output_type": "stream",
     "text": [
      "0.9 56234 1.0 0.0\n",
      "['mungojerrie/build/mungojerrie', '/var/folders/8v/xg5xyd3d6fn_k_mh75z9tn3w0000gn/T/tmp9dd02al6', '--ltl-file', 'models/constructed-mdp-#G a & F b#.ltl', '--learn', 'Q', '--reward-type', 'multi-discount', '--discount', '0.99999', '--gammaB', '0.99', '--tolerance', '0.0', '--alpha', '0.1', '--linear-lr-decay', '-1', '--kkt-lr-decay', '10', '--explore', '1.0', '--linear-explore-decay', '0.1', '--ep-number', '100000', '--ep-length', '20', '--est-pac', '--est-pac-probability-min-samples', '100', '--est-pac-max-std', '0.01', '--est-pac-epsilon', '0.001', '--lambda', '0']\n"
     ]
    },
    {
     "name": "stderr",
     "output_type": "stream",
     "text": [
      "\r",
      " 20%|██████████████████                                                                        | 20/100 [05:08<59:13, 44.41s/it]"
     ]
    },
    {
     "name": "stdout",
     "output_type": "stream",
     "text": [
      "0.9 100000 1.0 0.0\n",
      "['mungojerrie/build/mungojerrie', '/var/folders/8v/xg5xyd3d6fn_k_mh75z9tn3w0000gn/T/tmpn8axa1qd', '--ltl-file', 'models/constructed-mdp-#G a & F b#.ltl', '--learn', 'Q', '--reward-type', 'multi-discount', '--discount', '0.99999', '--gammaB', '0.99', '--tolerance', '0.0', '--alpha', '0.1', '--linear-lr-decay', '-1', '--kkt-lr-decay', '10', '--explore', '1.0', '--linear-explore-decay', '0.1', '--ep-number', '1', '--ep-length', '20', '--est-pac', '--est-pac-probability-min-samples', '100', '--est-pac-max-std', '0.01', '--est-pac-epsilon', '0.001', '--lambda', '0']\n"
     ]
    },
    {
     "name": "stderr",
     "output_type": "stream",
     "text": [
      "\r",
      " 21%|██████████████████▉                                                                       | 21/100 [05:14<43:26, 33.00s/it]"
     ]
    },
    {
     "name": "stdout",
     "output_type": "stream",
     "text": [
      "0.99 1 0.0 0.0\n",
      "['mungojerrie/build/mungojerrie', '/var/folders/8v/xg5xyd3d6fn_k_mh75z9tn3w0000gn/T/tmpjmh1dpdc', '--ltl-file', 'models/constructed-mdp-#G a & F b#.ltl', '--learn', 'Q', '--reward-type', 'multi-discount', '--discount', '0.99999', '--gammaB', '0.99', '--tolerance', '0.0', '--alpha', '0.1', '--linear-lr-decay', '-1', '--kkt-lr-decay', '10', '--explore', '1.0', '--linear-explore-decay', '0.1', '--ep-number', '3', '--ep-length', '20', '--est-pac', '--est-pac-probability-min-samples', '100', '--est-pac-max-std', '0.01', '--est-pac-epsilon', '0.001', '--lambda', '0']\n"
     ]
    },
    {
     "name": "stderr",
     "output_type": "stream",
     "text": [
      "\r",
      " 22%|███████████████████▊                                                                      | 22/100 [05:21<32:33, 25.04s/it]"
     ]
    },
    {
     "name": "stdout",
     "output_type": "stream",
     "text": [
      "0.99 3 0.280094 0.00971831\n",
      "['mungojerrie/build/mungojerrie', '/var/folders/8v/xg5xyd3d6fn_k_mh75z9tn3w0000gn/T/tmpxd13i7i7', '--ltl-file', 'models/constructed-mdp-#G a & F b#.ltl', '--learn', 'Q', '--reward-type', 'multi-discount', '--discount', '0.99999', '--gammaB', '0.99', '--tolerance', '0.0', '--alpha', '0.1', '--linear-lr-decay', '-1', '--kkt-lr-decay', '10', '--explore', '1.0', '--linear-explore-decay', '0.1', '--ep-number', '5', '--ep-length', '20', '--est-pac', '--est-pac-probability-min-samples', '100', '--est-pac-max-std', '0.01', '--est-pac-epsilon', '0.001', '--lambda', '0']\n"
     ]
    },
    {
     "name": "stderr",
     "output_type": "stream",
     "text": [
      "\r",
      " 23%|████████████████████▋                                                                     | 23/100 [05:27<25:01, 19.49s/it]"
     ]
    },
    {
     "name": "stdout",
     "output_type": "stream",
     "text": [
      "0.99 5 0.288889 0.00975231\n",
      "['mungojerrie/build/mungojerrie', '/var/folders/8v/xg5xyd3d6fn_k_mh75z9tn3w0000gn/T/tmpbnitarxm', '--ltl-file', 'models/constructed-mdp-#G a & F b#.ltl', '--learn', 'Q', '--reward-type', 'multi-discount', '--discount', '0.99999', '--gammaB', '0.99', '--tolerance', '0.0', '--alpha', '0.1', '--linear-lr-decay', '-1', '--kkt-lr-decay', '10', '--explore', '1.0', '--linear-explore-decay', '0.1', '--ep-number', '10', '--ep-length', '20', '--est-pac', '--est-pac-probability-min-samples', '100', '--est-pac-max-std', '0.01', '--est-pac-epsilon', '0.001', '--lambda', '0']\n"
     ]
    },
    {
     "name": "stderr",
     "output_type": "stream",
     "text": [
      "\r",
      " 24%|█████████████████████▌                                                                    | 24/100 [05:34<19:49, 15.66s/it]"
     ]
    },
    {
     "name": "stdout",
     "output_type": "stream",
     "text": [
      "0.99 10 0.370686 0.00973206\n",
      "['mungojerrie/build/mungojerrie', '/var/folders/8v/xg5xyd3d6fn_k_mh75z9tn3w0000gn/T/tmp46c5497w', '--ltl-file', 'models/constructed-mdp-#G a & F b#.ltl', '--learn', 'Q', '--reward-type', 'multi-discount', '--discount', '0.99999', '--gammaB', '0.99', '--tolerance', '0.0', '--alpha', '0.1', '--linear-lr-decay', '-1', '--kkt-lr-decay', '10', '--explore', '1.0', '--linear-explore-decay', '0.1', '--ep-number', '17', '--ep-length', '20', '--est-pac', '--est-pac-probability-min-samples', '100', '--est-pac-max-std', '0.01', '--est-pac-epsilon', '0.001', '--lambda', '0']\n"
     ]
    },
    {
     "name": "stderr",
     "output_type": "stream",
     "text": [
      "\r",
      " 25%|██████████████████████▌                                                                   | 25/100 [05:40<16:12, 12.97s/it]"
     ]
    },
    {
     "name": "stdout",
     "output_type": "stream",
     "text": [
      "0.99 17 0.448475 0.00977053\n",
      "['mungojerrie/build/mungojerrie', '/var/folders/8v/xg5xyd3d6fn_k_mh75z9tn3w0000gn/T/tmproc95g2b', '--ltl-file', 'models/constructed-mdp-#G a & F b#.ltl', '--learn', 'Q', '--reward-type', 'multi-discount', '--discount', '0.99999', '--gammaB', '0.99', '--tolerance', '0.0', '--alpha', '0.1', '--linear-lr-decay', '-1', '--kkt-lr-decay', '10', '--explore', '1.0', '--linear-explore-decay', '0.1', '--ep-number', '31', '--ep-length', '20', '--est-pac', '--est-pac-probability-min-samples', '100', '--est-pac-max-std', '0.01', '--est-pac-epsilon', '0.001', '--lambda', '0']\n"
     ]
    },
    {
     "name": "stderr",
     "output_type": "stream",
     "text": [
      "\r",
      " 26%|███████████████████████▍                                                                  | 26/100 [05:47<13:45, 11.16s/it]"
     ]
    },
    {
     "name": "stdout",
     "output_type": "stream",
     "text": [
      "0.99 31 0.53775 0.00978535\n",
      "['mungojerrie/build/mungojerrie', '/var/folders/8v/xg5xyd3d6fn_k_mh75z9tn3w0000gn/T/tmp1vdw1742', '--ltl-file', 'models/constructed-mdp-#G a & F b#.ltl', '--learn', 'Q', '--reward-type', 'multi-discount', '--discount', '0.99999', '--gammaB', '0.99', '--tolerance', '0.0', '--alpha', '0.1', '--linear-lr-decay', '-1', '--kkt-lr-decay', '10', '--explore', '1.0', '--linear-explore-decay', '0.1', '--ep-number', '56', '--ep-length', '20', '--est-pac', '--est-pac-probability-min-samples', '100', '--est-pac-max-std', '0.01', '--est-pac-epsilon', '0.001', '--lambda', '0']\n"
     ]
    },
    {
     "name": "stderr",
     "output_type": "stream",
     "text": [
      "\r",
      " 27%|████████████████████████▎                                                                 | 27/100 [05:55<12:07,  9.97s/it]"
     ]
    },
    {
     "name": "stdout",
     "output_type": "stream",
     "text": [
      "0.99 56 0.635236 0.00978916\n",
      "['mungojerrie/build/mungojerrie', '/var/folders/8v/xg5xyd3d6fn_k_mh75z9tn3w0000gn/T/tmpkhfddm33', '--ltl-file', 'models/constructed-mdp-#G a & F b#.ltl', '--learn', 'Q', '--reward-type', 'multi-discount', '--discount', '0.99999', '--gammaB', '0.99', '--tolerance', '0.0', '--alpha', '0.1', '--linear-lr-decay', '-1', '--kkt-lr-decay', '10', '--explore', '1.0', '--linear-explore-decay', '0.1', '--ep-number', '100', '--ep-length', '20', '--est-pac', '--est-pac-probability-min-samples', '100', '--est-pac-max-std', '0.01', '--est-pac-epsilon', '0.001', '--lambda', '0']\n"
     ]
    },
    {
     "name": "stderr",
     "output_type": "stream",
     "text": [
      "\r",
      " 28%|█████████████████████████▏                                                                | 28/100 [06:02<11:05,  9.24s/it]"
     ]
    },
    {
     "name": "stdout",
     "output_type": "stream",
     "text": [
      "0.99 100 0.736145 0.00976013\n",
      "['mungojerrie/build/mungojerrie', '/var/folders/8v/xg5xyd3d6fn_k_mh75z9tn3w0000gn/T/tmprwgeodmx', '--ltl-file', 'models/constructed-mdp-#G a & F b#.ltl', '--learn', 'Q', '--reward-type', 'multi-discount', '--discount', '0.99999', '--gammaB', '0.99', '--tolerance', '0.0', '--alpha', '0.1', '--linear-lr-decay', '-1', '--kkt-lr-decay', '10', '--explore', '1.0', '--linear-explore-decay', '0.1', '--ep-number', '177', '--ep-length', '20', '--est-pac', '--est-pac-probability-min-samples', '100', '--est-pac-max-std', '0.01', '--est-pac-epsilon', '0.001', '--lambda', '0']\n"
     ]
    },
    {
     "name": "stderr",
     "output_type": "stream",
     "text": [
      "\r",
      " 29%|██████████████████████████                                                                | 29/100 [06:10<10:27,  8.83s/it]"
     ]
    },
    {
     "name": "stdout",
     "output_type": "stream",
     "text": [
      "0.99 177 0.827907 0.00972981\n",
      "['mungojerrie/build/mungojerrie', '/var/folders/8v/xg5xyd3d6fn_k_mh75z9tn3w0000gn/T/tmpeh6m0uee', '--ltl-file', 'models/constructed-mdp-#G a & F b#.ltl', '--learn', 'Q', '--reward-type', 'multi-discount', '--discount', '0.99999', '--gammaB', '0.99', '--tolerance', '0.0', '--alpha', '0.1', '--linear-lr-decay', '-1', '--kkt-lr-decay', '10', '--explore', '1.0', '--linear-explore-decay', '0.1', '--ep-number', '316', '--ep-length', '20', '--est-pac', '--est-pac-probability-min-samples', '100', '--est-pac-max-std', '0.01', '--est-pac-epsilon', '0.001', '--lambda', '0']\n"
     ]
    },
    {
     "name": "stderr",
     "output_type": "stream",
     "text": [
      "\r",
      " 30%|███████████████████████████                                                               | 30/100 [06:17<09:44,  8.35s/it]"
     ]
    },
    {
     "name": "stdout",
     "output_type": "stream",
     "text": [
      "0.99 316 0.962264 0.00925425\n",
      "['mungojerrie/build/mungojerrie', '/var/folders/8v/xg5xyd3d6fn_k_mh75z9tn3w0000gn/T/tmp7h20jvur', '--ltl-file', 'models/constructed-mdp-#G a & F b#.ltl', '--learn', 'Q', '--reward-type', 'multi-discount', '--discount', '0.99999', '--gammaB', '0.99', '--tolerance', '0.0', '--alpha', '0.1', '--linear-lr-decay', '-1', '--kkt-lr-decay', '10', '--explore', '1.0', '--linear-explore-decay', '0.1', '--ep-number', '562', '--ep-length', '20', '--est-pac', '--est-pac-probability-min-samples', '100', '--est-pac-max-std', '0.01', '--est-pac-epsilon', '0.001', '--lambda', '0']\n"
     ]
    },
    {
     "name": "stderr",
     "output_type": "stream",
     "text": [
      "\r",
      " 31%|███████████████████████████▉                                                              | 31/100 [06:25<09:15,  8.05s/it]"
     ]
    },
    {
     "name": "stdout",
     "output_type": "stream",
     "text": [
      "0.99 562 0.980695 0.00854973\n",
      "['mungojerrie/build/mungojerrie', '/var/folders/8v/xg5xyd3d6fn_k_mh75z9tn3w0000gn/T/tmp9_o98wbs', '--ltl-file', 'models/constructed-mdp-#G a & F b#.ltl', '--learn', 'Q', '--reward-type', 'multi-discount', '--discount', '0.99999', '--gammaB', '0.99', '--tolerance', '0.0', '--alpha', '0.1', '--linear-lr-decay', '-1', '--kkt-lr-decay', '10', '--explore', '1.0', '--linear-explore-decay', '0.1', '--ep-number', '1000', '--ep-length', '20', '--est-pac', '--est-pac-probability-min-samples', '100', '--est-pac-max-std', '0.01', '--est-pac-epsilon', '0.001', '--lambda', '0']\n"
     ]
    },
    {
     "name": "stderr",
     "output_type": "stream",
     "text": [
      "\r",
      " 32%|████████████████████████████▊                                                             | 32/100 [06:32<08:53,  7.84s/it]"
     ]
    },
    {
     "name": "stdout",
     "output_type": "stream",
     "text": [
      "0.99 1000 1.0 0.0\n",
      "['mungojerrie/build/mungojerrie', '/var/folders/8v/xg5xyd3d6fn_k_mh75z9tn3w0000gn/T/tmpdsvop8if', '--ltl-file', 'models/constructed-mdp-#G a & F b#.ltl', '--learn', 'Q', '--reward-type', 'multi-discount', '--discount', '0.99999', '--gammaB', '0.99', '--tolerance', '0.0', '--alpha', '0.1', '--linear-lr-decay', '-1', '--kkt-lr-decay', '10', '--explore', '1.0', '--linear-explore-decay', '0.1', '--ep-number', '1778', '--ep-length', '20', '--est-pac', '--est-pac-probability-min-samples', '100', '--est-pac-max-std', '0.01', '--est-pac-epsilon', '0.001', '--lambda', '0']\n"
     ]
    },
    {
     "name": "stderr",
     "output_type": "stream",
     "text": [
      "\r",
      " 33%|█████████████████████████████▋                                                            | 33/100 [06:40<08:52,  7.95s/it]"
     ]
    },
    {
     "name": "stdout",
     "output_type": "stream",
     "text": [
      "0.99 1778 1.0 0.0\n",
      "['mungojerrie/build/mungojerrie', '/var/folders/8v/xg5xyd3d6fn_k_mh75z9tn3w0000gn/T/tmpam5vo2t5', '--ltl-file', 'models/constructed-mdp-#G a & F b#.ltl', '--learn', 'Q', '--reward-type', 'multi-discount', '--discount', '0.99999', '--gammaB', '0.99', '--tolerance', '0.0', '--alpha', '0.1', '--linear-lr-decay', '-1', '--kkt-lr-decay', '10', '--explore', '1.0', '--linear-explore-decay', '0.1', '--ep-number', '3162', '--ep-length', '20', '--est-pac', '--est-pac-probability-min-samples', '100', '--est-pac-max-std', '0.01', '--est-pac-epsilon', '0.001', '--lambda', '0']\n"
     ]
    },
    {
     "name": "stderr",
     "output_type": "stream",
     "text": [
      "\r",
      " 34%|██████████████████████████████▌                                                           | 34/100 [06:49<09:10,  8.35s/it]"
     ]
    },
    {
     "name": "stdout",
     "output_type": "stream",
     "text": [
      "0.99 3162 1.0 0.0\n",
      "['mungojerrie/build/mungojerrie', '/var/folders/8v/xg5xyd3d6fn_k_mh75z9tn3w0000gn/T/tmpmbzi2ju1', '--ltl-file', 'models/constructed-mdp-#G a & F b#.ltl', '--learn', 'Q', '--reward-type', 'multi-discount', '--discount', '0.99999', '--gammaB', '0.99', '--tolerance', '0.0', '--alpha', '0.1', '--linear-lr-decay', '-1', '--kkt-lr-decay', '10', '--explore', '1.0', '--linear-explore-decay', '0.1', '--ep-number', '5623', '--ep-length', '20', '--est-pac', '--est-pac-probability-min-samples', '100', '--est-pac-max-std', '0.01', '--est-pac-epsilon', '0.001', '--lambda', '0']\n"
     ]
    },
    {
     "name": "stderr",
     "output_type": "stream",
     "text": [
      "\r",
      " 35%|███████████████████████████████▍                                                          | 35/100 [07:01<09:57,  9.20s/it]"
     ]
    },
    {
     "name": "stdout",
     "output_type": "stream",
     "text": [
      "0.99 5623 1.0 0.0\n",
      "['mungojerrie/build/mungojerrie', '/var/folders/8v/xg5xyd3d6fn_k_mh75z9tn3w0000gn/T/tmpzadnpyiv', '--ltl-file', 'models/constructed-mdp-#G a & F b#.ltl', '--learn', 'Q', '--reward-type', 'multi-discount', '--discount', '0.99999', '--gammaB', '0.99', '--tolerance', '0.0', '--alpha', '0.1', '--linear-lr-decay', '-1', '--kkt-lr-decay', '10', '--explore', '1.0', '--linear-explore-decay', '0.1', '--ep-number', '10000', '--ep-length', '20', '--est-pac', '--est-pac-probability-min-samples', '100', '--est-pac-max-std', '0.01', '--est-pac-epsilon', '0.001', '--lambda', '0']\n"
     ]
    },
    {
     "name": "stderr",
     "output_type": "stream",
     "text": [
      "\r",
      " 36%|████████████████████████████████▍                                                         | 36/100 [07:16<11:38, 10.92s/it]"
     ]
    },
    {
     "name": "stdout",
     "output_type": "stream",
     "text": [
      "0.99 10000 1.0 0.0\n",
      "['mungojerrie/build/mungojerrie', '/var/folders/8v/xg5xyd3d6fn_k_mh75z9tn3w0000gn/T/tmpd_c95um6', '--ltl-file', 'models/constructed-mdp-#G a & F b#.ltl', '--learn', 'Q', '--reward-type', 'multi-discount', '--discount', '0.99999', '--gammaB', '0.99', '--tolerance', '0.0', '--alpha', '0.1', '--linear-lr-decay', '-1', '--kkt-lr-decay', '10', '--explore', '1.0', '--linear-explore-decay', '0.1', '--ep-number', '17782', '--ep-length', '20', '--est-pac', '--est-pac-probability-min-samples', '100', '--est-pac-max-std', '0.01', '--est-pac-epsilon', '0.001', '--lambda', '0']\n"
     ]
    },
    {
     "name": "stderr",
     "output_type": "stream",
     "text": [
      "\r",
      " 37%|█████████████████████████████████▎                                                        | 37/100 [07:38<15:07, 14.41s/it]"
     ]
    },
    {
     "name": "stdout",
     "output_type": "stream",
     "text": [
      "0.99 17782 1.0 0.0\n",
      "['mungojerrie/build/mungojerrie', '/var/folders/8v/xg5xyd3d6fn_k_mh75z9tn3w0000gn/T/tmp3mj2dfub', '--ltl-file', 'models/constructed-mdp-#G a & F b#.ltl', '--learn', 'Q', '--reward-type', 'multi-discount', '--discount', '0.99999', '--gammaB', '0.99', '--tolerance', '0.0', '--alpha', '0.1', '--linear-lr-decay', '-1', '--kkt-lr-decay', '10', '--explore', '1.0', '--linear-explore-decay', '0.1', '--ep-number', '31622', '--ep-length', '20', '--est-pac', '--est-pac-probability-min-samples', '100', '--est-pac-max-std', '0.01', '--est-pac-epsilon', '0.001', '--lambda', '0']\n"
     ]
    },
    {
     "name": "stderr",
     "output_type": "stream",
     "text": [
      "\r",
      " 38%|██████████████████████████████████▏                                                       | 38/100 [08:15<21:43, 21.03s/it]"
     ]
    },
    {
     "name": "stdout",
     "output_type": "stream",
     "text": [
      "0.99 31622 1.0 0.0\n",
      "['mungojerrie/build/mungojerrie', '/var/folders/8v/xg5xyd3d6fn_k_mh75z9tn3w0000gn/T/tmpd2kr5y3q', '--ltl-file', 'models/constructed-mdp-#G a & F b#.ltl', '--learn', 'Q', '--reward-type', 'multi-discount', '--discount', '0.99999', '--gammaB', '0.99', '--tolerance', '0.0', '--alpha', '0.1', '--linear-lr-decay', '-1', '--kkt-lr-decay', '10', '--explore', '1.0', '--linear-explore-decay', '0.1', '--ep-number', '56234', '--ep-length', '20', '--est-pac', '--est-pac-probability-min-samples', '100', '--est-pac-max-std', '0.01', '--est-pac-epsilon', '0.001', '--lambda', '0']\n"
     ]
    },
    {
     "name": "stderr",
     "output_type": "stream",
     "text": [
      "\r",
      " 39%|███████████████████████████████████                                                       | 39/100 [09:14<33:12, 32.67s/it]"
     ]
    },
    {
     "name": "stdout",
     "output_type": "stream",
     "text": [
      "0.99 56234 1.0 0.0\n",
      "['mungojerrie/build/mungojerrie', '/var/folders/8v/xg5xyd3d6fn_k_mh75z9tn3w0000gn/T/tmp4xs9ykwu', '--ltl-file', 'models/constructed-mdp-#G a & F b#.ltl', '--learn', 'Q', '--reward-type', 'multi-discount', '--discount', '0.99999', '--gammaB', '0.99', '--tolerance', '0.0', '--alpha', '0.1', '--linear-lr-decay', '-1', '--kkt-lr-decay', '10', '--explore', '1.0', '--linear-explore-decay', '0.1', '--ep-number', '100000', '--ep-length', '20', '--est-pac', '--est-pac-probability-min-samples', '100', '--est-pac-max-std', '0.01', '--est-pac-epsilon', '0.001', '--lambda', '0']\n"
     ]
    },
    {
     "name": "stderr",
     "output_type": "stream",
     "text": [
      "\r",
      " 40%|████████████████████████████████████                                                      | 40/100 [10:59<54:19, 54.33s/it]"
     ]
    },
    {
     "name": "stdout",
     "output_type": "stream",
     "text": [
      "0.99 100000 1.0 0.0\n",
      "['mungojerrie/build/mungojerrie', '/var/folders/8v/xg5xyd3d6fn_k_mh75z9tn3w0000gn/T/tmpqdscz8o5', '--ltl-file', 'models/constructed-mdp-#G a & F b#.ltl', '--learn', 'Q', '--reward-type', 'multi-discount', '--discount', '0.99999', '--gammaB', '0.99', '--tolerance', '0.0', '--alpha', '0.1', '--linear-lr-decay', '-1', '--kkt-lr-decay', '10', '--explore', '1.0', '--linear-explore-decay', '0.1', '--ep-number', '1', '--ep-length', '20', '--est-pac', '--est-pac-probability-min-samples', '100', '--est-pac-max-std', '0.01', '--est-pac-epsilon', '0.001', '--lambda', '0']\n"
     ]
    },
    {
     "name": "stderr",
     "output_type": "stream",
     "text": [
      "\r",
      " 41%|████████████████████████████████████▉                                                     | 41/100 [11:06<39:19, 39.99s/it]"
     ]
    },
    {
     "name": "stdout",
     "output_type": "stream",
     "text": [
      "0.999 1 0.50304 0.00974583\n",
      "['mungojerrie/build/mungojerrie', '/var/folders/8v/xg5xyd3d6fn_k_mh75z9tn3w0000gn/T/tmpsxjwvx91', '--ltl-file', 'models/constructed-mdp-#G a & F b#.ltl', '--learn', 'Q', '--reward-type', 'multi-discount', '--discount', '0.99999', '--gammaB', '0.99', '--tolerance', '0.0', '--alpha', '0.1', '--linear-lr-decay', '-1', '--kkt-lr-decay', '10', '--explore', '1.0', '--linear-explore-decay', '0.1', '--ep-number', '3', '--ep-length', '20', '--est-pac', '--est-pac-probability-min-samples', '100', '--est-pac-max-std', '0.01', '--est-pac-epsilon', '0.001', '--lambda', '0']\n"
     ]
    },
    {
     "name": "stderr",
     "output_type": "stream",
     "text": [
      "\r",
      " 42%|█████████████████████████████████████▊                                                    | 42/100 [11:12<28:57, 29.96s/it]"
     ]
    },
    {
     "name": "stdout",
     "output_type": "stream",
     "text": [
      "0.999 3 0.251251 0.00970341\n",
      "['mungojerrie/build/mungojerrie', '/var/folders/8v/xg5xyd3d6fn_k_mh75z9tn3w0000gn/T/tmppcp7ltyh', '--ltl-file', 'models/constructed-mdp-#G a & F b#.ltl', '--learn', 'Q', '--reward-type', 'multi-discount', '--discount', '0.99999', '--gammaB', '0.99', '--tolerance', '0.0', '--alpha', '0.1', '--linear-lr-decay', '-1', '--kkt-lr-decay', '10', '--explore', '1.0', '--linear-explore-decay', '0.1', '--ep-number', '5', '--ep-length', '20', '--est-pac', '--est-pac-probability-min-samples', '100', '--est-pac-max-std', '0.01', '--est-pac-epsilon', '0.001', '--lambda', '0']\n"
     ]
    },
    {
     "name": "stderr",
     "output_type": "stream",
     "text": [
      "\r",
      " 43%|██████████████████████████████████████▋                                                   | 43/100 [11:19<21:48, 22.96s/it]"
     ]
    },
    {
     "name": "stdout",
     "output_type": "stream",
     "text": [
      "0.999 5 0.241273 0.00969399\n",
      "['mungojerrie/build/mungojerrie', '/var/folders/8v/xg5xyd3d6fn_k_mh75z9tn3w0000gn/T/tmpni7m271j', '--ltl-file', 'models/constructed-mdp-#G a & F b#.ltl', '--learn', 'Q', '--reward-type', 'multi-discount', '--discount', '0.99999', '--gammaB', '0.99', '--tolerance', '0.0', '--alpha', '0.1', '--linear-lr-decay', '-1', '--kkt-lr-decay', '10', '--explore', '1.0', '--linear-explore-decay', '0.1', '--ep-number', '10', '--ep-length', '20', '--est-pac', '--est-pac-probability-min-samples', '100', '--est-pac-max-std', '0.01', '--est-pac-epsilon', '0.001', '--lambda', '0']\n"
     ]
    },
    {
     "name": "stderr",
     "output_type": "stream",
     "text": [
      "\r",
      " 44%|███████████████████████████████████████▌                                                  | 44/100 [11:26<16:53, 18.09s/it]"
     ]
    },
    {
     "name": "stdout",
     "output_type": "stream",
     "text": [
      "0.999 10 0.270219 0.00968585\n",
      "['mungojerrie/build/mungojerrie', '/var/folders/8v/xg5xyd3d6fn_k_mh75z9tn3w0000gn/T/tmpjq129odx', '--ltl-file', 'models/constructed-mdp-#G a & F b#.ltl', '--learn', 'Q', '--reward-type', 'multi-discount', '--discount', '0.99999', '--gammaB', '0.99', '--tolerance', '0.0', '--alpha', '0.1', '--linear-lr-decay', '-1', '--kkt-lr-decay', '10', '--explore', '1.0', '--linear-explore-decay', '0.1', '--ep-number', '17', '--ep-length', '20', '--est-pac', '--est-pac-probability-min-samples', '100', '--est-pac-max-std', '0.01', '--est-pac-epsilon', '0.001', '--lambda', '0']\n"
     ]
    },
    {
     "name": "stderr",
     "output_type": "stream",
     "text": [
      "\r",
      " 45%|████████████████████████████████████████▌                                                 | 45/100 [11:33<13:28, 14.70s/it]"
     ]
    },
    {
     "name": "stdout",
     "output_type": "stream",
     "text": [
      "0.999 17 0.276334 0.0097191\n",
      "['mungojerrie/build/mungojerrie', '/var/folders/8v/xg5xyd3d6fn_k_mh75z9tn3w0000gn/T/tmpt0w5q61n', '--ltl-file', 'models/constructed-mdp-#G a & F b#.ltl', '--learn', 'Q', '--reward-type', 'multi-discount', '--discount', '0.99999', '--gammaB', '0.99', '--tolerance', '0.0', '--alpha', '0.1', '--linear-lr-decay', '-1', '--kkt-lr-decay', '10', '--explore', '1.0', '--linear-explore-decay', '0.1', '--ep-number', '31', '--ep-length', '20', '--est-pac', '--est-pac-probability-min-samples', '100', '--est-pac-max-std', '0.01', '--est-pac-epsilon', '0.001', '--lambda', '0']\n"
     ]
    },
    {
     "name": "stderr",
     "output_type": "stream",
     "text": [
      "\r",
      " 46%|█████████████████████████████████████████▍                                                | 46/100 [11:40<11:09, 12.39s/it]"
     ]
    },
    {
     "name": "stdout",
     "output_type": "stream",
     "text": [
      "0.999 31 0.295537 0.00973686\n",
      "['mungojerrie/build/mungojerrie', '/var/folders/8v/xg5xyd3d6fn_k_mh75z9tn3w0000gn/T/tmpmod2igye', '--ltl-file', 'models/constructed-mdp-#G a & F b#.ltl', '--learn', 'Q', '--reward-type', 'multi-discount', '--discount', '0.99999', '--gammaB', '0.99', '--tolerance', '0.0', '--alpha', '0.1', '--linear-lr-decay', '-1', '--kkt-lr-decay', '10', '--explore', '1.0', '--linear-explore-decay', '0.1', '--ep-number', '56', '--ep-length', '20', '--est-pac', '--est-pac-probability-min-samples', '100', '--est-pac-max-std', '0.01', '--est-pac-epsilon', '0.001', '--lambda', '0']\n"
     ]
    },
    {
     "name": "stderr",
     "output_type": "stream",
     "text": [
      "\r",
      " 47%|██████████████████████████████████████████▎                                               | 47/100 [11:47<09:36, 10.88s/it]"
     ]
    },
    {
     "name": "stdout",
     "output_type": "stream",
     "text": [
      "0.999 56 0.360083 0.00978826\n",
      "['mungojerrie/build/mungojerrie', '/var/folders/8v/xg5xyd3d6fn_k_mh75z9tn3w0000gn/T/tmp6f7enc9k', '--ltl-file', 'models/constructed-mdp-#G a & F b#.ltl', '--learn', 'Q', '--reward-type', 'multi-discount', '--discount', '0.99999', '--gammaB', '0.99', '--tolerance', '0.0', '--alpha', '0.1', '--linear-lr-decay', '-1', '--kkt-lr-decay', '10', '--explore', '1.0', '--linear-explore-decay', '0.1', '--ep-number', '100', '--ep-length', '20', '--est-pac', '--est-pac-probability-min-samples', '100', '--est-pac-max-std', '0.01', '--est-pac-epsilon', '0.001', '--lambda', '0']\n"
     ]
    },
    {
     "name": "stderr",
     "output_type": "stream",
     "text": [
      "\r",
      " 48%|███████████████████████████████████████████▏                                              | 48/100 [11:55<08:40, 10.02s/it]"
     ]
    },
    {
     "name": "stdout",
     "output_type": "stream",
     "text": [
      "0.999 100 0.437081 0.00985178\n",
      "['mungojerrie/build/mungojerrie', '/var/folders/8v/xg5xyd3d6fn_k_mh75z9tn3w0000gn/T/tmpcwev98jn', '--ltl-file', 'models/constructed-mdp-#G a & F b#.ltl', '--learn', 'Q', '--reward-type', 'multi-discount', '--discount', '0.99999', '--gammaB', '0.99', '--tolerance', '0.0', '--alpha', '0.1', '--linear-lr-decay', '-1', '--kkt-lr-decay', '10', '--explore', '1.0', '--linear-explore-decay', '0.1', '--ep-number', '177', '--ep-length', '20', '--est-pac', '--est-pac-probability-min-samples', '100', '--est-pac-max-std', '0.01', '--est-pac-epsilon', '0.001', '--lambda', '0']\n"
     ]
    },
    {
     "name": "stderr",
     "output_type": "stream",
     "text": [
      "\r",
      " 49%|████████████████████████████████████████████                                              | 49/100 [12:04<08:14,  9.70s/it]"
     ]
    },
    {
     "name": "stdout",
     "output_type": "stream",
     "text": [
      "0.999 177 0.494906 0.00989708\n",
      "['mungojerrie/build/mungojerrie', '/var/folders/8v/xg5xyd3d6fn_k_mh75z9tn3w0000gn/T/tmptw732amb', '--ltl-file', 'models/constructed-mdp-#G a & F b#.ltl', '--learn', 'Q', '--reward-type', 'multi-discount', '--discount', '0.99999', '--gammaB', '0.99', '--tolerance', '0.0', '--alpha', '0.1', '--linear-lr-decay', '-1', '--kkt-lr-decay', '10', '--explore', '1.0', '--linear-explore-decay', '0.1', '--ep-number', '316', '--ep-length', '20', '--est-pac', '--est-pac-probability-min-samples', '100', '--est-pac-max-std', '0.01', '--est-pac-epsilon', '0.001', '--lambda', '0']\n"
     ]
    },
    {
     "name": "stderr",
     "output_type": "stream",
     "text": [
      "\r",
      " 50%|█████████████████████████████████████████████                                             | 50/100 [12:16<08:37, 10.34s/it]"
     ]
    },
    {
     "name": "stdout",
     "output_type": "stream",
     "text": [
      "0.999 316 0.586277 0.00992371\n",
      "['mungojerrie/build/mungojerrie', '/var/folders/8v/xg5xyd3d6fn_k_mh75z9tn3w0000gn/T/tmpq9soycfy', '--ltl-file', 'models/constructed-mdp-#G a & F b#.ltl', '--learn', 'Q', '--reward-type', 'multi-discount', '--discount', '0.99999', '--gammaB', '0.99', '--tolerance', '0.0', '--alpha', '0.1', '--linear-lr-decay', '-1', '--kkt-lr-decay', '10', '--explore', '1.0', '--linear-explore-decay', '0.1', '--ep-number', '562', '--ep-length', '20', '--est-pac', '--est-pac-probability-min-samples', '100', '--est-pac-max-std', '0.01', '--est-pac-epsilon', '0.001', '--lambda', '0']\n"
     ]
    },
    {
     "name": "stderr",
     "output_type": "stream",
     "text": [
      "\r",
      " 51%|█████████████████████████████████████████████▉                                            | 51/100 [12:32<09:54, 12.14s/it]"
     ]
    },
    {
     "name": "stdout",
     "output_type": "stream",
     "text": [
      "0.999 562 0.671111 0.00990445\n",
      "['mungojerrie/build/mungojerrie', '/var/folders/8v/xg5xyd3d6fn_k_mh75z9tn3w0000gn/T/tmpiyi4h5z0', '--ltl-file', 'models/constructed-mdp-#G a & F b#.ltl', '--learn', 'Q', '--reward-type', 'multi-discount', '--discount', '0.99999', '--gammaB', '0.99', '--tolerance', '0.0', '--alpha', '0.1', '--linear-lr-decay', '-1', '--kkt-lr-decay', '10', '--explore', '1.0', '--linear-explore-decay', '0.1', '--ep-number', '1000', '--ep-length', '20', '--est-pac', '--est-pac-probability-min-samples', '100', '--est-pac-max-std', '0.01', '--est-pac-epsilon', '0.001', '--lambda', '0']\n"
     ]
    },
    {
     "name": "stderr",
     "output_type": "stream",
     "text": [
      "\r",
      " 52%|██████████████████████████████████████████████▊                                           | 52/100 [12:54<12:02, 15.06s/it]"
     ]
    },
    {
     "name": "stdout",
     "output_type": "stream",
     "text": [
      "0.999 1000 0.758877 0.00984735\n",
      "['mungojerrie/build/mungojerrie', '/var/folders/8v/xg5xyd3d6fn_k_mh75z9tn3w0000gn/T/tmppxefrlma', '--ltl-file', 'models/constructed-mdp-#G a & F b#.ltl', '--learn', 'Q', '--reward-type', 'multi-discount', '--discount', '0.99999', '--gammaB', '0.99', '--tolerance', '0.0', '--alpha', '0.1', '--linear-lr-decay', '-1', '--kkt-lr-decay', '10', '--explore', '1.0', '--linear-explore-decay', '0.1', '--ep-number', '1778', '--ep-length', '20', '--est-pac', '--est-pac-probability-min-samples', '100', '--est-pac-max-std', '0.01', '--est-pac-epsilon', '0.001', '--lambda', '0']\n"
     ]
    },
    {
     "name": "stderr",
     "output_type": "stream",
     "text": [
      "\r",
      " 53%|███████████████████████████████████████████████▋                                          | 53/100 [13:18<13:54, 17.75s/it]"
     ]
    },
    {
     "name": "stdout",
     "output_type": "stream",
     "text": [
      "0.999 1778 0.864798 0.0098179\n",
      "['mungojerrie/build/mungojerrie', '/var/folders/8v/xg5xyd3d6fn_k_mh75z9tn3w0000gn/T/tmpp6kd73gw', '--ltl-file', 'models/constructed-mdp-#G a & F b#.ltl', '--learn', 'Q', '--reward-type', 'multi-discount', '--discount', '0.99999', '--gammaB', '0.99', '--tolerance', '0.0', '--alpha', '0.1', '--linear-lr-decay', '-1', '--kkt-lr-decay', '10', '--explore', '1.0', '--linear-explore-decay', '0.1', '--ep-number', '3162', '--ep-length', '20', '--est-pac', '--est-pac-probability-min-samples', '100', '--est-pac-max-std', '0.01', '--est-pac-epsilon', '0.001', '--lambda', '0']\n"
     ]
    },
    {
     "name": "stderr",
     "output_type": "stream",
     "text": [
      "\r",
      " 54%|████████████████████████████████████████████████▌                                         | 54/100 [13:45<15:39, 20.42s/it]"
     ]
    },
    {
     "name": "stdout",
     "output_type": "stream",
     "text": [
      "0.999 3162 0.937919 0.00988411\n",
      "['mungojerrie/build/mungojerrie', '/var/folders/8v/xg5xyd3d6fn_k_mh75z9tn3w0000gn/T/tmpxo0rw0xl', '--ltl-file', 'models/constructed-mdp-#G a & F b#.ltl', '--learn', 'Q', '--reward-type', 'multi-discount', '--discount', '0.99999', '--gammaB', '0.99', '--tolerance', '0.0', '--alpha', '0.1', '--linear-lr-decay', '-1', '--kkt-lr-decay', '10', '--explore', '1.0', '--linear-explore-decay', '0.1', '--ep-number', '5623', '--ep-length', '20', '--est-pac', '--est-pac-probability-min-samples', '100', '--est-pac-max-std', '0.01', '--est-pac-epsilon', '0.001', '--lambda', '0']\n"
     ]
    },
    {
     "name": "stderr",
     "output_type": "stream",
     "text": [
      "\r",
      " 55%|█████████████████████████████████████████████████▌                                        | 55/100 [13:56<13:21, 17.82s/it]"
     ]
    },
    {
     "name": "stdout",
     "output_type": "stream",
     "text": [
      "0.999 5623 0.99187 0.00809696\n",
      "['mungojerrie/build/mungojerrie', '/var/folders/8v/xg5xyd3d6fn_k_mh75z9tn3w0000gn/T/tmp4fjo_q1x', '--ltl-file', 'models/constructed-mdp-#G a & F b#.ltl', '--learn', 'Q', '--reward-type', 'multi-discount', '--discount', '0.99999', '--gammaB', '0.99', '--tolerance', '0.0', '--alpha', '0.1', '--linear-lr-decay', '-1', '--kkt-lr-decay', '10', '--explore', '1.0', '--linear-explore-decay', '0.1', '--ep-number', '10000', '--ep-length', '20', '--est-pac', '--est-pac-probability-min-samples', '100', '--est-pac-max-std', '0.01', '--est-pac-epsilon', '0.001', '--lambda', '0']\n"
     ]
    },
    {
     "name": "stderr",
     "output_type": "stream",
     "text": [
      "\r",
      " 56%|██████████████████████████████████████████████████▍                                       | 56/100 [14:11<12:28, 17.00s/it]"
     ]
    },
    {
     "name": "stdout",
     "output_type": "stream",
     "text": [
      "0.999 10000 1.0 0.0\n",
      "['mungojerrie/build/mungojerrie', '/var/folders/8v/xg5xyd3d6fn_k_mh75z9tn3w0000gn/T/tmp6cvpxjsy', '--ltl-file', 'models/constructed-mdp-#G a & F b#.ltl', '--learn', 'Q', '--reward-type', 'multi-discount', '--discount', '0.99999', '--gammaB', '0.99', '--tolerance', '0.0', '--alpha', '0.1', '--linear-lr-decay', '-1', '--kkt-lr-decay', '10', '--explore', '1.0', '--linear-explore-decay', '0.1', '--ep-number', '17782', '--ep-length', '20', '--est-pac', '--est-pac-probability-min-samples', '100', '--est-pac-max-std', '0.01', '--est-pac-epsilon', '0.001', '--lambda', '0']\n"
     ]
    },
    {
     "name": "stderr",
     "output_type": "stream",
     "text": [
      "\r",
      " 57%|███████████████████████████████████████████████████▎                                      | 57/100 [14:34<13:21, 18.64s/it]"
     ]
    },
    {
     "name": "stdout",
     "output_type": "stream",
     "text": [
      "0.999 17782 1.0 0.0\n",
      "['mungojerrie/build/mungojerrie', '/var/folders/8v/xg5xyd3d6fn_k_mh75z9tn3w0000gn/T/tmpwm_heivp', '--ltl-file', 'models/constructed-mdp-#G a & F b#.ltl', '--learn', 'Q', '--reward-type', 'multi-discount', '--discount', '0.99999', '--gammaB', '0.99', '--tolerance', '0.0', '--alpha', '0.1', '--linear-lr-decay', '-1', '--kkt-lr-decay', '10', '--explore', '1.0', '--linear-explore-decay', '0.1', '--ep-number', '31622', '--ep-length', '20', '--est-pac', '--est-pac-probability-min-samples', '100', '--est-pac-max-std', '0.01', '--est-pac-epsilon', '0.001', '--lambda', '0']\n"
     ]
    },
    {
     "name": "stderr",
     "output_type": "stream",
     "text": [
      "\r",
      " 58%|████████████████████████████████████████████████████▏                                     | 58/100 [15:10<16:46, 23.96s/it]"
     ]
    },
    {
     "name": "stdout",
     "output_type": "stream",
     "text": [
      "0.999 31622 1.0 0.0\n",
      "['mungojerrie/build/mungojerrie', '/var/folders/8v/xg5xyd3d6fn_k_mh75z9tn3w0000gn/T/tmp60m9l9py', '--ltl-file', 'models/constructed-mdp-#G a & F b#.ltl', '--learn', 'Q', '--reward-type', 'multi-discount', '--discount', '0.99999', '--gammaB', '0.99', '--tolerance', '0.0', '--alpha', '0.1', '--linear-lr-decay', '-1', '--kkt-lr-decay', '10', '--explore', '1.0', '--linear-explore-decay', '0.1', '--ep-number', '56234', '--ep-length', '20', '--est-pac', '--est-pac-probability-min-samples', '100', '--est-pac-max-std', '0.01', '--est-pac-epsilon', '0.001', '--lambda', '0']\n"
     ]
    },
    {
     "name": "stderr",
     "output_type": "stream",
     "text": [
      "\r",
      " 59%|█████████████████████████████████████████████████████                                     | 59/100 [16:11<23:59, 35.10s/it]"
     ]
    },
    {
     "name": "stdout",
     "output_type": "stream",
     "text": [
      "0.999 56234 1.0 0.0\n",
      "['mungojerrie/build/mungojerrie', '/var/folders/8v/xg5xyd3d6fn_k_mh75z9tn3w0000gn/T/tmpagda5z5x', '--ltl-file', 'models/constructed-mdp-#G a & F b#.ltl', '--learn', 'Q', '--reward-type', 'multi-discount', '--discount', '0.99999', '--gammaB', '0.99', '--tolerance', '0.0', '--alpha', '0.1', '--linear-lr-decay', '-1', '--kkt-lr-decay', '10', '--explore', '1.0', '--linear-explore-decay', '0.1', '--ep-number', '100000', '--ep-length', '20', '--est-pac', '--est-pac-probability-min-samples', '100', '--est-pac-max-std', '0.01', '--est-pac-epsilon', '0.001', '--lambda', '0']\n"
     ]
    },
    {
     "name": "stderr",
     "output_type": "stream",
     "text": [
      "\r",
      " 60%|██████████████████████████████████████████████████████                                    | 60/100 [17:56<37:18, 55.97s/it]"
     ]
    },
    {
     "name": "stdout",
     "output_type": "stream",
     "text": [
      "0.999 100000 1.0 0.0\n",
      "['mungojerrie/build/mungojerrie', '/var/folders/8v/xg5xyd3d6fn_k_mh75z9tn3w0000gn/T/tmpneznyg04', '--ltl-file', 'models/constructed-mdp-#G a & F b#.ltl', '--learn', 'Q', '--reward-type', 'multi-discount', '--discount', '0.99999', '--gammaB', '0.99', '--tolerance', '0.0', '--alpha', '0.1', '--linear-lr-decay', '-1', '--kkt-lr-decay', '10', '--explore', '1.0', '--linear-explore-decay', '0.1', '--ep-number', '1', '--ep-length', '20', '--est-pac', '--est-pac-probability-min-samples', '100', '--est-pac-max-std', '0.01', '--est-pac-epsilon', '0.001', '--lambda', '0']\n"
     ]
    },
    {
     "name": "stderr",
     "output_type": "stream",
     "text": [
      "\r",
      " 61%|██████████████████████████████████████████████████████▉                                   | 61/100 [18:03<26:44, 41.13s/it]"
     ]
    },
    {
     "name": "stdout",
     "output_type": "stream",
     "text": [
      "0.9999 1 0.50304 0.00974583\n",
      "['mungojerrie/build/mungojerrie', '/var/folders/8v/xg5xyd3d6fn_k_mh75z9tn3w0000gn/T/tmppoddx9_i', '--ltl-file', 'models/constructed-mdp-#G a & F b#.ltl', '--learn', 'Q', '--reward-type', 'multi-discount', '--discount', '0.99999', '--gammaB', '0.99', '--tolerance', '0.0', '--alpha', '0.1', '--linear-lr-decay', '-1', '--kkt-lr-decay', '10', '--explore', '1.0', '--linear-explore-decay', '0.1', '--ep-number', '3', '--ep-length', '20', '--est-pac', '--est-pac-probability-min-samples', '100', '--est-pac-max-std', '0.01', '--est-pac-epsilon', '0.001', '--lambda', '0']\n"
     ]
    },
    {
     "name": "stderr",
     "output_type": "stream",
     "text": [
      "\r",
      " 62%|███████████████████████████████████████████████████████▊                                  | 62/100 [18:09<19:28, 30.76s/it]"
     ]
    },
    {
     "name": "stdout",
     "output_type": "stream",
     "text": [
      "0.9999 3 0.487991 0.0097599\n",
      "['mungojerrie/build/mungojerrie', '/var/folders/8v/xg5xyd3d6fn_k_mh75z9tn3w0000gn/T/tmposzc2uz1', '--ltl-file', 'models/constructed-mdp-#G a & F b#.ltl', '--learn', 'Q', '--reward-type', 'multi-discount', '--discount', '0.99999', '--gammaB', '0.99', '--tolerance', '0.0', '--alpha', '0.1', '--linear-lr-decay', '-1', '--kkt-lr-decay', '10', '--explore', '1.0', '--linear-explore-decay', '0.1', '--ep-number', '5', '--ep-length', '20', '--est-pac', '--est-pac-probability-min-samples', '100', '--est-pac-max-std', '0.01', '--est-pac-epsilon', '0.001', '--lambda', '0']\n"
     ]
    },
    {
     "name": "stderr",
     "output_type": "stream",
     "text": [
      "\r",
      " 63%|████████████████████████████████████████████████████████▋                                 | 63/100 [18:16<14:31, 23.57s/it]"
     ]
    },
    {
     "name": "stdout",
     "output_type": "stream",
     "text": [
      "0.9999 5 0.494665 0.0097603\n",
      "['mungojerrie/build/mungojerrie', '/var/folders/8v/xg5xyd3d6fn_k_mh75z9tn3w0000gn/T/tmpsqwh_79h', '--ltl-file', 'models/constructed-mdp-#G a & F b#.ltl', '--learn', 'Q', '--reward-type', 'multi-discount', '--discount', '0.99999', '--gammaB', '0.99', '--tolerance', '0.0', '--alpha', '0.1', '--linear-lr-decay', '-1', '--kkt-lr-decay', '10', '--explore', '1.0', '--linear-explore-decay', '0.1', '--ep-number', '10', '--ep-length', '20', '--est-pac', '--est-pac-probability-min-samples', '100', '--est-pac-max-std', '0.01', '--est-pac-epsilon', '0.001', '--lambda', '0']\n"
     ]
    },
    {
     "name": "stderr",
     "output_type": "stream",
     "text": [
      "\r",
      " 64%|█████████████████████████████████████████████████████████▌                                | 64/100 [18:23<11:06, 18.51s/it]"
     ]
    },
    {
     "name": "stdout",
     "output_type": "stream",
     "text": [
      "0.9999 10 0.50344 0.00977554\n",
      "['mungojerrie/build/mungojerrie', '/var/folders/8v/xg5xyd3d6fn_k_mh75z9tn3w0000gn/T/tmp5h0ex0_0', '--ltl-file', 'models/constructed-mdp-#G a & F b#.ltl', '--learn', 'Q', '--reward-type', 'multi-discount', '--discount', '0.99999', '--gammaB', '0.99', '--tolerance', '0.0', '--alpha', '0.1', '--linear-lr-decay', '-1', '--kkt-lr-decay', '10', '--explore', '1.0', '--linear-explore-decay', '0.1', '--ep-number', '17', '--ep-length', '20', '--est-pac', '--est-pac-probability-min-samples', '100', '--est-pac-max-std', '0.01', '--est-pac-epsilon', '0.001', '--lambda', '0']\n"
     ]
    },
    {
     "name": "stderr",
     "output_type": "stream",
     "text": [
      "\r",
      " 65%|██████████████████████████████████████████████████████████▌                               | 65/100 [18:29<08:44, 14.99s/it]"
     ]
    },
    {
     "name": "stdout",
     "output_type": "stream",
     "text": [
      "0.9999 17 0.5 0.00977577\n",
      "['mungojerrie/build/mungojerrie', '/var/folders/8v/xg5xyd3d6fn_k_mh75z9tn3w0000gn/T/tmpqe1hdk57', '--ltl-file', 'models/constructed-mdp-#G a & F b#.ltl', '--learn', 'Q', '--reward-type', 'multi-discount', '--discount', '0.99999', '--gammaB', '0.99', '--tolerance', '0.0', '--alpha', '0.1', '--linear-lr-decay', '-1', '--kkt-lr-decay', '10', '--explore', '1.0', '--linear-explore-decay', '0.1', '--ep-number', '31', '--ep-length', '20', '--est-pac', '--est-pac-probability-min-samples', '100', '--est-pac-max-std', '0.01', '--est-pac-epsilon', '0.001', '--lambda', '0']\n"
     ]
    },
    {
     "name": "stderr",
     "output_type": "stream",
     "text": [
      "\r",
      " 66%|███████████████████████████████████████████████████████████▍                              | 66/100 [18:36<07:08, 12.60s/it]"
     ]
    },
    {
     "name": "stdout",
     "output_type": "stream",
     "text": [
      "0.9999 31 0.510353 0.00978866\n",
      "['mungojerrie/build/mungojerrie', '/var/folders/8v/xg5xyd3d6fn_k_mh75z9tn3w0000gn/T/tmp39ygjaob', '--ltl-file', 'models/constructed-mdp-#G a & F b#.ltl', '--learn', 'Q', '--reward-type', 'multi-discount', '--discount', '0.99999', '--gammaB', '0.99', '--tolerance', '0.0', '--alpha', '0.1', '--linear-lr-decay', '-1', '--kkt-lr-decay', '10', '--explore', '1.0', '--linear-explore-decay', '0.1', '--ep-number', '56', '--ep-length', '20', '--est-pac', '--est-pac-probability-min-samples', '100', '--est-pac-max-std', '0.01', '--est-pac-epsilon', '0.001', '--lambda', '0']\n"
     ]
    },
    {
     "name": "stderr",
     "output_type": "stream",
     "text": [
      "\r",
      " 67%|████████████████████████████████████████████████████████████▎                             | 67/100 [18:44<06:03, 11.02s/it]"
     ]
    },
    {
     "name": "stdout",
     "output_type": "stream",
     "text": [
      "0.9999 56 0.509842 0.00982092\n",
      "['mungojerrie/build/mungojerrie', '/var/folders/8v/xg5xyd3d6fn_k_mh75z9tn3w0000gn/T/tmprwfwzjcs', '--ltl-file', 'models/constructed-mdp-#G a & F b#.ltl', '--learn', 'Q', '--reward-type', 'multi-discount', '--discount', '0.99999', '--gammaB', '0.99', '--tolerance', '0.0', '--alpha', '0.1', '--linear-lr-decay', '-1', '--kkt-lr-decay', '10', '--explore', '1.0', '--linear-explore-decay', '0.1', '--ep-number', '100', '--ep-length', '20', '--est-pac', '--est-pac-probability-min-samples', '100', '--est-pac-max-std', '0.01', '--est-pac-epsilon', '0.001', '--lambda', '0']\n"
     ]
    },
    {
     "name": "stderr",
     "output_type": "stream",
     "text": [
      "\r",
      " 68%|█████████████████████████████████████████████████████████████▏                            | 68/100 [18:52<05:23, 10.10s/it]"
     ]
    },
    {
     "name": "stdout",
     "output_type": "stream",
     "text": [
      "0.9999 100 0.534711 0.00985058\n",
      "['mungojerrie/build/mungojerrie', '/var/folders/8v/xg5xyd3d6fn_k_mh75z9tn3w0000gn/T/tmpn4lj1b5d', '--ltl-file', 'models/constructed-mdp-#G a & F b#.ltl', '--learn', 'Q', '--reward-type', 'multi-discount', '--discount', '0.99999', '--gammaB', '0.99', '--tolerance', '0.0', '--alpha', '0.1', '--linear-lr-decay', '-1', '--kkt-lr-decay', '10', '--explore', '1.0', '--linear-explore-decay', '0.1', '--ep-number', '177', '--ep-length', '20', '--est-pac', '--est-pac-probability-min-samples', '100', '--est-pac-max-std', '0.01', '--est-pac-epsilon', '0.001', '--lambda', '0']\n"
     ]
    },
    {
     "name": "stderr",
     "output_type": "stream",
     "text": [
      "\r",
      " 69%|██████████████████████████████████████████████████████████████                            | 69/100 [19:01<05:02,  9.76s/it]"
     ]
    },
    {
     "name": "stdout",
     "output_type": "stream",
     "text": [
      "0.9999 177 0.585553 0.00989617\n",
      "['mungojerrie/build/mungojerrie', '/var/folders/8v/xg5xyd3d6fn_k_mh75z9tn3w0000gn/T/tmp22dabe71', '--ltl-file', 'models/constructed-mdp-#G a & F b#.ltl', '--learn', 'Q', '--reward-type', 'multi-discount', '--discount', '0.99999', '--gammaB', '0.99', '--tolerance', '0.0', '--alpha', '0.1', '--linear-lr-decay', '-1', '--kkt-lr-decay', '10', '--explore', '1.0', '--linear-explore-decay', '0.1', '--ep-number', '316', '--ep-length', '20', '--est-pac', '--est-pac-probability-min-samples', '100', '--est-pac-max-std', '0.01', '--est-pac-epsilon', '0.001', '--lambda', '0']\n"
     ]
    },
    {
     "name": "stderr",
     "output_type": "stream",
     "text": [
      "\r",
      " 70%|██████████████████████████████████████████████████████████████▉                           | 70/100 [19:12<05:08, 10.29s/it]"
     ]
    },
    {
     "name": "stdout",
     "output_type": "stream",
     "text": [
      "0.9999 316 0.646425 0.0099213\n",
      "['mungojerrie/build/mungojerrie', '/var/folders/8v/xg5xyd3d6fn_k_mh75z9tn3w0000gn/T/tmpswbia63u', '--ltl-file', 'models/constructed-mdp-#G a & F b#.ltl', '--learn', 'Q', '--reward-type', 'multi-discount', '--discount', '0.99999', '--gammaB', '0.99', '--tolerance', '0.0', '--alpha', '0.1', '--linear-lr-decay', '-1', '--kkt-lr-decay', '10', '--explore', '1.0', '--linear-explore-decay', '0.1', '--ep-number', '562', '--ep-length', '20', '--est-pac', '--est-pac-probability-min-samples', '100', '--est-pac-max-std', '0.01', '--est-pac-epsilon', '0.001', '--lambda', '0']\n"
     ]
    },
    {
     "name": "stderr",
     "output_type": "stream",
     "text": [
      "\r",
      " 71%|███████████████████████████████████████████████████████████████▉                          | 71/100 [19:28<05:42, 11.80s/it]"
     ]
    },
    {
     "name": "stdout",
     "output_type": "stream",
     "text": [
      "0.9999 562 0.721896 0.00990576\n",
      "['mungojerrie/build/mungojerrie', '/var/folders/8v/xg5xyd3d6fn_k_mh75z9tn3w0000gn/T/tmpbfn_rv8d', '--ltl-file', 'models/constructed-mdp-#G a & F b#.ltl', '--learn', 'Q', '--reward-type', 'multi-discount', '--discount', '0.99999', '--gammaB', '0.99', '--tolerance', '0.0', '--alpha', '0.1', '--linear-lr-decay', '-1', '--kkt-lr-decay', '10', '--explore', '1.0', '--linear-explore-decay', '0.1', '--ep-number', '1000', '--ep-length', '20', '--est-pac', '--est-pac-probability-min-samples', '100', '--est-pac-max-std', '0.01', '--est-pac-epsilon', '0.001', '--lambda', '0']\n"
     ]
    },
    {
     "name": "stderr",
     "output_type": "stream",
     "text": [
      "\r",
      " 72%|████████████████████████████████████████████████████████████████▊                         | 72/100 [19:45<06:14, 13.38s/it]"
     ]
    },
    {
     "name": "stdout",
     "output_type": "stream",
     "text": [
      "0.9999 1000 0.84812 0.00984131\n",
      "['mungojerrie/build/mungojerrie', '/var/folders/8v/xg5xyd3d6fn_k_mh75z9tn3w0000gn/T/tmpyfyxpf3t', '--ltl-file', 'models/constructed-mdp-#G a & F b#.ltl', '--learn', 'Q', '--reward-type', 'multi-discount', '--discount', '0.99999', '--gammaB', '0.99', '--tolerance', '0.0', '--alpha', '0.1', '--linear-lr-decay', '-1', '--kkt-lr-decay', '10', '--explore', '1.0', '--linear-explore-decay', '0.1', '--ep-number', '1778', '--ep-length', '20', '--est-pac', '--est-pac-probability-min-samples', '100', '--est-pac-max-std', '0.01', '--est-pac-epsilon', '0.001', '--lambda', '0']\n"
     ]
    },
    {
     "name": "stderr",
     "output_type": "stream",
     "text": [
      "\r",
      " 73%|█████████████████████████████████████████████████████████████████▋                        | 73/100 [19:53<05:24, 12.01s/it]"
     ]
    },
    {
     "name": "stdout",
     "output_type": "stream",
     "text": [
      "0.9999 1778 0.985816 0.0099585\n",
      "['mungojerrie/build/mungojerrie', '/var/folders/8v/xg5xyd3d6fn_k_mh75z9tn3w0000gn/T/tmps9n37xsp', '--ltl-file', 'models/constructed-mdp-#G a & F b#.ltl', '--learn', 'Q', '--reward-type', 'multi-discount', '--discount', '0.99999', '--gammaB', '0.99', '--tolerance', '0.0', '--alpha', '0.1', '--linear-lr-decay', '-1', '--kkt-lr-decay', '10', '--explore', '1.0', '--linear-explore-decay', '0.1', '--ep-number', '3162', '--ep-length', '20', '--est-pac', '--est-pac-probability-min-samples', '100', '--est-pac-max-std', '0.01', '--est-pac-epsilon', '0.001', '--lambda', '0']\n"
     ]
    },
    {
     "name": "stderr",
     "output_type": "stream",
     "text": [
      "\r",
      " 74%|██████████████████████████████████████████████████████████████████▌                       | 74/100 [20:02<04:49, 11.12s/it]"
     ]
    },
    {
     "name": "stdout",
     "output_type": "stream",
     "text": [
      "0.9999 3162 1.0 0.0\n",
      "['mungojerrie/build/mungojerrie', '/var/folders/8v/xg5xyd3d6fn_k_mh75z9tn3w0000gn/T/tmpxkb0yn8q', '--ltl-file', 'models/constructed-mdp-#G a & F b#.ltl', '--learn', 'Q', '--reward-type', 'multi-discount', '--discount', '0.99999', '--gammaB', '0.99', '--tolerance', '0.0', '--alpha', '0.1', '--linear-lr-decay', '-1', '--kkt-lr-decay', '10', '--explore', '1.0', '--linear-explore-decay', '0.1', '--ep-number', '5623', '--ep-length', '20', '--est-pac', '--est-pac-probability-min-samples', '100', '--est-pac-max-std', '0.01', '--est-pac-epsilon', '0.001', '--lambda', '0']\n"
     ]
    },
    {
     "name": "stderr",
     "output_type": "stream",
     "text": [
      "\r",
      " 75%|███████████████████████████████████████████████████████████████████▌                      | 75/100 [20:14<04:39, 11.18s/it]"
     ]
    },
    {
     "name": "stdout",
     "output_type": "stream",
     "text": [
      "0.9999 5623 1.0 0.0\n",
      "['mungojerrie/build/mungojerrie', '/var/folders/8v/xg5xyd3d6fn_k_mh75z9tn3w0000gn/T/tmpgjzxzx2h', '--ltl-file', 'models/constructed-mdp-#G a & F b#.ltl', '--learn', 'Q', '--reward-type', 'multi-discount', '--discount', '0.99999', '--gammaB', '0.99', '--tolerance', '0.0', '--alpha', '0.1', '--linear-lr-decay', '-1', '--kkt-lr-decay', '10', '--explore', '1.0', '--linear-explore-decay', '0.1', '--ep-number', '10000', '--ep-length', '20', '--est-pac', '--est-pac-probability-min-samples', '100', '--est-pac-max-std', '0.01', '--est-pac-epsilon', '0.001', '--lambda', '0']\n"
     ]
    },
    {
     "name": "stderr",
     "output_type": "stream",
     "text": [
      "\r",
      " 76%|████████████████████████████████████████████████████████████████████▍                     | 76/100 [20:29<04:57, 12.41s/it]"
     ]
    },
    {
     "name": "stdout",
     "output_type": "stream",
     "text": [
      "0.9999 10000 1.0 0.0\n",
      "['mungojerrie/build/mungojerrie', '/var/folders/8v/xg5xyd3d6fn_k_mh75z9tn3w0000gn/T/tmpx04v0au1', '--ltl-file', 'models/constructed-mdp-#G a & F b#.ltl', '--learn', 'Q', '--reward-type', 'multi-discount', '--discount', '0.99999', '--gammaB', '0.99', '--tolerance', '0.0', '--alpha', '0.1', '--linear-lr-decay', '-1', '--kkt-lr-decay', '10', '--explore', '1.0', '--linear-explore-decay', '0.1', '--ep-number', '17782', '--ep-length', '20', '--est-pac', '--est-pac-probability-min-samples', '100', '--est-pac-max-std', '0.01', '--est-pac-epsilon', '0.001', '--lambda', '0']\n"
     ]
    },
    {
     "name": "stderr",
     "output_type": "stream",
     "text": [
      "\r",
      " 77%|█████████████████████████████████████████████████████████████████████▎                    | 77/100 [20:52<05:56, 15.50s/it]"
     ]
    },
    {
     "name": "stdout",
     "output_type": "stream",
     "text": [
      "0.9999 17782 1.0 0.0\n",
      "['mungojerrie/build/mungojerrie', '/var/folders/8v/xg5xyd3d6fn_k_mh75z9tn3w0000gn/T/tmpvflda7j6', '--ltl-file', 'models/constructed-mdp-#G a & F b#.ltl', '--learn', 'Q', '--reward-type', 'multi-discount', '--discount', '0.99999', '--gammaB', '0.99', '--tolerance', '0.0', '--alpha', '0.1', '--linear-lr-decay', '-1', '--kkt-lr-decay', '10', '--explore', '1.0', '--linear-explore-decay', '0.1', '--ep-number', '31622', '--ep-length', '20', '--est-pac', '--est-pac-probability-min-samples', '100', '--est-pac-max-std', '0.01', '--est-pac-epsilon', '0.001', '--lambda', '0']\n"
     ]
    },
    {
     "name": "stderr",
     "output_type": "stream",
     "text": [
      "\r",
      " 78%|██████████████████████████████████████████████████████████████████████▏                   | 78/100 [21:28<07:58, 21.77s/it]"
     ]
    },
    {
     "name": "stdout",
     "output_type": "stream",
     "text": [
      "0.9999 31622 1.0 0.0\n",
      "['mungojerrie/build/mungojerrie', '/var/folders/8v/xg5xyd3d6fn_k_mh75z9tn3w0000gn/T/tmp5ip3oi2k', '--ltl-file', 'models/constructed-mdp-#G a & F b#.ltl', '--learn', 'Q', '--reward-type', 'multi-discount', '--discount', '0.99999', '--gammaB', '0.99', '--tolerance', '0.0', '--alpha', '0.1', '--linear-lr-decay', '-1', '--kkt-lr-decay', '10', '--explore', '1.0', '--linear-explore-decay', '0.1', '--ep-number', '56234', '--ep-length', '20', '--est-pac', '--est-pac-probability-min-samples', '100', '--est-pac-max-std', '0.01', '--est-pac-epsilon', '0.001', '--lambda', '0']\n"
     ]
    },
    {
     "name": "stderr",
     "output_type": "stream",
     "text": [
      "\r",
      " 79%|███████████████████████████████████████████████████████████████████████                   | 79/100 [22:28<11:39, 33.29s/it]"
     ]
    },
    {
     "name": "stdout",
     "output_type": "stream",
     "text": [
      "0.9999 56234 1.0 0.0\n",
      "['mungojerrie/build/mungojerrie', '/var/folders/8v/xg5xyd3d6fn_k_mh75z9tn3w0000gn/T/tmptjjyn82u', '--ltl-file', 'models/constructed-mdp-#G a & F b#.ltl', '--learn', 'Q', '--reward-type', 'multi-discount', '--discount', '0.99999', '--gammaB', '0.99', '--tolerance', '0.0', '--alpha', '0.1', '--linear-lr-decay', '-1', '--kkt-lr-decay', '10', '--explore', '1.0', '--linear-explore-decay', '0.1', '--ep-number', '100000', '--ep-length', '20', '--est-pac', '--est-pac-probability-min-samples', '100', '--est-pac-max-std', '0.01', '--est-pac-epsilon', '0.001', '--lambda', '0']\n"
     ]
    },
    {
     "name": "stderr",
     "output_type": "stream",
     "text": [
      "\r",
      " 80%|████████████████████████████████████████████████████████████████████████                  | 80/100 [24:10<17:55, 53.78s/it]"
     ]
    },
    {
     "name": "stdout",
     "output_type": "stream",
     "text": [
      "0.9999 100000 1.0 0.0\n",
      "['mungojerrie/build/mungojerrie', '/var/folders/8v/xg5xyd3d6fn_k_mh75z9tn3w0000gn/T/tmpo1h_3p6s', '--ltl-file', 'models/constructed-mdp-#G a & F b#.ltl', '--learn', 'Q', '--reward-type', 'multi-discount', '--discount', '0.99999', '--gammaB', '0.99', '--tolerance', '0.0', '--alpha', '0.1', '--linear-lr-decay', '-1', '--kkt-lr-decay', '10', '--explore', '1.0', '--linear-explore-decay', '0.1', '--ep-number', '1', '--ep-length', '20', '--est-pac', '--est-pac-probability-min-samples', '100', '--est-pac-max-std', '0.01', '--est-pac-epsilon', '0.001', '--lambda', '0']\n"
     ]
    },
    {
     "name": "stderr",
     "output_type": "stream",
     "text": [
      "\r",
      " 81%|████████████████████████████████████████████████████████████████████████▉                 | 81/100 [24:16<12:31, 39.58s/it]"
     ]
    },
    {
     "name": "stdout",
     "output_type": "stream",
     "text": [
      "0.99999 1 0.495061 0.00974554\n",
      "['mungojerrie/build/mungojerrie', '/var/folders/8v/xg5xyd3d6fn_k_mh75z9tn3w0000gn/T/tmphbprouop', '--ltl-file', 'models/constructed-mdp-#G a & F b#.ltl', '--learn', 'Q', '--reward-type', 'multi-discount', '--discount', '0.99999', '--gammaB', '0.99', '--tolerance', '0.0', '--alpha', '0.1', '--linear-lr-decay', '-1', '--kkt-lr-decay', '10', '--explore', '1.0', '--linear-explore-decay', '0.1', '--ep-number', '3', '--ep-length', '20', '--est-pac', '--est-pac-probability-min-samples', '100', '--est-pac-max-std', '0.01', '--est-pac-epsilon', '0.001', '--lambda', '0']\n"
     ]
    },
    {
     "name": "stderr",
     "output_type": "stream",
     "text": [
      "\r",
      " 82%|█████████████████████████████████████████████████████████████████████████▊                | 82/100 [24:23<08:53, 29.65s/it]"
     ]
    },
    {
     "name": "stdout",
     "output_type": "stream",
     "text": [
      "0.99999 3 0.503811 0.00976058\n",
      "['mungojerrie/build/mungojerrie', '/var/folders/8v/xg5xyd3d6fn_k_mh75z9tn3w0000gn/T/tmpi85hr3x2', '--ltl-file', 'models/constructed-mdp-#G a & F b#.ltl', '--learn', 'Q', '--reward-type', 'multi-discount', '--discount', '0.99999', '--gammaB', '0.99', '--tolerance', '0.0', '--alpha', '0.1', '--linear-lr-decay', '-1', '--kkt-lr-decay', '10', '--explore', '1.0', '--linear-explore-decay', '0.1', '--ep-number', '5', '--ep-length', '20', '--est-pac', '--est-pac-probability-min-samples', '100', '--est-pac-max-std', '0.01', '--est-pac-epsilon', '0.001', '--lambda', '0']\n"
     ]
    },
    {
     "name": "stderr",
     "output_type": "stream",
     "text": [
      "\r",
      " 83%|██████████████████████████████████████████████████████████████████████████▋               | 83/100 [24:29<06:26, 22.72s/it]"
     ]
    },
    {
     "name": "stdout",
     "output_type": "stream",
     "text": [
      "0.99999 5 0.499046 0.00976643\n",
      "['mungojerrie/build/mungojerrie', '/var/folders/8v/xg5xyd3d6fn_k_mh75z9tn3w0000gn/T/tmpumat8b15', '--ltl-file', 'models/constructed-mdp-#G a & F b#.ltl', '--learn', 'Q', '--reward-type', 'multi-discount', '--discount', '0.99999', '--gammaB', '0.99', '--tolerance', '0.0', '--alpha', '0.1', '--linear-lr-decay', '-1', '--kkt-lr-decay', '10', '--explore', '1.0', '--linear-explore-decay', '0.1', '--ep-number', '10', '--ep-length', '20', '--est-pac', '--est-pac-probability-min-samples', '100', '--est-pac-max-std', '0.01', '--est-pac-epsilon', '0.001', '--lambda', '0']\n"
     ]
    },
    {
     "name": "stderr",
     "output_type": "stream",
     "text": [
      "\r",
      " 84%|███████████████████████████████████████████████████████████████████████████▌              | 84/100 [24:36<04:46, 17.88s/it]"
     ]
    },
    {
     "name": "stdout",
     "output_type": "stream",
     "text": [
      "0.99999 10 0.500382 0.00977577\n",
      "['mungojerrie/build/mungojerrie', '/var/folders/8v/xg5xyd3d6fn_k_mh75z9tn3w0000gn/T/tmptm3y1fqn', '--ltl-file', 'models/constructed-mdp-#G a & F b#.ltl', '--learn', 'Q', '--reward-type', 'multi-discount', '--discount', '0.99999', '--gammaB', '0.99', '--tolerance', '0.0', '--alpha', '0.1', '--linear-lr-decay', '-1', '--kkt-lr-decay', '10', '--explore', '1.0', '--linear-explore-decay', '0.1', '--ep-number', '17', '--ep-length', '20', '--est-pac', '--est-pac-probability-min-samples', '100', '--est-pac-max-std', '0.01', '--est-pac-epsilon', '0.001', '--lambda', '0']\n"
     ]
    },
    {
     "name": "stderr",
     "output_type": "stream",
     "text": [
      "\r",
      " 85%|████████████████████████████████████████████████████████████████████████████▌             | 85/100 [24:43<03:37, 14.53s/it]"
     ]
    },
    {
     "name": "stdout",
     "output_type": "stream",
     "text": [
      "0.99999 17 0.491571 0.00978561\n",
      "['mungojerrie/build/mungojerrie', '/var/folders/8v/xg5xyd3d6fn_k_mh75z9tn3w0000gn/T/tmp39ita2b2', '--ltl-file', 'models/constructed-mdp-#G a & F b#.ltl', '--learn', 'Q', '--reward-type', 'multi-discount', '--discount', '0.99999', '--gammaB', '0.99', '--tolerance', '0.0', '--alpha', '0.1', '--linear-lr-decay', '-1', '--kkt-lr-decay', '10', '--explore', '1.0', '--linear-explore-decay', '0.1', '--ep-number', '31', '--ep-length', '20', '--est-pac', '--est-pac-probability-min-samples', '100', '--est-pac-max-std', '0.01', '--est-pac-epsilon', '0.001', '--lambda', '0']\n"
     ]
    },
    {
     "name": "stderr",
     "output_type": "stream",
     "text": [
      "\r",
      " 86%|█████████████████████████████████████████████████████████████████████████████▍            | 86/100 [24:50<02:51, 12.24s/it]"
     ]
    },
    {
     "name": "stdout",
     "output_type": "stream",
     "text": [
      "0.99999 31 0.488077 0.00980302\n",
      "['mungojerrie/build/mungojerrie', '/var/folders/8v/xg5xyd3d6fn_k_mh75z9tn3w0000gn/T/tmp7kq92jj1', '--ltl-file', 'models/constructed-mdp-#G a & F b#.ltl', '--learn', 'Q', '--reward-type', 'multi-discount', '--discount', '0.99999', '--gammaB', '0.99', '--tolerance', '0.0', '--alpha', '0.1', '--linear-lr-decay', '-1', '--kkt-lr-decay', '10', '--explore', '1.0', '--linear-explore-decay', '0.1', '--ep-number', '56', '--ep-length', '20', '--est-pac', '--est-pac-probability-min-samples', '100', '--est-pac-max-std', '0.01', '--est-pac-epsilon', '0.001', '--lambda', '0']\n"
     ]
    },
    {
     "name": "stderr",
     "output_type": "stream",
     "text": [
      "\r",
      " 87%|██████████████████████████████████████████████████████████████████████████████▎           | 87/100 [24:57<02:19, 10.77s/it]"
     ]
    },
    {
     "name": "stdout",
     "output_type": "stream",
     "text": [
      "0.99999 56 0.508873 0.00981938\n",
      "['mungojerrie/build/mungojerrie', '/var/folders/8v/xg5xyd3d6fn_k_mh75z9tn3w0000gn/T/tmp4tyw7i2x', '--ltl-file', 'models/constructed-mdp-#G a & F b#.ltl', '--learn', 'Q', '--reward-type', 'multi-discount', '--discount', '0.99999', '--gammaB', '0.99', '--tolerance', '0.0', '--alpha', '0.1', '--linear-lr-decay', '-1', '--kkt-lr-decay', '10', '--explore', '1.0', '--linear-explore-decay', '0.1', '--ep-number', '100', '--ep-length', '20', '--est-pac', '--est-pac-probability-min-samples', '100', '--est-pac-max-std', '0.01', '--est-pac-epsilon', '0.001', '--lambda', '0']\n"
     ]
    },
    {
     "name": "stderr",
     "output_type": "stream",
     "text": [
      "\r",
      " 88%|███████████████████████████████████████████████████████████████████████████████▏          | 88/100 [25:05<01:58,  9.90s/it]"
     ]
    },
    {
     "name": "stdout",
     "output_type": "stream",
     "text": [
      "0.99999 100 0.511845 0.00985053\n",
      "['mungojerrie/build/mungojerrie', '/var/folders/8v/xg5xyd3d6fn_k_mh75z9tn3w0000gn/T/tmpkr786yj3', '--ltl-file', 'models/constructed-mdp-#G a & F b#.ltl', '--learn', 'Q', '--reward-type', 'multi-discount', '--discount', '0.99999', '--gammaB', '0.99', '--tolerance', '0.0', '--alpha', '0.1', '--linear-lr-decay', '-1', '--kkt-lr-decay', '10', '--explore', '1.0', '--linear-explore-decay', '0.1', '--ep-number', '177', '--ep-length', '20', '--est-pac', '--est-pac-probability-min-samples', '100', '--est-pac-max-std', '0.01', '--est-pac-epsilon', '0.001', '--lambda', '0']\n"
     ]
    },
    {
     "name": "stderr",
     "output_type": "stream",
     "text": [
      "\r",
      " 89%|████████████████████████████████████████████████████████████████████████████████          | 89/100 [25:14<01:45,  9.60s/it]"
     ]
    },
    {
     "name": "stdout",
     "output_type": "stream",
     "text": [
      "0.99999 177 0.52555 0.00990019\n",
      "['mungojerrie/build/mungojerrie', '/var/folders/8v/xg5xyd3d6fn_k_mh75z9tn3w0000gn/T/tmp7yk9f50j', '--ltl-file', 'models/constructed-mdp-#G a & F b#.ltl', '--learn', 'Q', '--reward-type', 'multi-discount', '--discount', '0.99999', '--gammaB', '0.99', '--tolerance', '0.0', '--alpha', '0.1', '--linear-lr-decay', '-1', '--kkt-lr-decay', '10', '--explore', '1.0', '--linear-explore-decay', '0.1', '--ep-number', '316', '--ep-length', '20', '--est-pac', '--est-pac-probability-min-samples', '100', '--est-pac-max-std', '0.01', '--est-pac-epsilon', '0.001', '--lambda', '0']\n"
     ]
    },
    {
     "name": "stderr",
     "output_type": "stream",
     "text": [
      "\r",
      " 90%|█████████████████████████████████████████████████████████████████████████████████         | 90/100 [25:26<01:43, 10.36s/it]"
     ]
    },
    {
     "name": "stdout",
     "output_type": "stream",
     "text": [
      "0.99999 316 0.496462 0.0099129\n",
      "['mungojerrie/build/mungojerrie', '/var/folders/8v/xg5xyd3d6fn_k_mh75z9tn3w0000gn/T/tmp_sja8ymw', '--ltl-file', 'models/constructed-mdp-#G a & F b#.ltl', '--learn', 'Q', '--reward-type', 'multi-discount', '--discount', '0.99999', '--gammaB', '0.99', '--tolerance', '0.0', '--alpha', '0.1', '--linear-lr-decay', '-1', '--kkt-lr-decay', '10', '--explore', '1.0', '--linear-explore-decay', '0.1', '--ep-number', '562', '--ep-length', '20', '--est-pac', '--est-pac-probability-min-samples', '100', '--est-pac-max-std', '0.01', '--est-pac-epsilon', '0.001', '--lambda', '0']\n"
     ]
    },
    {
     "name": "stderr",
     "output_type": "stream",
     "text": [
      "\r",
      " 91%|█████████████████████████████████████████████████████████████████████████████████▉        | 91/100 [25:44<01:54, 12.69s/it]"
     ]
    },
    {
     "name": "stdout",
     "output_type": "stream",
     "text": [
      "0.99999 562 0.533544 0.00991031\n",
      "['mungojerrie/build/mungojerrie', '/var/folders/8v/xg5xyd3d6fn_k_mh75z9tn3w0000gn/T/tmpg5npffkj', '--ltl-file', 'models/constructed-mdp-#G a & F b#.ltl', '--learn', 'Q', '--reward-type', 'multi-discount', '--discount', '0.99999', '--gammaB', '0.99', '--tolerance', '0.0', '--alpha', '0.1', '--linear-lr-decay', '-1', '--kkt-lr-decay', '10', '--explore', '1.0', '--linear-explore-decay', '0.1', '--ep-number', '1000', '--ep-length', '20', '--est-pac', '--est-pac-probability-min-samples', '100', '--est-pac-max-std', '0.01', '--est-pac-epsilon', '0.001', '--lambda', '0']\n"
     ]
    },
    {
     "name": "stderr",
     "output_type": "stream",
     "text": [
      "\r",
      " 92%|██████████████████████████████████████████████████████████████████████████████████▊       | 92/100 [26:12<02:19, 17.44s/it]"
     ]
    },
    {
     "name": "stdout",
     "output_type": "stream",
     "text": [
      "0.99999 1000 0.549901 0.00992036\n",
      "['mungojerrie/build/mungojerrie', '/var/folders/8v/xg5xyd3d6fn_k_mh75z9tn3w0000gn/T/tmpqen39mtn', '--ltl-file', 'models/constructed-mdp-#G a & F b#.ltl', '--learn', 'Q', '--reward-type', 'multi-discount', '--discount', '0.99999', '--gammaB', '0.99', '--tolerance', '0.0', '--alpha', '0.1', '--linear-lr-decay', '-1', '--kkt-lr-decay', '10', '--explore', '1.0', '--linear-explore-decay', '0.1', '--ep-number', '1778', '--ep-length', '20', '--est-pac', '--est-pac-probability-min-samples', '100', '--est-pac-max-std', '0.01', '--est-pac-epsilon', '0.001', '--lambda', '0']\n"
     ]
    },
    {
     "name": "stderr",
     "output_type": "stream",
     "text": [
      "\r",
      " 93%|███████████████████████████████████████████████████████████████████████████████████▋      | 93/100 [26:58<03:00, 25.84s/it]"
     ]
    },
    {
     "name": "stdout",
     "output_type": "stream",
     "text": [
      "0.99999 1778 0.595597 0.00990911\n",
      "['mungojerrie/build/mungojerrie', '/var/folders/8v/xg5xyd3d6fn_k_mh75z9tn3w0000gn/T/tmps0qj32m5', '--ltl-file', 'models/constructed-mdp-#G a & F b#.ltl', '--learn', 'Q', '--reward-type', 'multi-discount', '--discount', '0.99999', '--gammaB', '0.99', '--tolerance', '0.0', '--alpha', '0.1', '--linear-lr-decay', '-1', '--kkt-lr-decay', '10', '--explore', '1.0', '--linear-explore-decay', '0.1', '--ep-number', '3162', '--ep-length', '20', '--est-pac', '--est-pac-probability-min-samples', '100', '--est-pac-max-std', '0.01', '--est-pac-epsilon', '0.001', '--lambda', '0']\n"
     ]
    },
    {
     "name": "stderr",
     "output_type": "stream",
     "text": [
      "\r",
      " 94%|████████████████████████████████████████████████████████████████████████████████████▌     | 94/100 [28:12<04:01, 40.18s/it]"
     ]
    },
    {
     "name": "stdout",
     "output_type": "stream",
     "text": [
      "0.99999 3162 0.659101 0.00990322\n",
      "['mungojerrie/build/mungojerrie', '/var/folders/8v/xg5xyd3d6fn_k_mh75z9tn3w0000gn/T/tmpu_3qdy4y', '--ltl-file', 'models/constructed-mdp-#G a & F b#.ltl', '--learn', 'Q', '--reward-type', 'multi-discount', '--discount', '0.99999', '--gammaB', '0.99', '--tolerance', '0.0', '--alpha', '0.1', '--linear-lr-decay', '-1', '--kkt-lr-decay', '10', '--explore', '1.0', '--linear-explore-decay', '0.1', '--ep-number', '5623', '--ep-length', '20', '--est-pac', '--est-pac-probability-min-samples', '100', '--est-pac-max-std', '0.01', '--est-pac-epsilon', '0.001', '--lambda', '0']\n"
     ]
    },
    {
     "name": "stderr",
     "output_type": "stream",
     "text": [
      "\r",
      " 95%|█████████████████████████████████████████████████████████████████████████████████████▌    | 95/100 [29:52<04:51, 58.32s/it]"
     ]
    },
    {
     "name": "stdout",
     "output_type": "stream",
     "text": [
      "0.99999 5623 0.766503 0.00988135\n",
      "['mungojerrie/build/mungojerrie', '/var/folders/8v/xg5xyd3d6fn_k_mh75z9tn3w0000gn/T/tmp00es_rr_', '--ltl-file', 'models/constructed-mdp-#G a & F b#.ltl', '--learn', 'Q', '--reward-type', 'multi-discount', '--discount', '0.99999', '--gammaB', '0.99', '--tolerance', '0.0', '--alpha', '0.1', '--linear-lr-decay', '-1', '--kkt-lr-decay', '10', '--explore', '1.0', '--linear-explore-decay', '0.1', '--ep-number', '10000', '--ep-length', '20', '--est-pac', '--est-pac-probability-min-samples', '100', '--est-pac-max-std', '0.01', '--est-pac-epsilon', '0.001', '--lambda', '0']\n"
     ]
    },
    {
     "name": "stderr",
     "output_type": "stream",
     "text": [
      "\r",
      " 96%|██████████████████████████████████████████████████████████████████████████████████████▍   | 96/100 [31:43<04:55, 73.97s/it]"
     ]
    },
    {
     "name": "stdout",
     "output_type": "stream",
     "text": [
      "0.99999 10000 0.874107 0.00991229\n",
      "['mungojerrie/build/mungojerrie', '/var/folders/8v/xg5xyd3d6fn_k_mh75z9tn3w0000gn/T/tmpfd4gngjs', '--ltl-file', 'models/constructed-mdp-#G a & F b#.ltl', '--learn', 'Q', '--reward-type', 'multi-discount', '--discount', '0.99999', '--gammaB', '0.99', '--tolerance', '0.0', '--alpha', '0.1', '--linear-lr-decay', '-1', '--kkt-lr-decay', '10', '--explore', '1.0', '--linear-explore-decay', '0.1', '--ep-number', '17782', '--ep-length', '20', '--est-pac', '--est-pac-probability-min-samples', '100', '--est-pac-max-std', '0.01', '--est-pac-epsilon', '0.001', '--lambda', '0']\n"
     ]
    },
    {
     "name": "stderr",
     "output_type": "stream",
     "text": [
      "\r",
      " 97%|███████████████████████████████████████████████████████████████████████████████████████▎  | 97/100 [33:21<04:04, 81.40s/it]"
     ]
    },
    {
     "name": "stdout",
     "output_type": "stream",
     "text": [
      "0.99999 17782 0.94831 0.00987174\n",
      "['mungojerrie/build/mungojerrie', '/var/folders/8v/xg5xyd3d6fn_k_mh75z9tn3w0000gn/T/tmp1qsf2xie', '--ltl-file', 'models/constructed-mdp-#G a & F b#.ltl', '--learn', 'Q', '--reward-type', 'multi-discount', '--discount', '0.99999', '--gammaB', '0.99', '--tolerance', '0.0', '--alpha', '0.1', '--linear-lr-decay', '-1', '--kkt-lr-decay', '10', '--explore', '1.0', '--linear-explore-decay', '0.1', '--ep-number', '31622', '--ep-length', '20', '--est-pac', '--est-pac-probability-min-samples', '100', '--est-pac-max-std', '0.01', '--est-pac-epsilon', '0.001', '--lambda', '0']\n"
     ]
    },
    {
     "name": "stderr",
     "output_type": "stream",
     "text": [
      "\r",
      " 98%|████████████████████████████████████████████████████████████████████████████████████████▏ | 98/100 [33:59<02:16, 68.13s/it]"
     ]
    },
    {
     "name": "stdout",
     "output_type": "stream",
     "text": [
      "0.99999 31622 0.990991 0.00896834\n",
      "['mungojerrie/build/mungojerrie', '/var/folders/8v/xg5xyd3d6fn_k_mh75z9tn3w0000gn/T/tmptu2xw0t9', '--ltl-file', 'models/constructed-mdp-#G a & F b#.ltl', '--learn', 'Q', '--reward-type', 'multi-discount', '--discount', '0.99999', '--gammaB', '0.99', '--tolerance', '0.0', '--alpha', '0.1', '--linear-lr-decay', '-1', '--kkt-lr-decay', '10', '--explore', '1.0', '--linear-explore-decay', '0.1', '--ep-number', '56234', '--ep-length', '20', '--est-pac', '--est-pac-probability-min-samples', '100', '--est-pac-max-std', '0.01', '--est-pac-epsilon', '0.001', '--lambda', '0']\n"
     ]
    },
    {
     "name": "stderr",
     "output_type": "stream",
     "text": [
      "\r",
      " 99%|█████████████████████████████████████████████████████████████████████████████████████████ | 99/100 [34:59<01:05, 65.70s/it]"
     ]
    },
    {
     "name": "stdout",
     "output_type": "stream",
     "text": [
      "0.99999 56234 1.0 0.0\n",
      "['mungojerrie/build/mungojerrie', '/var/folders/8v/xg5xyd3d6fn_k_mh75z9tn3w0000gn/T/tmpfzqo9hkp', '--ltl-file', 'models/constructed-mdp-#G a & F b#.ltl', '--learn', 'Q', '--reward-type', 'multi-discount', '--discount', '0.99999', '--gammaB', '0.99', '--tolerance', '0.0', '--alpha', '0.1', '--linear-lr-decay', '-1', '--kkt-lr-decay', '10', '--explore', '1.0', '--linear-explore-decay', '0.1', '--ep-number', '100000', '--ep-length', '20', '--est-pac', '--est-pac-probability-min-samples', '100', '--est-pac-max-std', '0.01', '--est-pac-epsilon', '0.001', '--lambda', '0']\n"
     ]
    },
    {
     "name": "stderr",
     "output_type": "stream",
     "text": [
      "100%|█████████████████████████████████████████████████████████████████████████████████████████| 100/100 [36:41<00:00, 22.02s/it]"
     ]
    },
    {
     "name": "stdout",
     "output_type": "stream",
     "text": [
      "0.99999 100000 1.0 0.0\n"
     ]
    },
    {
     "name": "stderr",
     "output_type": "stream",
     "text": [
      "\n"
     ]
    },
    {
     "data": {
      "image/png": "[encoded data removed]",
      "text/plain": [
       "<Figure size 432x288 with 1 Axes>"
      ]
     },
     "metadata": {
      "needs_background": "light"
     },
     "output_type": "display_data"
    }
   ],
   "source": [
    "env = to_prism(\"G a & F b\")\n",
    "probs, errs = collect_pac_probs(env)\n",
    "plot_pac_probs(env, probs, errs)"
   ]
  },
  {
   "cell_type": "code",
   "execution_count": null,
   "metadata": {},
   "outputs": [],
   "source": []
  },
  {
   "cell_type": "code",
   "execution_count": null,
   "metadata": {},
   "outputs": [],
   "source": []
  }
 ],
 "metadata": {
  "kernelspec": {
   "display_name": "Python 3 (ipykernel)",
   "language": "python",
   "name": "python3"
  },
  "language_info": {
   "codemirror_mode": {
    "name": "ipython",
    "version": 3
   },
   "file_extension": ".py",
   "mimetype": "text/x-python",
   "name": "python",
   "nbconvert_exporter": "python",
   "pygments_lexer": "ipython3",
   "version": "3.8.11"
  }
 },
 "nbformat": 4,
 "nbformat_minor": 4
}
