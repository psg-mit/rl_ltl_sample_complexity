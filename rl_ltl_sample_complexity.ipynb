{
 "cells": [
  {
   "cell_type": "code",
   "execution_count": 4,
   "metadata": {},
   "outputs": [],
   "source": [
    "from typing import Dict, Any, Callable, List, Optional\n",
    "\n",
    "import re\n",
    "import subprocess\n",
    "import tempfile\n",
    "import pathlib\n",
    "import concurrent.futures\n",
    "import os\n",
    "import functools\n",
    "import itertools\n",
    "import collections\n",
    "import shelve\n",
    "import json\n",
    "import numpy as np\n",
    "import matplotlib.pyplot as plt\n",
    "\n",
    "import tqdm"
   ]
  },
  {
   "cell_type": "code",
   "execution_count": 5,
   "metadata": {},
   "outputs": [],
   "source": [
    "class NumpyEncoder(json.JSONEncoder):\n",
    "    \"\"\" Custom encoder for numpy data types \"\"\"\n",
    "    def default(self, obj):\n",
    "        if isinstance(obj, (np.int_, np.intc, np.intp, np.int8,\n",
    "                            np.int16, np.int32, np.int64, np.uint8,\n",
    "                            np.uint16, np.uint32, np.uint64)):\n",
    "\n",
    "            return int(obj)\n",
    "\n",
    "        elif isinstance(obj, (np.float_, np.float16, np.float32, np.float64)):\n",
    "            return float(obj)\n",
    "\n",
    "        elif isinstance(obj, (np.complex_, np.complex64, np.complex128)):\n",
    "            return {'real': obj.real, 'imag': obj.imag}\n",
    "\n",
    "        elif isinstance(obj, (np.ndarray,)):\n",
    "            return obj.tolist()\n",
    "\n",
    "        elif isinstance(obj, (np.bool_)):\n",
    "            return bool(obj)\n",
    "\n",
    "        elif isinstance(obj, (np.void)): \n",
    "            return None\n",
    "\n",
    "        return json.JSONEncoder.default(self, obj)\n",
    "\n",
    "def persistent_memo(f):\n",
    "    memo = shelve.open(\"{}.cache\".format(f.__name__))\n",
    "    def wrapped(*args, **kwargs):\n",
    "        key = json.dumps((args, kwargs), sort_keys=True, cls=NumpyEncoder)\n",
    "        if key not in memo:\n",
    "            memo[key] = f(*args, **kwargs)\n",
    "        return memo[key]\n",
    "    return wrapped\n",
    "\n",
    "\n",
    "mungojerrie_path = \"mungojerrie/build/mungojerrie\"\n",
    "\n",
    "pattern = re.compile(rf\"PAC Probability for tol (\\d+(\\.\\d*)?) is: (?P<satprob>\\d+(\\.\\d*)?)±(?P<std>\\d+(\\.\\d*)?)\")\n",
    "\n",
    "@persistent_memo\n",
    "def estimate_pac_probability(epsilon: float, \n",
    "                             model: str, \n",
    "                             min_num_samples: int = 100, \n",
    "                             max_est_std: float = 1e-3,\n",
    "                             reward_type: str = \"multi-discount\", \n",
    "                             discount: float = 0.99999,\n",
    "                             gammaB: float = 0.99, \n",
    "                             learn=\"Q\", \n",
    "                             lr_decay: Optional[float] = None,\n",
    "                             ep_number: int = 100, \n",
    "                             ep_length: int = 30,\n",
    "                             tolerance=0.,\n",
    "                             model_params: Dict[str, Any] = None):\n",
    "    if model_params is None:\n",
    "        model_params = {}\n",
    "\n",
    "    with tempfile.NamedTemporaryFile(mode='w+') as tmp:\n",
    "        model_str = pathlib.Path(f\"{model}.prism\").read_text()\n",
    "        model_str = model_str.format(**model_params)\n",
    "        tmp.write(model_str)\n",
    "        tmp.flush()\n",
    "        output = subprocess.check_output(\n",
    "            [\n",
    "                mungojerrie_path, tmp.name, \n",
    "                \"--ltl-file\", f\"{model}.ltl\",\n",
    "                \"--est-pac\",\n",
    "                \"--reward-type\", reward_type, \n",
    "                \"--discount\", str(discount),\n",
    "                \"--gammaB\", str(gammaB),\n",
    "                \"--learn\", learn, \n",
    "                \"--tolerance\", str(tolerance), \n",
    "                \"--kkt-lr-decay\", str(lr_decay) if lr_decay is not None else \"-1\",\n",
    "                \"--ep-number\", str(ep_number),\n",
    "                \"--ep-length\", str(ep_length),\n",
    "                \"--est-pac-probability-min-samples\", str(min_num_samples),\n",
    "                \"--est-pac-max-std\", str(max_est_std),\n",
    "                \"--est-pac-epsilon\", str(epsilon),\n",
    "                # \"--seed\", str(2),\n",
    "            ], \n",
    "            stderr=subprocess.DEVNULL\n",
    "        )\n",
    "    output = output.decode(\"utf-8\")\n",
    "    match = pattern.search(output)\n",
    "    pac_prob = float(match.group(\"satprob\"))\n",
    "    pac_prob_std = float(match.group(\"std\"))\n",
    "    return pac_prob, pac_prob_std"
   ]
  },
  {
   "cell_type": "code",
   "execution_count": 14,
   "metadata": {},
   "outputs": [
    {
     "name": "stderr",
     "output_type": "stream",
     "text": [
      "100%|██████████| 100/100 [25:53<00:00, 15.54s/it]\n"
     ]
    }
   ],
   "source": [
    "def pac_prob_vs_ep_number(est_f, ep_numbers: List[int]):\n",
    "    return [est_f(ep_number=n) for n in ep_numbers]\n",
    "\n",
    "p2s = 1 - np.geomspace(0.1, 1e-5, num=5)\n",
    "ep_numbers = np.geomspace(1, 10**5, num=21, dtype=int)[1:]\n",
    "\n",
    "probs, errs = collections.defaultdict(list), collections.defaultdict(list)\n",
    "for p2, ep_number in tqdm.tqdm(list(itertools.product(p2s, ep_numbers))):\n",
    "    prob, err = estimate_pac_probability(\n",
    "        epsilon=1e-3, \n",
    "        model=\"models/gltl_paper_fig2\",\n",
    "        model_params=dict(P1=1,P2=p2),\n",
    "        max_est_std=1e-2, \n",
    "#         discount = 0.9999999,\n",
    "#         gammaB = 0.999, \n",
    "        lr_decay = 10,\n",
    "        ep_number=ep_number, \n",
    "        ep_length=10)\n",
    "    probs[p2].append(prob)\n",
    "    errs[p2].append(err)"
   ]
  },
  {
   "cell_type": "code",
   "execution_count": 43,
   "metadata": {},
   "outputs": [
    {
     "data": {
      "image/png": "[encoded data removed]",
      "text/plain": [
       "<Figure size 432x288 with 1 Axes>"
      ]
     },
     "metadata": {
      "needs_background": "light"
     },
     "output_type": "display_data"
    }
   ],
   "source": [
    "lines = []\n",
    "for p2 in p2s:\n",
    "    prob, err = map(np.array, (probs[p2], errs[p2]))\n",
    "    filler = plt.fill_between(ep_numbers, prob-err, prob+err, alpha=0.3)\n",
    "    eb = plt.errorbar(ep_numbers, prob, yerr=err)\n",
    "    lines.append((filler, eb))\n",
    "\n",
    "plt.gca().set_xscale(\"log\")\n",
    "plt.gca().set_xlabel(\"#samples\")\n",
    "plt.gca().set_ylabel(\"PAC probability\")\n",
    "\n",
    "plt.axhline(0.9, color=\"#000\", alpha=0.4, linestyle=\"--\")\n",
    "\n",
    "plt.legend(lines, p2s, title=\"$p_2$\")\n",
    "plt.show()"
   ]
  },
  {
   "cell_type": "code",
   "execution_count": 13,
   "metadata": {},
   "outputs": [
    {
     "data": {
      "text/plain": [
       "(1.0, 0.0)"
      ]
     },
     "execution_count": 13,
     "metadata": {},
     "output_type": "execute_result"
    }
   ],
   "source": [
    "estimate_pac_probability(\n",
    "    epsilon=1e-3, \n",
    "    model=\"models/gltl_paper_fig2\",\n",
    "    model_params=dict(P1=1,P2=0.99999),\n",
    "    max_est_std=1e-1, \n",
    "    lr_decay=10,\n",
    "    ep_length=10,\n",
    "    ep_number=10**5)"
   ]
  },
  {
   "cell_type": "code",
   "execution_count": 10,
   "metadata": {},
   "outputs": [
    {
     "data": {
      "text/plain": [
       "array([   10.        ,    26.82695795,    71.9685673 ,   193.06977289,\n",
       "         517.94746792,  1389.49549437,  3727.59372031, 10000.        ])"
      ]
     },
     "execution_count": 10,
     "metadata": {},
     "output_type": "execute_result"
    }
   ],
   "source": [
    "np.geomspace(10, 10000, num=8)"
   ]
  },
  {
   "cell_type": "code",
   "execution_count": null,
   "metadata": {},
   "outputs": [],
   "source": []
  }
 ],
 "metadata": {
  "kernelspec": {
   "display_name": "Python 3",
   "language": "python",
   "name": "python3"
  },
  "language_info": {
   "codemirror_mode": {
    "name": "ipython",
    "version": 3
   },
   "file_extension": ".py",
   "mimetype": "text/x-python",
   "name": "python",
   "nbconvert_exporter": "python",
   "pygments_lexer": "ipython3",
   "version": "3.6.8"
  }
 },
 "nbformat": 4,
 "nbformat_minor": 4
}
